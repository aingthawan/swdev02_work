{
 "cells": [
  {
   "cell_type": "markdown",
   "metadata": {},
   "source": [
    "try:\n",
    "    while True:\n",
    "        # get top row of Inverted_Index table\n",
    "        curr.execute(\"SELECT * FROM Inverted_Index LIMIT 1\")\n",
    "        x = curr.fetchall()\n",
    "        \n",
    "        if x is not None:\n",
    "                # delete that row\n",
    "            curr.execute(\"DELETE FROM Inverted_Index WHERE word = ?\", (x[0][0],))\n",
    "            word = x[0][0]\n",
    "            first_letter = word[0]\n",
    "\n",
    "            # check if first letter of word from a to z\n",
    "            if first_letter == 'a':\n",
    "                # insert row into a_Inverted_Index table\n",
    "                curr.execute(f\"INSERT INTO a_Inverted_Index VALUES {x[0]}\")\n",
    "                conn.commit()\n",
    "            elif first_letter == 'b':\n",
    "                curr.execute(f\"INSERT INTO b_Inverted_Index VALUES {x[0]}\")\n",
    "                conn.commit()\n",
    "            elif first_letter == 'c':\n",
    "                curr.execute(f\"INSERT INTO c_Inverted_Index VALUES {x[0]}\")\n",
    "                conn.commit()\n",
    "            elif first_letter == 'd':\n",
    "                curr.execute(f\"INSERT INTO d_Inverted_Index VALUES {x[0]}\")\n",
    "                conn.commit()\n",
    "            elif first_letter == 'e':\n",
    "                curr.execute(f\"INSERT INTO e_Inverted_Index VALUES {x[0]}\")\n",
    "                conn.commit()\n",
    "            elif first_letter == 'f':\n",
    "                curr.execute(f\"INSERT INTO f_Inverted_Index VALUES {x[0]}\")\n",
    "                conn.commit()\n",
    "            elif first_letter == 'h':\n",
    "                curr.execute(f\"INSERT INTO h_Inverted_Index VALUES {x[0]}\")\n",
    "                conn.commit()\n",
    "            elif first_letter == 'g':\n",
    "                curr.execute(f\"INSERT INTO g_Inverted_Index VALUES {x[0]}\")\n",
    "                conn.commit()\n",
    "            elif first_letter == 'i':\n",
    "                curr.execute(f\"INSERT INTO i_Inverted_Index VALUES {x[0]}\")\n",
    "                conn.commit()\n",
    "            elif first_letter == 'j':\n",
    "                curr.execute(f\"INSERT INTO j_Inverted_Index VALUES {x[0]}\")\n",
    "                conn.commit()\n",
    "            elif first_letter == 'k':\n",
    "                curr.execute(f\"INSERT INTO k_Inverted_Index VALUES {x[0]}\")\n",
    "                conn.commit()\n",
    "            elif first_letter == 'l':\n",
    "                curr.execute(f\"INSERT INTO l_Inverted_Index VALUES {x[0]}\")\n",
    "                conn.commit()\n",
    "            elif first_letter == 'm':\n",
    "                curr.execute(f\"INSERT INTO m_Inverted_Index VALUES {x[0]}\")\n",
    "                conn.commit()\n",
    "            elif first_letter == 'n':\n",
    "                curr.execute(f\"INSERT INTO n_Inverted_Index VALUES {x[0]}\")\n",
    "                conn.commit()\n",
    "            elif first_letter == 'o':\n",
    "                curr.execute(f\"INSERT INTO o_Inverted_Index VALUES {x[0]}\")\n",
    "                conn.commit()\n",
    "            elif first_letter == 'p':\n",
    "                curr.execute(f\"INSERT INTO p_Inverted_Index VALUES {x[0]}\")\n",
    "                conn.commit()\n",
    "            elif first_letter == 'q':\n",
    "                curr.execute(f\"INSERT INTO q_Inverted_Index VALUES {x[0]}\")\n",
    "                conn.commit()\n",
    "            elif first_letter == 'r':\n",
    "                curr.execute(f\"INSERT INTO r_Inverted_Index VALUES {x[0]}\")\n",
    "                conn.commit()\n",
    "            elif first_letter == 's':\n",
    "                curr.execute(f\"INSERT INTO s_Inverted_Index VALUES {x[0]}\")\n",
    "                conn.commit()\n",
    "            elif first_letter == 't':\n",
    "                curr.execute(f\"INSERT INTO t_Inverted_Index VALUES {x[0]}\")\n",
    "                conn.commit()\n",
    "            elif first_letter == 'u':\n",
    "                curr.execute(f\"INSERT INTO u_Inverted_Index VALUES {x[0]}\")\n",
    "                conn.commit()\n",
    "            elif first_letter == 'v':\n",
    "                curr.execute(f\"INSERT INTO v_Inverted_Index VALUES {x[0]}\")\n",
    "                conn.commit()\n",
    "            elif first_letter == 'w':\n",
    "                curr.execute(f\"INSERT INTO w_Inverted_Index VALUES {x[0]}\")\n",
    "                conn.commit()\n",
    "            elif first_letter == 'x':\n",
    "                curr.execute(f\"INSERT INTO x_Inverted_Index VALUES {x[0]}\")\n",
    "                conn.commit()\n",
    "            elif first_letter == 'y':\n",
    "                curr.execute(f\"INSERT INTO y_Inverted_Index VALUES {x[0]}\")\n",
    "                conn.commit()\n",
    "            elif first_letter == 'z':\n",
    "                curr.execute(f\"INSERT INTO z_Inverted_Index VALUES {x[0]}\")\n",
    "                conn.commit()\n",
    "            else:\n",
    "                curr.execute(f\"INSERT INTO other_Inverted_Index VALUES {x[0]}\")\n",
    "                conn.commit()\n",
    "\n",
    "\n",
    "        \n",
    "        else:\n",
    "            print(\"empty table\")\n",
    "            \n",
    "except KeyboardInterrupt:\n",
    "    print(\"exiting...\")\n",
    "    conn.close()"
   ]
  },
  {
   "cell_type": "code",
   "execution_count": 9,
   "metadata": {},
   "outputs": [],
   "source": [
    "import sqlite3\n",
    "\n",
    "# connect to the test database\n",
    "conn = sqlite3.connect('for_test copy.db')\n",
    "curr = conn.cursor()"
   ]
  },
  {
   "cell_type": "code",
   "execution_count": 3,
   "metadata": {},
   "outputs": [
    {
     "data": {
      "text/plain": [
       "<sqlite3.Cursor at 0x29bcedf1fc0>"
      ]
     },
     "execution_count": 3,
     "metadata": {},
     "output_type": "execute_result"
    }
   ],
   "source": [
    "curr.execute(f\"INSERT INTO Reference_Domain (Domain_Name, Ref_Count) VALUES ('test1.com', 1)\")\n",
    "curr.execute(f\"INSERT INTO Reference_Domain (Domain_Name, Ref_Count) VALUES ('test2.com', 1)\")"
   ]
  },
  {
   "cell_type": "code",
   "execution_count": 4,
   "metadata": {},
   "outputs": [],
   "source": [
    "conn.commit()"
   ]
  },
  {
   "cell_type": "code",
   "execution_count": 5,
   "metadata": {},
   "outputs": [],
   "source": [
    "curr.execute(f\"SELECT ref_count FROM Reference_Domain WHERE Domain_Name = 'test1.com'\")\n",
    "a = curr.fetchone()"
   ]
  },
  {
   "cell_type": "code",
   "execution_count": 7,
   "metadata": {},
   "outputs": [
    {
     "data": {
      "text/plain": [
       "1"
      ]
     },
     "execution_count": 7,
     "metadata": {},
     "output_type": "execute_result"
    }
   ],
   "source": [
    "a[0]"
   ]
  },
  {
   "cell_type": "code",
   "execution_count": 10,
   "metadata": {},
   "outputs": [
    {
     "data": {
      "text/plain": [
       "<sqlite3.Cursor at 0x29bcfa4d140>"
      ]
     },
     "execution_count": 10,
     "metadata": {},
     "output_type": "execute_result"
    }
   ],
   "source": [
    "# clear table Reference_Domain\n",
    "curr.execute(f\"DELETE FROM Reference_Domain\")"
   ]
  },
  {
   "cell_type": "code",
   "execution_count": 11,
   "metadata": {},
   "outputs": [],
   "source": [
    "conn.commit()"
   ]
  },
  {
   "cell_type": "code",
   "execution_count": 12,
   "metadata": {},
   "outputs": [],
   "source": [
    "conn.close()"
   ]
  },
  {
   "cell_type": "code",
   "execution_count": null,
   "metadata": {},
   "outputs": [],
   "source": []
  }
 ],
 "metadata": {
  "kernelspec": {
   "display_name": "Python 3",
   "language": "python",
   "name": "python3"
  },
  "language_info": {
   "codemirror_mode": {
    "name": "ipython",
    "version": 3
   },
   "file_extension": ".py",
   "mimetype": "text/x-python",
   "name": "python",
   "nbconvert_exporter": "python",
   "pygments_lexer": "ipython3",
   "version": "3.10.10"
  },
  "orig_nbformat": 4,
  "vscode": {
   "interpreter": {
    "hash": "29779eaeaa662f518a7c5365664c9c0d0a52b94abeecfec7b0ccc4fc94e18524"
   }
  }
 },
 "nbformat": 4,
 "nbformat_minor": 2
}
