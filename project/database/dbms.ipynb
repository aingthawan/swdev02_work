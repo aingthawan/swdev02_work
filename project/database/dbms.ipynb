{
 "cells": [
  {
   "cell_type": "code",
   "execution_count": 28,
   "metadata": {},
   "outputs": [],
   "source": [
    "import sqlite3"
   ]
  },
  {
   "cell_type": "code",
   "execution_count": 29,
   "metadata": {},
   "outputs": [],
   "source": [
    "# create a database connection\n",
    "conn = sqlite3.connect(\"database_elt_main.db\")\n",
    "curr = conn.cursor()"
   ]
  },
  {
   "cell_type": "code",
   "execution_count": 30,
   "metadata": {},
   "outputs": [
    {
     "ename": "IndexError",
     "evalue": "list index out of range",
     "output_type": "error",
     "traceback": [
      "\u001b[1;31m---------------------------------------------------------------------------\u001b[0m",
      "\u001b[1;31mIndexError\u001b[0m                                Traceback (most recent call last)",
      "Cell \u001b[1;32mIn[30], line 9\u001b[0m\n\u001b[0;32m      5\u001b[0m x \u001b[39m=\u001b[39m curr\u001b[39m.\u001b[39mfetchall()\n\u001b[0;32m      7\u001b[0m \u001b[39mif\u001b[39;00m x \u001b[39mis\u001b[39;00m \u001b[39mnot\u001b[39;00m \u001b[39mNone\u001b[39;00m:\n\u001b[0;32m      8\u001b[0m         \u001b[39m# delete that row\u001b[39;00m\n\u001b[1;32m----> 9\u001b[0m     curr\u001b[39m.\u001b[39mexecute(\u001b[39m\"\u001b[39m\u001b[39mDELETE FROM Inverted_Index WHERE word = ?\u001b[39m\u001b[39m\"\u001b[39m, (x[\u001b[39m0\u001b[39;49m][\u001b[39m0\u001b[39m],))\n\u001b[0;32m     10\u001b[0m     word \u001b[39m=\u001b[39m x[\u001b[39m0\u001b[39m][\u001b[39m0\u001b[39m]\n\u001b[0;32m     11\u001b[0m     first_letter \u001b[39m=\u001b[39m word[\u001b[39m0\u001b[39m]\n",
      "\u001b[1;31mIndexError\u001b[0m: list index out of range"
     ]
    }
   ],
   "source": [
    "try:\n",
    "    while True:\n",
    "        # get top row of Inverted_Index table\n",
    "        curr.execute(\"SELECT * FROM Inverted_Index LIMIT 1\")\n",
    "        x = curr.fetchall()\n",
    "        \n",
    "        if x is not None:\n",
    "                # delete that row\n",
    "            curr.execute(\"DELETE FROM Inverted_Index WHERE word = ?\", (x[0][0],))\n",
    "            word = x[0][0]\n",
    "            first_letter = word[0]\n",
    "\n",
    "            # check if first letter of word from a to z\n",
    "            if first_letter == 'a':\n",
    "                # insert row into a_Inverted_Index table\n",
    "                curr.execute(f\"INSERT INTO a_Inverted_Index VALUES {x[0]}\")\n",
    "                conn.commit()\n",
    "            elif first_letter == 'b':\n",
    "                curr.execute(f\"INSERT INTO b_Inverted_Index VALUES {x[0]}\")\n",
    "                conn.commit()\n",
    "            elif first_letter == 'c':\n",
    "                curr.execute(f\"INSERT INTO c_Inverted_Index VALUES {x[0]}\")\n",
    "                conn.commit()\n",
    "            elif first_letter == 'd':\n",
    "                curr.execute(f\"INSERT INTO d_Inverted_Index VALUES {x[0]}\")\n",
    "                conn.commit()\n",
    "            elif first_letter == 'e':\n",
    "                curr.execute(f\"INSERT INTO e_Inverted_Index VALUES {x[0]}\")\n",
    "                conn.commit()\n",
    "            elif first_letter == 'f':\n",
    "                curr.execute(f\"INSERT INTO f_Inverted_Index VALUES {x[0]}\")\n",
    "                conn.commit()\n",
    "            elif first_letter == 'h':\n",
    "                curr.execute(f\"INSERT INTO h_Inverted_Index VALUES {x[0]}\")\n",
    "                conn.commit()\n",
    "            elif first_letter == 'g':\n",
    "                curr.execute(f\"INSERT INTO g_Inverted_Index VALUES {x[0]}\")\n",
    "                conn.commit()\n",
    "            elif first_letter == 'i':\n",
    "                curr.execute(f\"INSERT INTO i_Inverted_Index VALUES {x[0]}\")\n",
    "                conn.commit()\n",
    "            elif first_letter == 'j':\n",
    "                curr.execute(f\"INSERT INTO j_Inverted_Index VALUES {x[0]}\")\n",
    "                conn.commit()\n",
    "            elif first_letter == 'k':\n",
    "                curr.execute(f\"INSERT INTO k_Inverted_Index VALUES {x[0]}\")\n",
    "                conn.commit()\n",
    "            elif first_letter == 'l':\n",
    "                curr.execute(f\"INSERT INTO l_Inverted_Index VALUES {x[0]}\")\n",
    "                conn.commit()\n",
    "            elif first_letter == 'm':\n",
    "                curr.execute(f\"INSERT INTO m_Inverted_Index VALUES {x[0]}\")\n",
    "                conn.commit()\n",
    "            elif first_letter == 'n':\n",
    "                curr.execute(f\"INSERT INTO n_Inverted_Index VALUES {x[0]}\")\n",
    "                conn.commit()\n",
    "            elif first_letter == 'o':\n",
    "                curr.execute(f\"INSERT INTO o_Inverted_Index VALUES {x[0]}\")\n",
    "                conn.commit()\n",
    "            elif first_letter == 'p':\n",
    "                curr.execute(f\"INSERT INTO p_Inverted_Index VALUES {x[0]}\")\n",
    "                conn.commit()\n",
    "            elif first_letter == 'q':\n",
    "                curr.execute(f\"INSERT INTO q_Inverted_Index VALUES {x[0]}\")\n",
    "                conn.commit()\n",
    "            elif first_letter == 'r':\n",
    "                curr.execute(f\"INSERT INTO r_Inverted_Index VALUES {x[0]}\")\n",
    "                conn.commit()\n",
    "            elif first_letter == 's':\n",
    "                curr.execute(f\"INSERT INTO s_Inverted_Index VALUES {x[0]}\")\n",
    "                conn.commit()\n",
    "            elif first_letter == 't':\n",
    "                curr.execute(f\"INSERT INTO t_Inverted_Index VALUES {x[0]}\")\n",
    "                conn.commit()\n",
    "            elif first_letter == 'u':\n",
    "                curr.execute(f\"INSERT INTO u_Inverted_Index VALUES {x[0]}\")\n",
    "                conn.commit()\n",
    "            elif first_letter == 'v':\n",
    "                curr.execute(f\"INSERT INTO v_Inverted_Index VALUES {x[0]}\")\n",
    "                conn.commit()\n",
    "            elif first_letter == 'w':\n",
    "                curr.execute(f\"INSERT INTO w_Inverted_Index VALUES {x[0]}\")\n",
    "                conn.commit()\n",
    "            elif first_letter == 'x':\n",
    "                curr.execute(f\"INSERT INTO x_Inverted_Index VALUES {x[0]}\")\n",
    "                conn.commit()\n",
    "            elif first_letter == 'y':\n",
    "                curr.execute(f\"INSERT INTO y_Inverted_Index VALUES {x[0]}\")\n",
    "                conn.commit()\n",
    "            elif first_letter == 'z':\n",
    "                curr.execute(f\"INSERT INTO z_Inverted_Index VALUES {x[0]}\")\n",
    "                conn.commit()\n",
    "            else:\n",
    "                curr.execute(f\"INSERT INTO other_Inverted_Index VALUES {x[0]}\")\n",
    "                conn.commit()\n",
    "\n",
    "\n",
    "        \n",
    "        else:\n",
    "            print(\"empty table\")\n",
    "            \n",
    "except KeyboardInterrupt:\n",
    "    print(\"exiting...\")\n",
    "    conn.close()"
   ]
  },
  {
   "cell_type": "code",
   "execution_count": null,
   "metadata": {},
   "outputs": [],
   "source": []
  }
 ],
 "metadata": {
  "kernelspec": {
   "display_name": "Python 3",
   "language": "python",
   "name": "python3"
  },
  "language_info": {
   "codemirror_mode": {
    "name": "ipython",
    "version": 3
   },
   "file_extension": ".py",
   "mimetype": "text/x-python",
   "name": "python",
   "nbconvert_exporter": "python",
   "pygments_lexer": "ipython3",
   "version": "3.10.10"
  },
  "orig_nbformat": 4,
  "vscode": {
   "interpreter": {
    "hash": "29779eaeaa662f518a7c5365664c9c0d0a52b94abeecfec7b0ccc4fc94e18524"
   }
  }
 },
 "nbformat": 4,
 "nbformat_minor": 2
}
