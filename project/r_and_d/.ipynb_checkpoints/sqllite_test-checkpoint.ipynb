{
 "cells": [
  {
   "cell_type": "code",
   "execution_count": 31,
   "id": "d3d7d53d-a087-42ef-8243-60231c20aed6",
   "metadata": {},
   "outputs": [],
   "source": [
    "import sqlite3\n",
    "import json\n",
    "\n",
    "class data_manage():\n",
    "    def __init__(self, db_file):\n",
    "        self.connect_db(db_file)\n",
    "        self.create_table()\n",
    "        \n",
    "    def connect_db(self, db_file):\n",
    "        \"\"\"Connect to database\"\"\"\n",
    "        self.conn = sqlite3.connect(db_file)\n",
    "        self.cursor = self.conn.cursor()\n",
    "    \n",
    "    def create_table(self):\n",
    "        \"\"\"Create table if doesn't exists (webData, domainRef, invertedIndex)\"\"\"\n",
    "        self.cursor.execute(\"CREATE TABLE IF NOT EXISTS webData (web_id INT, web_url TEXT)\")\n",
    "        self.conn.commit()\n",
    "        self.cursor.execute(\"CREATE TABLE IF NOT EXISTS domainRef (domain TEXT, ref_count INT)\")\n",
    "        self.conn.commit()\n",
    "        self.cursor.execute(\"CREATE TABLE IF NOT EXISTS invertedIndex (gram TEXT, docs_freq TEXT, id_dict TEXT)\")\n",
    "        self.conn.commit()\n",
    "        \n",
    "    def insert_webData(self, web_url):\n",
    "        \"\"\"Insert data into webData table, generate unique web_id\"\"\"\n",
    "        self.cursor.execute(\"SELECT MAX(web_id) FROM webData\")\n",
    "        max_id = self.cursor.fetchone()[0]\n",
    "        if max_id is None:\n",
    "            web_id = 1\n",
    "        else:\n",
    "            web_id = max_id + 1\n",
    "            \n",
    "        self.cursor.execute(\"INSERT INTO webData VALUES (?,?)\", (web_id, web_url))\n",
    "        self.conn.commit()\n",
    "        \n",
    "    def insert_domainRef(self, domain, ref_count):\n",
    "        \"\"\"Insert data into domainRef table\"\"\"\n",
    "        self.cursor.execute(\"INSERT INTO domainRef VALUES (?,?)\", (domain, ref_count))\n",
    "        self.conn.commit()\n",
    "\n",
    "    def insert_invertedIndex(self, gram, docs_freq, id_dict):\n",
    "        \"\"\"Insert data into invertedIndex table, support input id_dict as python dictionary\"\"\"\n",
    "        id_dict = json.dumps(id_dict)\n",
    "        self.cursor.execute(\"INSERT INTO invertedIndex VALUES (?,?,?)\", (gram, docs_freq, id_dict))\n",
    "        self.conn.commit()\n",
    "        \n",
    "    def remove_webData(self, web_id):\n",
    "        \"\"\"Remove data from webData table by web_id\"\"\"\n",
    "        self.cursor.execute(\"DELETE FROM webData WHERE web_id = ?\", (web_id,))\n",
    "        self.conn.commit()\n",
    "        \n",
    "    def remove_domainRef(self, domain):\n",
    "        \"\"\"Remove data from domainRef table by domain\"\"\"\n",
    "        self.cursor.execute(\"DELETE FROM domainRef WHERE domain = ?\", (domain,))\n",
    "        self.conn.commit()\n",
    "        \n",
    "    def remove_invertedIndex(self, gram):\n",
    "        \"\"\"Remove data from invertedIndex table by gram\"\"\"\n",
    "        self.cursor.execute(\"DELETE FROM invertedIndex WHERE gram = ?\", (gram,))\n",
    "        self.conn.commit()\n",
    "    \n",
    "    def __del__(self):\n",
    "        \"\"\"close connection\"\"\"\n",
    "        self.conn.close()\n",
    "        "
   ]
  },
  {
   "cell_type": "code",
   "execution_count": 32,
   "id": "6fb4eed0-94d1-4dab-a125-d5c16ea95a3c",
   "metadata": {},
   "outputs": [],
   "source": [
    "dm = data_manage(\"webIndexing.db\")"
   ]
  },
  {
   "cell_type": "code",
   "execution_count": null,
   "id": "6cfff6c3-6f91-4b13-bc3e-3cc5c3712f2a",
   "metadata": {},
   "outputs": [],
   "source": []
  }
 ],
 "metadata": {
  "kernelspec": {
   "display_name": "Python 3 (ipykernel)",
   "language": "python",
   "name": "python3"
  },
  "language_info": {
   "codemirror_mode": {
    "name": "ipython",
    "version": 3
   },
   "file_extension": ".py",
   "mimetype": "text/x-python",
   "name": "python",
   "nbconvert_exporter": "python",
   "pygments_lexer": "ipython3",
   "version": "3.9.13"
  }
 },
 "nbformat": 4,
 "nbformat_minor": 5
}
