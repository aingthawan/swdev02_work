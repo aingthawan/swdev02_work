{
 "cells": [
  {
   "cell_type": "code",
   "execution_count": null,
   "metadata": {},
   "outputs": [],
   "source": []
  },
  {
   "cell_type": "code",
   "execution_count": null,
   "metadata": {},
   "outputs": [],
   "source": [
    "import requests"
   ]
  },
  {
   "cell_type": "code",
   "execution_count": null,
   "metadata": {},
   "outputs": [],
   "source": [
    "raw_html = requests.get(url)"
   ]
  },
  {
   "cell_type": "code",
   "execution_count": null,
   "metadata": {},
   "outputs": [],
   "source": [
    "import re\n",
    "\n",
    "regex = re.compile(r'<[^>]+>')\n",
    "\n",
    "def remove_html(string):\n",
    "    return regex.sub('', string)\n",
    "\n",
    "no_tag = remove_html(raw_html.text)"
   ]
  },
  {
   "cell_type": "code",
   "execution_count": 5,
   "metadata": {},
   "outputs": [],
   "source": [
    "import re\n",
    "from bs4 import BeautifulSoup\n",
    "import requests\n",
    "\n",
    "# url = \"https://en.wikipedia.org/wiki/Main_Page\"\n",
    "url = \"https://fstoppers.com/originals/5-ways-enhance-your-editing-results-626448\"\n",
    "\n",
    "# Get the raw HTML data\n",
    "response = requests.get(url)\n",
    "html = response.content\n",
    "\n",
    "# Create a BeautifulSoup object\n",
    "soup = BeautifulSoup(html, \"html.parser\")\n",
    "\n",
    "# Extract all the text from the HTML document\n",
    "text = soup.get_text()\n",
    "text = re.sub(r\"[^a-zA-Z0-9\\s]\", \"\", text)\n",
    "text = re.sub(r\"\\s+\", \" \", text)"
   ]
  },
  {
   "cell_type": "code",
   "execution_count": 6,
   "metadata": {},
   "outputs": [
    {
     "data": {
      "text/plain": [
       "' 5 Ways to Enhance Your Editing Results Fstoppers LatestNews Fstoppers Originals Trending Most Bookmarked All Categories Reviews StorePhotography Tutorials Photoshop Plugins CommunityRecent Activity Editors Picks Photo of the Day Popular Photos Discussion Groups Contests Loading Log In Sign Up Home Originals Sponsored 5 Ways to Enhance Your Editing Results by Illya Ovchar February 22 2023 3 Comments Sponsored FacebookTwitter 3 Comments When it comes to making great imagery postproduction is perhaps one of the most important steps that can make or break your image Sure you can master all elements to making an image but if you forget postproduction you will be stuck miles behind someone who knows how to edit In this article we will discuss ways how to get better results when editing In this ArticleGood Organization Means Easier Editing Use a Loupedeck to Work More Quickly and Simply Add a Graphics Tablet to Make Fine Work in Photoshop Easy Let Imagen Edit Your Photos for You in Minutes Calibrate Your Monitors to Achieve Ultimate Confidence Closing Thoughts Good Organization Means Easier Editing The first step to enhancing your postproduction results is organizing your images This is the one step that a lot of photographers skip for no apparent reason While you might start off with just storing your pictures in one folder or in random locations it will soon become a giant mess I know very well how annoying it can be to sit and move files around but trust me that it will do wonders in the future The effort you take to organize your images now will pay off later when you have to go back to the shoot or just find a particular file This will have an effect on your overall workflow as opposed to individual images but the improvement will be drastic In a future piece I will go in depth on how to properly structure your files and organize them in the most efficient way I know Use a Loupedeck to Work More Quickly and Simply Lets switch over to hardware for a second now Many photographers enjoy using the Loupedeck just because it prompts them to make more adjustments than they would normally And rightfully so with all controls at the tip of your fingers it is hard not to take advantage of this The moment I switched over to editing with the Loupedeck in Lightroom Classic it was a lifechanging device that saved me hours The Loupedeck is not a cheap product though which makes the second option more attractive for those of us who want to spend less but become faster Add a Graphics Tablet to Make Fine Work in Photoshop Easy I would struggle to find a photographer who hasnt heard of or tried Photoshop A lot of the work you do in Photoshop such as masking or selecting relies on the use of a graphics tablet Sure you can use a mouse but the difference is night and day after you switch over to a graphics tablet As humans are more used to holding a pen rather than a mouse it only makes sense to use a graphics tablet such as a Wacom to mask select and postprocess images The results will look much more refined and you will be able to do far more sophisticated and detailed edits simply by switching to a graphics tablet Although I no longer retouch my images I still love using this tool for annotations and quick adjustments so much so that when my hand gets tired from using a mouse I switch over to a Wacom Let Imagen Edit Your Photos for You in Minutes Unless youve been living under a rock youve heard of the big splashes AI has made in the photo industry Imagen is taking full advantage of this in their AIenabled postprocessing software which learns from your own editing style If youre a seasoned pro who is constantly manipulating your own presets for pictures Imagen is for you as it will take whatever your preferences are and learn to edit like it was you all along In other words what would take you a few hours is now as simple as clicking a few buttons While not perfect Imagen is almost always onpoint with the edits If you are not a seasoned pro just yet Imagen also has an offer for you They have partnered with some of the worlds leading photographers to produce unique style packs which you can apply to your own photography The great thing is it will still look like your own work rather than a copy of that photographers style because of the unique way Imagen processes the images When I tested Imagen I found it to be very efficient and found my editing to be effortless after a point Thinking back to my event days when I had to produce highvolume work I only wish I had Imagen to help me with this work It hurts me to think back to the days when I lost sleep because I had to edit hundreds of images individually with a 24hour turnaround Had I used Imagen I would have slept while the AI worked Calibrate Your Monitors to Achieve Ultimate Confidence Another way you can enhance your editing results is by using a wellcalibrated monitor Ive reviewed several monitors in the past and it made me appreciate just how valuable a wellcalibrated monitor is Not only do your eyes get a much more pleasant experience from working on such equipment but your confidence in the final image increases as well A lot of the time the client wants to get a precise color match between the image and the product This is exactly why whenever a client says that the colors dont match I simply show them the image on the monitor and the actual product Closing Thoughts So there you have it These are my top five ways to enhance your editing results now A wellorganized setup will help you keep track of the thousands of files you might be working with When editing individual pictures a graphics tablet paired with a Loupedeck will make for some good hardware improvements to enhance your editing outcomes Another piece of hardware worth looking into is a monitor calibration device Lastly using automation software such as Imagen will make sure you are able to save time produce better results and ultimately make yourself happier with photography Topics Fstoppers OriginalsSponsored 3 Comments About Illya Ovchar Follow illyaovcharcom Illya Ovchar is a fashion photographer based in Europe In his work Illya aims to tell stories with clothes and light Illyas work can be seen in magazines such as Vogue Marie Claire and InStyle Related Articles June 10 2020 Tired of Culling Taking up Your Precious Time Fstoppers Review Narrative Select an AIPowered Image Review Tool May 10 2021 AIBased Editing That Learns Your Style Fstoppers Reviews ImagenAI August 26 2022 Our First Look at Luminar Neo Noiseless AI August 11 2021 A Look at ASUS 2nd Generation Dual Screen Laptop Fstoppers Reviews the Zenbook Pro Duo 15 OLED December 29 2021 Is AI Technology the Future for Photographers February 17 2022 Luminar Neo Now Shipping We Review the Release Version Log in or register to post comments 3 Comments Black Z Eddie February 22 2023 For me its keyboard shortcuts and mouse button mapping for Capture One and Photoshop I can literally start adjusting the majority of the images without going to tabspanels and moving sliders Most of the adjustments I need especially to just set a base are literally at my fingertips As for the mouse buttons Capture One 1 Back button Pan Hand 2 Middle click Tab 2 which has the majority of the typical adjustments exposure white balance curves etc 3 DPI click Tab 3 Styles and Presets tab 0 0 George Pahountis Black Z Eddie February 22 2023 Unfortunately lightroom is behind on custom shortcuts for those who use C1 0 0 Naruto Uzumaki February 22 2023 For some longer key combination functions I tend to just bind them to a macro key on the keyboard Still using my ancient Logitech G510 due to the convenient macros same with the G700 mouse It is especially convenient for video editing since changes such as adding new nodes or various other basic functions can be bound to a macro key and with some of the extra buttons in the mouse I can bind one for certain timeline editing functions While keyboard and mouse were marketed for gaming the macros are not very useful for gaming other than when I was an admin for a L4D2 server where moderation controls could be assigned to the extra G keys but it is hard to beat having extra keys to have 1 button access to many common functions in photo and video editors as well as other basic stuff like binding them to favorite websites when using a web browser 1 0 Follow Fstoppers Instagram Facebook You Tube Twitter Pinterest RSS Support Fstoppers Trending Articles 5 Ways to Enhance Your Editing Results Are You Afraid of Photographing in Raw Dont Be Its Easier Than You Think Tackling the Frustrating Problems of the Photographers Eye 3 Mistakes to Avoid When Building a Career in Film or Photography We Review DxO PhotoLab and Why You Should Consider Swapping to It Essential Ways to Manage Your Photography Files Using Lightroom Classic Articles Latest News Gear Reviews Fstoppers Originals Community Editors Picks Photo of the Day Discussion Groups Photography Contests Store Photography Tutorials Photoshop Plugins About About Fstoppers Contact Us Advertise FAQs Instagram Facebook You Tube Twitter Pinterest RSS 2023 Fstoppers Terms and Conditions Privacy Policy '"
      ]
     },
     "execution_count": 6,
     "metadata": {},
     "output_type": "execute_result"
    }
   ],
   "source": [
    "text"
   ]
  },
  {
   "cell_type": "code",
   "execution_count": null,
   "metadata": {},
   "outputs": [],
   "source": []
  }
 ],
 "metadata": {
  "kernelspec": {
   "display_name": "Python 3",
   "language": "python",
   "name": "python3"
  },
  "language_info": {
   "codemirror_mode": {
    "name": "ipython",
    "version": 3
   },
   "file_extension": ".py",
   "mimetype": "text/x-python",
   "name": "python",
   "nbconvert_exporter": "python",
   "pygments_lexer": "ipython3",
   "version": "3.10.10"
  },
  "orig_nbformat": 4,
  "vscode": {
   "interpreter": {
    "hash": "29779eaeaa662f518a7c5365664c9c0d0a52b94abeecfec7b0ccc4fc94e18524"
   }
  }
 },
 "nbformat": 4,
 "nbformat_minor": 2
}
