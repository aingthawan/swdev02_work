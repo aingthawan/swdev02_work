{
 "cells": [
  {
   "cell_type": "code",
   "execution_count": 25,
   "id": "1b4a4974-d425-4f4f-abe0-0294883cda56",
   "metadata": {},
   "outputs": [
    {
     "name": "stdout",
     "output_type": "stream",
     "text": [
      "Creating Connection . . .\n",
      "Connceted\n",
      "Getting Data . . .\n",
      "Closing Connection . . .\n",
      "Disconnected\n"
     ]
    }
   ],
   "source": [
    "import mysql.connector\n",
    "import pandas as pd\n",
    "\n",
    "print(\"Creating Connection . . .\")\n",
    "db = mysql.connector.connect(\n",
    "    host=\"localhost\",\n",
    "    user=\"root\",\n",
    "    password=\"aingg\",\n",
    "    database=\"35mmc\"\n",
    ")\n",
    "curr = db.cursor()\n",
    "print(\"Connceted\")\n",
    "\n",
    "# Getting all rows\n",
    "print(\"Getting Data . . .\")\n",
    "curr.execute(\"SELECT * FROM 35mmc_raw_bk\")\n",
    "\n",
    "# fetch all\n",
    "result = curr.fetchall()\n",
    "# close connection\n",
    "print(\"Closing Connection . . .\")\n",
    "db.close()\n",
    "print(\"Disconnected\")"
   ]
  },
  {
   "cell_type": "code",
   "execution_count": 21,
   "id": "f62cabdb-ee37-418c-be46-0d530d23cc94",
   "metadata": {},
   "outputs": [
    {
     "data": {
      "text/plain": [
       "(1,\n",
       " 'Panorama Wide Pic Toy Camera Mini-Review – by Holly Gilman',\n",
       " 'https://www.35mmc.com/26/02/2021/panorama-wide-pic-review/',\n",
       " '\\n\\n \\n\\nPoint & Shoot\\nPanorama Wide Pic Toy Camera Mini-Review – by Holly Gilman\\nFebruary 26, 2021\\n\\n\\nLa')"
      ]
     },
     "execution_count": 21,
     "metadata": {},
     "output_type": "execute_result"
    }
   ],
   "source": [
    "# ID ,        Title,        URL,          RawHTML\n",
    "result[0][3], result[0][0], result[0][1], result[0][2][:100]"
   ]
  },
  {
   "cell_type": "code",
   "execution_count": null,
   "id": "b4899992-8be4-45ab-9d5a-33fc1d89a0f4",
   "metadata": {},
   "outputs": [],
   "source": []
  }
 ],
 "metadata": {
  "kernelspec": {
   "display_name": "Python 3 (ipykernel)",
   "language": "python",
   "name": "python3"
  },
  "language_info": {
   "codemirror_mode": {
    "name": "ipython",
    "version": 3
   },
   "file_extension": ".py",
   "mimetype": "text/x-python",
   "name": "python",
   "nbconvert_exporter": "python",
   "pygments_lexer": "ipython3",
   "version": "3.9.13"
  }
 },
 "nbformat": 4,
 "nbformat_minor": 5
}
