{
 "cells": [
  {
   "cell_type": "code",
   "execution_count": 11,
   "id": "17976370-382b-4233-a4fc-9d760f5919eb",
   "metadata": {},
   "outputs": [
    {
     "name": "stdout",
     "output_type": "stream",
     "text": [
      "Creating Connection . . .\n",
      "Connceted\n",
      "Getting Data . . .\n",
      "Closing Connection . . .\n",
      "Disconnected\n"
     ]
    },
    {
     "name": "stderr",
     "output_type": "stream",
     "text": [
      "100%|██████████| 1093/1093 [56:36<00:00,  3.11s/it] "
     ]
    },
    {
     "name": "stdout",
     "output_type": "stream",
     "text": [
      "Runtime :  3396.4911439418793  sec.\n"
     ]
    },
    {
     "name": "stderr",
     "output_type": "stream",
     "text": [
      "\n"
     ]
    }
   ],
   "source": [
    "import mysql.connector\n",
    "\n",
    "print(\"Creating Connection . . .\")\n",
    "db = mysql.connector.connect(\n",
    "    host=\"localhost\",\n",
    "    user=\"root\",\n",
    "    password=\"aingg\",\n",
    "    database=\"35mmc\"\n",
    ")\n",
    "curr = db.cursor()\n",
    "print(\"Connceted\")\n",
    "\n",
    "# Getting all rows\n",
    "print(\"Getting Data . . .\")\n",
    "curr.execute(\"SELECT * FROM 35mmc_raw_bk\")\n",
    "\n",
    "# fetch all\n",
    "rawResult = curr.fetchall()\n",
    "# close connection\n",
    "print(\"Closing Connection . . .\")\n",
    "db.close()\n",
    "print(\"Disconnected\")\n",
    "\n",
    "\n",
    "import re\n",
    "import spacy\n",
    "from nltk.corpus import stopwords\n",
    "\n",
    "class TextCleaner:\n",
    "    \"\"\"Designed for Inverted Indexing\"\"\"\n",
    "    def __init__(self):\n",
    "        self.nlp = spacy.load(\"en_core_web_sm\")\n",
    "        self.stop_words = set(stopwords.words('english'))\n",
    "\n",
    "    def normalize(self, raw_text):\n",
    "        \"\"\"Remove special characters and lowercase text\"\"\"\n",
    "        return re.sub(r\"(@[A-Za-z0-9]+)|([^0-9A-Za-z \\t])|(\\w+:\\/\\/\\S+)|^rt|http.+?\", \" \", raw_text.lower())\n",
    "\n",
    "    def remove_stopwords(self, raw_text):\n",
    "        \"\"\"Remove stopwords\"\"\"\n",
    "        words = [word for word in raw_text.split() if word not in self.stop_words]\n",
    "        return \" \".join(words)\n",
    "\n",
    "    def lemmatize(self, raw_text):\n",
    "        \"\"\"Perform lemmatization\"\"\"\n",
    "        doc = self.nlp(raw_text)\n",
    "        return [token.lemma_ for token in doc]\n",
    "\n",
    "    def clean(self, raw_text):\n",
    "        \"\"\"Clean text by normalizing, removing stopwords, and lemmatizing\"\"\"\n",
    "        raw_text = self.normalize(raw_text)\n",
    "        raw_text = self.remove_stopwords(raw_text)\n",
    "        return self.lemmatize(raw_text)   \n",
    "\n",
    "\n",
    "from collections import Counter\n",
    "from tqdm import tqdm\n",
    "import pandas as pd\n",
    "import time\n",
    "# from concurrent.futures import ThreadPoolExecutor\n",
    "\n",
    "start = time.time()\n",
    "\n",
    "\n",
    "invertedIndex = pd.DataFrame({'Gram':[], 'DocsFreq':[], 'DocsID_Dict':[]})\n",
    "invertedIndex['DocsFreq'] = invertedIndex['DocsFreq'].astype(int)\n",
    "\n",
    "# for i in tqdm(range(3)):\n",
    "for i in tqdm(range(len(rawResult))):\n",
    "    \n",
    "    # get cleaned token\n",
    "    text_cleaner = TextCleaner()\n",
    "    normalized_text = text_cleaner.normalize(rawResult[i][2])\n",
    "    no_stopwords_text = text_cleaner.remove_stopwords(normalized_text)\n",
    "    lemmatized_text = text_cleaner.lemmatize(no_stopwords_text)\n",
    "    \n",
    "    # get token frequency\n",
    "    freq_dict = Counter(lemmatized_text)\n",
    "    \n",
    "    for word in freq_dict:\n",
    "        # If token already exists in dataframe\n",
    "        if len(invertedIndex.loc[invertedIndex['Gram'] == word]) == 1:\n",
    "            invertedIndex.loc[invertedIndex['Gram'] == word]['DocsID_Dict'][0][rawResult[i][3]] = freq_dict[word]\n",
    "            invertedIndex.loc[invertedIndex['Gram'] == word, 'DocsFreq'] += 1\n",
    "        \n",
    "        # New Words\n",
    "        else:\n",
    "            test_gram = word\n",
    "            test_DocsFreq = 1\n",
    "            test_DocsID_Dict = {\n",
    "                rawResult[i][3] : freq_dict[word]\n",
    "            }\n",
    "            new_row = pd.DataFrame({'Gram':[test_gram], 'DocsFreq':[test_DocsFreq], 'DocsID_Dict':[test_DocsID_Dict]})\n",
    "            invertedIndex = pd.concat([invertedIndex, new_row])\n",
    "\n",
    "end = time.time()        \n",
    "\n",
    "print(\"Runtime : \", end-start, \" sec.\")"
   ]
  },
  {
   "cell_type": "markdown",
   "id": "5105d7ae-ce9a-4536-bbbf-da7bab858c4f",
   "metadata": {},
   "source": [
    "pd.set_option('display.max_rows', None)\n",
    "pd.set_option('display.max_columns', None)\n",
    "invertedIndex"
   ]
  },
  {
   "cell_type": "code",
   "execution_count": 14,
   "id": "6e0af0e9-3b2a-457e-a61c-8e29217d230a",
   "metadata": {},
   "outputs": [],
   "source": [
    "from pathlib import Path  \n",
    "\n",
    "# filepath = Path('webData.csv')  \n",
    "# filepath.parent.mkdir(parents=True, exist_ok=True)  \n",
    "# webData.to_csv(filepath)  \n",
    "\n",
    "filepath = Path('invertedIndex.csv')  \n",
    "filepath.parent.mkdir(parents=True, exist_ok=True)  \n",
    "invertedIndex.to_csv(filepath)  "
   ]
  },
  {
   "cell_type": "markdown",
   "id": "bfea2739-02dc-47af-9a04-cbb6ead68e02",
   "metadata": {},
   "source": [
    "(end - start)/60"
   ]
  },
  {
   "cell_type": "code",
   "execution_count": 35,
   "id": "35126d93-fb9f-4bb8-bba8-34748ddd7d2e",
   "metadata": {},
   "outputs": [],
   "source": [
    "keyword = 'camera'\n",
    "contaninDocs1 = list(invertedIndex.loc[invertedIndex['Gram'] == keyword, 'DocsID_Dict'][0].keys())\n",
    "keyword = 'panorama'\n",
    "contaninDocs2 = list(invertedIndex.loc[invertedIndex['Gram'] == keyword, 'DocsID_Dict'][0].keys())\n",
    "\n",
    "\n",
    "invertedIndex.loc[invertedIndex['Gram'] == keyword, 'DocsID_Dict'][0].keys()"
   ]
  },
  {
   "cell_type": "code",
   "execution_count": null,
   "id": "badb1149-2372-4b26-b8af-2c7fc5365aee",
   "metadata": {},
   "outputs": [],
   "source": [
    "def get_common_data(lists):\n",
    "    # Initialize an empty set to store the common elements\n",
    "    common_data = set(lists[0])\n",
    "    # Iterate over the rest of the lists\n",
    "    for lst in lists[1:]:\n",
    "        # Update the set with the common elements of the current list and the set\n",
    "        common_data.intersection_update(set(lst))\n",
    "    return list(common_data)\n",
    "\n",
    "get_common_data([contaninDocs1, contaninDocs2])"
   ]
  },
  {
   "cell_type": "code",
   "execution_count": 21,
   "id": "234616d1-9c9f-4541-9fab-2cc024c77b9f",
   "metadata": {},
   "outputs": [],
   "source": [
    "if os.path.exists('webData.csv') == False:\n",
    "    df_webData = pd.DataFrame(columns=['id', 'url'])\n",
    "    df_webData.to_csv('webData.csv', index=False)"
   ]
  },
  {
   "cell_type": "code",
   "execution_count": 17,
   "id": "ac5f54bd-c001-4621-89f9-65098ac5fbbe",
   "metadata": {},
   "outputs": [],
   "source": [
    "import os\n",
    "import pandas as pd\n",
    "\n",
    "if os.path.exists('webData.csv') == False:\n",
    "    header = ['id','url']\n",
    "    with open('webData.csv', 'w') as f:\n",
    "        writer = csv.writer(f)\n",
    "        # write the header\n",
    "        writer.writerow(header)\n",
    "df_webData = pd.read_csv('webData.csv')"
   ]
  },
  {
   "cell_type": "code",
   "execution_count": 20,
   "id": "17613c01-542e-4912-b72f-fb3960227ccf",
   "metadata": {},
   "outputs": [
    {
     "data": {
      "text/html": [
       "<div>\n",
       "<style scoped>\n",
       "    .dataframe tbody tr th:only-of-type {\n",
       "        vertical-align: middle;\n",
       "    }\n",
       "\n",
       "    .dataframe tbody tr th {\n",
       "        vertical-align: top;\n",
       "    }\n",
       "\n",
       "    .dataframe thead th {\n",
       "        text-align: right;\n",
       "    }\n",
       "</style>\n",
       "<table border=\"1\" class=\"dataframe\">\n",
       "  <thead>\n",
       "    <tr style=\"text-align: right;\">\n",
       "      <th></th>\n",
       "      <th>id</th>\n",
       "      <th>url</th>\n",
       "    </tr>\n",
       "  </thead>\n",
       "  <tbody>\n",
       "  </tbody>\n",
       "</table>\n",
       "</div>"
      ],
      "text/plain": [
       "Empty DataFrame\n",
       "Columns: [id, url]\n",
       "Index: []"
      ]
     },
     "execution_count": 20,
     "metadata": {},
     "output_type": "execute_result"
    }
   ],
   "source": [
    "df_webData"
   ]
  },
  {
   "cell_type": "code",
   "execution_count": 31,
   "id": "37f1eab7-ff5b-447f-9508-d2233fb4a347",
   "metadata": {},
   "outputs": [],
   "source": [
    "import csv\n",
    "\n",
    "# function to check if a URL already exists in the file\n",
    "def check_url(file_path, url):\n",
    "    # open the CSV file for reading\n",
    "    with open(file_path, 'r') as file:\n",
    "        reader = csv.DictReader(file)\n",
    "        # iterate through the rows in the file\n",
    "        for row in reader:\n",
    "            # check if the URL already exists in the file\n",
    "            if row['url'] == url:\n",
    "                return True\n",
    "    return False\n",
    "\n",
    "# function to insert a new row into the file\n",
    "def insert_row(file_path, new_row):\n",
    "    # open the CSV file for reading\n",
    "    with open(file_path, 'r') as file:\n",
    "        reader = csv.DictReader(file)\n",
    "        # create a list to store the existing rows\n",
    "        rows = []\n",
    "        # iterate through the rows in the file\n",
    "        for row in reader:\n",
    "            # add the row to the list\n",
    "            rows.append(row)\n",
    "    # add the new row to the list of existing rows\n",
    "    rows.append(new_row)\n",
    "\n",
    "    # open the CSV file for writing\n",
    "    with open(file_path, 'w', newline='') as file:\n",
    "        fieldnames = ['id', 'url']\n",
    "        writer = csv.DictWriter(file, fieldnames=fieldnames)\n",
    "        # write the header row\n",
    "        writer.writeheader()\n",
    "        # write all the rows to the file\n",
    "        for row in rows:\n",
    "            writer.writerow(row)"
   ]
  },
  {
   "cell_type": "code",
   "execution_count": 33,
   "id": "11e6851e-c63d-4b93-920c-411e586f16f2",
   "metadata": {},
   "outputs": [
    {
     "ename": "FileNotFoundError",
     "evalue": "[Errno 2] No such file or directory: 'project\\\\legacy\\testFile.csv'",
     "output_type": "error",
     "traceback": [
      "\u001b[1;31m---------------------------------------------------------------------------\u001b[0m",
      "\u001b[1;31mFileNotFoundError\u001b[0m                         Traceback (most recent call last)",
      "\u001b[1;32m~\\AppData\\Local\\Temp\\ipykernel_14492\\138686569.py\u001b[0m in \u001b[0;36m<module>\u001b[1;34m\u001b[0m\n\u001b[0;32m      2\u001b[0m \u001b[1;33m\u001b[0m\u001b[0m\n\u001b[0;32m      3\u001b[0m \u001b[1;31m# check if the URL already exists in the file\u001b[0m\u001b[1;33m\u001b[0m\u001b[1;33m\u001b[0m\u001b[0m\n\u001b[1;32m----> 4\u001b[1;33m \u001b[1;32mif\u001b[0m \u001b[0mcheck_url\u001b[0m\u001b[1;33m(\u001b[0m\u001b[1;34m'project\\legacy\\testFile.csv'\u001b[0m\u001b[1;33m,\u001b[0m \u001b[0mnew_row\u001b[0m\u001b[1;33m[\u001b[0m\u001b[1;34m'url'\u001b[0m\u001b[1;33m]\u001b[0m\u001b[1;33m)\u001b[0m\u001b[1;33m:\u001b[0m\u001b[1;33m\u001b[0m\u001b[1;33m\u001b[0m\u001b[0m\n\u001b[0m\u001b[0;32m      5\u001b[0m     \u001b[0mprint\u001b[0m\u001b[1;33m(\u001b[0m\u001b[1;34m'URL already exists in file'\u001b[0m\u001b[1;33m)\u001b[0m\u001b[1;33m\u001b[0m\u001b[1;33m\u001b[0m\u001b[0m\n\u001b[0;32m      6\u001b[0m \u001b[1;32melse\u001b[0m\u001b[1;33m:\u001b[0m\u001b[1;33m\u001b[0m\u001b[1;33m\u001b[0m\u001b[0m\n",
      "\u001b[1;32m~\\AppData\\Local\\Temp\\ipykernel_14492\\2410545559.py\u001b[0m in \u001b[0;36mcheck_url\u001b[1;34m(file_path, url)\u001b[0m\n\u001b[0;32m      4\u001b[0m \u001b[1;32mdef\u001b[0m \u001b[0mcheck_url\u001b[0m\u001b[1;33m(\u001b[0m\u001b[0mfile_path\u001b[0m\u001b[1;33m,\u001b[0m \u001b[0murl\u001b[0m\u001b[1;33m)\u001b[0m\u001b[1;33m:\u001b[0m\u001b[1;33m\u001b[0m\u001b[1;33m\u001b[0m\u001b[0m\n\u001b[0;32m      5\u001b[0m     \u001b[1;31m# open the CSV file for reading\u001b[0m\u001b[1;33m\u001b[0m\u001b[1;33m\u001b[0m\u001b[0m\n\u001b[1;32m----> 6\u001b[1;33m     \u001b[1;32mwith\u001b[0m \u001b[0mopen\u001b[0m\u001b[1;33m(\u001b[0m\u001b[0mfile_path\u001b[0m\u001b[1;33m,\u001b[0m \u001b[1;34m'r'\u001b[0m\u001b[1;33m)\u001b[0m \u001b[1;32mas\u001b[0m \u001b[0mfile\u001b[0m\u001b[1;33m:\u001b[0m\u001b[1;33m\u001b[0m\u001b[1;33m\u001b[0m\u001b[0m\n\u001b[0m\u001b[0;32m      7\u001b[0m         \u001b[0mreader\u001b[0m \u001b[1;33m=\u001b[0m \u001b[0mcsv\u001b[0m\u001b[1;33m.\u001b[0m\u001b[0mDictReader\u001b[0m\u001b[1;33m(\u001b[0m\u001b[0mfile\u001b[0m\u001b[1;33m)\u001b[0m\u001b[1;33m\u001b[0m\u001b[1;33m\u001b[0m\u001b[0m\n\u001b[0;32m      8\u001b[0m         \u001b[1;31m# iterate through the rows in the file\u001b[0m\u001b[1;33m\u001b[0m\u001b[1;33m\u001b[0m\u001b[0m\n",
      "\u001b[1;31mFileNotFoundError\u001b[0m: [Errno 2] No such file or directory: 'project\\\\legacy\\testFile.csv'"
     ]
    }
   ],
   "source": [
    "new_row = {'id': '123', 'url': 'https://www.example.com'}\n",
    "\n",
    "# check if the URL already exists in the file\n",
    "if check_url('project\\legacy\\testFile.csv', new_row['url']):\n",
    "    print('URL already exists in file')\n",
    "else:\n",
    "    # insert the new row into the file\n",
    "    insert_row('project\\legacy\\testFile.csv', new_row)"
   ]
  },
  {
   "cell_type": "code",
   "execution_count": 48,
   "id": "dd917ffb-c498-4c4a-8e31-d622bfef6075",
   "metadata": {},
   "outputs": [],
   "source": [
    "dir_path = 'project/honmono/'"
   ]
  },
  {
   "cell_type": "code",
   "execution_count": 49,
   "id": "b5b368ac-c56c-4d5b-9630-d08a357344ae",
   "metadata": {},
   "outputs": [
    {
     "data": {
      "text/plain": [
       "'project/honmono/'"
      ]
     },
     "execution_count": 49,
     "metadata": {},
     "output_type": "execute_result"
    }
   ],
   "source": [
    "dir_path"
   ]
  },
  {
   "cell_type": "code",
   "execution_count": 51,
   "id": "e467b9b5-3a5e-4882-9c63-051d9bd25a13",
   "metadata": {},
   "outputs": [],
   "source": [
    "status = 0\n",
    "f = open(\"test.py\", \"w\")\n",
    "f.write(\"stat = \" + str(status))\n",
    "f.close()"
   ]
  },
  {
   "cell_type": "markdown",
   "id": "22513349-8139-4cab-ab62-1b2f4bf67168",
   "metadata": {},
   "source": [
    "# New webData with total terms"
   ]
  },
  {
   "cell_type": "code",
   "execution_count": 10,
   "id": "05b18059-8275-4d71-8dfa-6a539ec21bcf",
   "metadata": {},
   "outputs": [
    {
     "name": "stdout",
     "output_type": "stream",
     "text": [
      "Creating Connection . . .\n",
      "Connceted\n",
      "Getting Data . . .\n",
      "Closing Connection . . .\n",
      "Disconnected\n"
     ]
    }
   ],
   "source": [
    "import mysql.connector\n",
    "from collections import Counter\n",
    "from tqdm import tqdm\n",
    "import pandas as pd\n",
    "import time\n",
    "\n",
    "print(\"Creating Connection . . .\")\n",
    "db = mysql.connector.connect(\n",
    "    host=\"localhost\",\n",
    "    user=\"root\",\n",
    "    password=\"aingg\",\n",
    "    database=\"35mmc\"\n",
    ")\n",
    "curr = db.cursor()\n",
    "print(\"Connceted\")\n",
    "\n",
    "# Getting all rows\n",
    "print(\"Getting Data . . .\")\n",
    "curr.execute(\"SELECT * FROM 35mmc_raw_bk\")\n",
    "\n",
    "# fetch all\n",
    "rawResult = curr.fetchall()\n",
    "# close connection\n",
    "print(\"Closing Connection . . .\")\n",
    "db.close()\n",
    "print(\"Disconnected\")\n",
    "\n",
    "\n",
    "import re\n",
    "import spacy\n",
    "from nltk.corpus import stopwords\n",
    "\n",
    "class TextCleaner:\n",
    "    \"\"\"Designed for Inverted Indexing\"\"\"\n",
    "    def __init__(self):\n",
    "        self.nlp = spacy.load(\"en_core_web_sm\")\n",
    "        self.stop_words = set(stopwords.words('english'))\n",
    "\n",
    "    def normalize(self, raw_text):\n",
    "        \"\"\"Remove special characters and lowercase text\"\"\"\n",
    "        return re.sub(r\"(@[A-Za-z0-9]+)|([^0-9A-Za-z \\t])|(\\w+:\\/\\/\\S+)|^rt|http.+?\", \" \", raw_text.lower())\n",
    "\n",
    "    def remove_stopwords(self, raw_text):\n",
    "        \"\"\"Remove stopwords\"\"\"\n",
    "        words = [word for word in raw_text.split() if word not in self.stop_words]\n",
    "        return \" \".join(words)\n",
    "\n",
    "    def lemmatize(self, raw_text):\n",
    "        \"\"\"Perform lemmatization\"\"\"\n",
    "        doc = self.nlp(raw_text)\n",
    "        return [token.lemma_ for token in doc]\n",
    "\n",
    "    def clean(self, raw_text):\n",
    "        \"\"\"Clean text by normalizing, removing stopwords, and lemmatizing\"\"\"\n",
    "        raw_text = self.normalize(raw_text)\n",
    "        raw_text = self.remove_stopwords(raw_text)\n",
    "        return self.lemmatize(raw_text)   \n",
    "\n",
    "import re\n",
    "import spacy\n",
    "from nltk.corpus import stopwords\n",
    "\n",
    "class TextCleaner:\n",
    "    \"\"\"Designed for Inverted Indexing\"\"\"\n",
    "    def __init__(self):\n",
    "        self.nlp = spacy.load(\"en_core_web_sm\")\n",
    "        self.stop_words = set(stopwords.words('english'))\n",
    "\n",
    "    def normalize(self, raw_text):\n",
    "        \"\"\"Remove special characters and lowercase text\"\"\"\n",
    "        return re.sub(r\"(@[A-Za-z0-9]+)|([^0-9A-Za-z \\t])|(\\w+:\\/\\/\\S+)|^rt|http.+?\", \" \", raw_text.lower())\n",
    "\n",
    "    def remove_stopwords(self, raw_text):\n",
    "        \"\"\"Remove stopwords\"\"\"\n",
    "        words = [word for word in raw_text.split() if word not in self.stop_words]\n",
    "        return \" \".join(words)\n",
    "\n",
    "    def lemmatize(self, raw_text):\n",
    "        \"\"\"Perform lemmatization\"\"\"\n",
    "        doc = self.nlp(raw_text)\n",
    "        return [token.lemma_ for token in doc]\n",
    "\n",
    "    def clean(self, raw_text):\n",
    "        \"\"\"Clean text by normalizing, removing stopwords, and lemmatizing\"\"\"\n",
    "        raw_text = self.normalize(raw_text)\n",
    "        raw_text = self.remove_stopwords(raw_text)\n",
    "        return self.lemmatize(raw_text)   "
   ]
  },
  {
   "cell_type": "code",
   "execution_count": 11,
   "id": "fef44635-0237-42c8-88de-927b6603af5b",
   "metadata": {},
   "outputs": [],
   "source": [
    "dataf = pd.DataFrame({'ID':[], 'totalTerm':[], 'URL':[]})\n",
    "dataf['ID'] = dataf['ID'].astype(int)\n",
    "dataf['totalTerm'] = dataf['totalTerm'].astype(int)\n",
    "\n",
    "tc = TextCleaner()\n",
    "i = 1\n",
    "\n",
    "for data in rawResult:\n",
    "# for i in range(3):\n",
    "    total_terms = len(tc.clean(data[2]))\n",
    "    \n",
    "    new_row = pd.DataFrame({'ID':[i], 'totalTerm':[total_terms], 'URL':[data[1]]})\n",
    "    dataf = pd.concat([dataf, new_row])\n",
    "    i += 1\n",
    "    \n",
    "dataf.to_csv('webData_new.csv')"
   ]
  },
  {
   "cell_type": "code",
   "execution_count": 12,
   "id": "04788181-9cf3-4ee8-88d5-4dc6ffd93814",
   "metadata": {},
   "outputs": [
    {
     "data": {
      "text/html": [
       "<div>\n",
       "<style scoped>\n",
       "    .dataframe tbody tr th:only-of-type {\n",
       "        vertical-align: middle;\n",
       "    }\n",
       "\n",
       "    .dataframe tbody tr th {\n",
       "        vertical-align: top;\n",
       "    }\n",
       "\n",
       "    .dataframe thead th {\n",
       "        text-align: right;\n",
       "    }\n",
       "</style>\n",
       "<table border=\"1\" class=\"dataframe\">\n",
       "  <thead>\n",
       "    <tr style=\"text-align: right;\">\n",
       "      <th></th>\n",
       "      <th>ID</th>\n",
       "      <th>totalTerm</th>\n",
       "      <th>URL</th>\n",
       "    </tr>\n",
       "  </thead>\n",
       "  <tbody>\n",
       "    <tr>\n",
       "      <th>0</th>\n",
       "      <td>1</td>\n",
       "      <td>404</td>\n",
       "      <td>https://www.35mmc.com/26/02/2021/panorama-wide...</td>\n",
       "    </tr>\n",
       "    <tr>\n",
       "      <th>0</th>\n",
       "      <td>2</td>\n",
       "      <td>333</td>\n",
       "      <td>https://www.35mmc.com/20/05/2016/halina-af700-...</td>\n",
       "    </tr>\n",
       "    <tr>\n",
       "      <th>0</th>\n",
       "      <td>3</td>\n",
       "      <td>962</td>\n",
       "      <td>https://www.35mmc.com/15/08/2022/ricoh-mirai-o...</td>\n",
       "    </tr>\n",
       "    <tr>\n",
       "      <th>0</th>\n",
       "      <td>4</td>\n",
       "      <td>433</td>\n",
       "      <td>https://www.35mmc.com/28/10/2020/pf-micro-110-...</td>\n",
       "    </tr>\n",
       "    <tr>\n",
       "      <th>0</th>\n",
       "      <td>5</td>\n",
       "      <td>1279</td>\n",
       "      <td>https://www.35mmc.com/05/06/2020/fujifilm-zoom...</td>\n",
       "    </tr>\n",
       "    <tr>\n",
       "      <th>...</th>\n",
       "      <td>...</td>\n",
       "      <td>...</td>\n",
       "      <td>...</td>\n",
       "    </tr>\n",
       "    <tr>\n",
       "      <th>0</th>\n",
       "      <td>1089</td>\n",
       "      <td>472</td>\n",
       "      <td>https://www.35mmc.com/27/06/2018/olympus-mju-i...</td>\n",
       "    </tr>\n",
       "    <tr>\n",
       "      <th>0</th>\n",
       "      <td>1090</td>\n",
       "      <td>299</td>\n",
       "      <td>https://www.35mmc.com/16/12/2018/konica-z-up-1...</td>\n",
       "    </tr>\n",
       "    <tr>\n",
       "      <th>0</th>\n",
       "      <td>1091</td>\n",
       "      <td>579</td>\n",
       "      <td>https://www.35mmc.com/10/07/2015/konica-mermai...</td>\n",
       "    </tr>\n",
       "    <tr>\n",
       "      <th>0</th>\n",
       "      <td>1092</td>\n",
       "      <td>919</td>\n",
       "      <td>https://www.35mmc.com/14/12/2020/pentax-espio-...</td>\n",
       "    </tr>\n",
       "    <tr>\n",
       "      <th>0</th>\n",
       "      <td>1093</td>\n",
       "      <td>856</td>\n",
       "      <td>https://www.35mmc.com/12/05/2018/fuji-natura-s...</td>\n",
       "    </tr>\n",
       "  </tbody>\n",
       "</table>\n",
       "<p>1093 rows × 3 columns</p>\n",
       "</div>"
      ],
      "text/plain": [
       "      ID  totalTerm                                                URL\n",
       "0      1        404  https://www.35mmc.com/26/02/2021/panorama-wide...\n",
       "0      2        333  https://www.35mmc.com/20/05/2016/halina-af700-...\n",
       "0      3        962  https://www.35mmc.com/15/08/2022/ricoh-mirai-o...\n",
       "0      4        433  https://www.35mmc.com/28/10/2020/pf-micro-110-...\n",
       "0      5       1279  https://www.35mmc.com/05/06/2020/fujifilm-zoom...\n",
       "..   ...        ...                                                ...\n",
       "0   1089        472  https://www.35mmc.com/27/06/2018/olympus-mju-i...\n",
       "0   1090        299  https://www.35mmc.com/16/12/2018/konica-z-up-1...\n",
       "0   1091        579  https://www.35mmc.com/10/07/2015/konica-mermai...\n",
       "0   1092        919  https://www.35mmc.com/14/12/2020/pentax-espio-...\n",
       "0   1093        856  https://www.35mmc.com/12/05/2018/fuji-natura-s...\n",
       "\n",
       "[1093 rows x 3 columns]"
      ]
     },
     "execution_count": 12,
     "metadata": {},
     "output_type": "execute_result"
    }
   ],
   "source": [
    "dataf"
   ]
  },
  {
   "cell_type": "code",
   "execution_count": null,
   "id": "1cd7d826-a336-421f-a0d8-7235dbac5ccf",
   "metadata": {},
   "outputs": [],
   "source": []
  }
 ],
 "metadata": {
  "kernelspec": {
   "display_name": "Python 3 (ipykernel)",
   "language": "python",
   "name": "python3"
  },
  "language_info": {
   "codemirror_mode": {
    "name": "ipython",
    "version": 3
   },
   "file_extension": ".py",
   "mimetype": "text/x-python",
   "name": "python",
   "nbconvert_exporter": "python",
   "pygments_lexer": "ipython3",
   "version": "3.9.13"
  },
  "vscode": {
   "interpreter": {
    "hash": "29779eaeaa662f518a7c5365664c9c0d0a52b94abeecfec7b0ccc4fc94e18524"
   }
  }
 },
 "nbformat": 4,
 "nbformat_minor": 5
}
