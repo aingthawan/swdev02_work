{
 "cells": [
  {
   "cell_type": "code",
   "execution_count": 16,
   "id": "fc619137-d43f-4cd1-844f-4f35067dd0d1",
   "metadata": {},
   "outputs": [],
   "source": [
    "from ScrapeDataStatus import CurrentID"
   ]
  },
  {
   "cell_type": "code",
   "execution_count": 17,
   "id": "149aaa87-3504-4fe9-9d68-644d2ddb1a84",
   "metadata": {},
   "outputs": [
    {
     "data": {
      "text/plain": [
       "1"
      ]
     },
     "execution_count": 17,
     "metadata": {},
     "output_type": "execute_result"
    }
   ],
   "source": [
    "CurrentID"
   ]
  },
  {
   "cell_type": "code",
   "execution_count": 18,
   "id": "6b156f99-aa22-4122-bb7a-902b71c2d63b",
   "metadata": {},
   "outputs": [],
   "source": [
    "with open(\"ScrapeDataStatus.py\", \"w\") as f:\n",
    "    f.write(\"CurrentID = \" + str(3))"
   ]
  },
  {
   "cell_type": "code",
   "execution_count": null,
   "id": "a01c30f1-0f2f-4f12-8d2c-317bdf04241c",
   "metadata": {},
   "outputs": [],
   "source": []
  }
 ],
 "metadata": {
  "kernelspec": {
   "display_name": "Python 3 (ipykernel)",
   "language": "python",
   "name": "python3"
  },
  "language_info": {
   "codemirror_mode": {
    "name": "ipython",
    "version": 3
   },
   "file_extension": ".py",
   "mimetype": "text/x-python",
   "name": "python",
   "nbconvert_exporter": "python",
   "pygments_lexer": "ipython3",
   "version": "3.9.13"
  }
 },
 "nbformat": 4,
 "nbformat_minor": 5
}
