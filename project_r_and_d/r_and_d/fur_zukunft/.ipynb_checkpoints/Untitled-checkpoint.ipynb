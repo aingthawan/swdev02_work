{
 "cells": [
  {
   "cell_type": "code",
   "execution_count": 1,
   "id": "4e583ab6",
   "metadata": {},
   "outputs": [],
   "source": [
    "# File for LinkChecker \n",
    "# For checking URL accessibility, compare URL domain, check whether URL already scrape\n",
    "# Dev : Aingkk\n",
    "\n",
    "import sqlite3\n",
    "from urllib.parse import urlparse\n",
    "\n",
    "class LinkCheckers:\n",
    "    \"\"\"Class for working on URLs\"\"\"\n",
    "    \n",
    "    def __init__(self, database_file):\n",
    "        \"\"\"Input Database file\"\"\"\n",
    "        self.conn = sqlite3.connect(database_file)\n",
    "        self.cursor = self.conn.cursor()\n",
    "    \n",
    "    def alreadyScrape(self, url_to_check):\n",
    "        \"\"\"Check whether url already scrape, Return in True or false\"\"\"\n",
    "\n",
    "        # query_check = f\"SELECT * FROM Web_Data WHERE URL='{url_to_check}'\"\n",
    "        self.cursor.execute(f\"SELECT * FROM Web_Data WHERE URL='{url_to_check}'\")\n",
    "        result = self.cursor.fetchone()\n",
    "\n",
    "        if result:\n",
    "            return True\n",
    "        else:\n",
    "            return False\n",
    "\n",
    "    def checkAccessibility(self, url):\n",
    "        \"\"\"Check Whether URL is still accessible\"\"\"\n",
    "        try:\n",
    "            response = requests.get(url)\n",
    "            response.raise_for_status()\n",
    "            return True\n",
    "        except requests.exceptions.HTTPError as err:\n",
    "            return False\n",
    "\n",
    "    def compareDomains(self, url1, url2):\n",
    "        \"\"\"Compare two url domain\"\"\"\n",
    "        domain1 = urlparse(url1).hostname\n",
    "        domain2 = urlparse(url2).hostname\n",
    "        return domain1 == domain2\n",
    "    \n",
    "    # method for terminate the connection\n",
    "    def close(self):\n",
    "        \"\"\"Close the connection\"\"\"\n",
    "        # commit the changes\n",
    "        self.conn.commit()\n",
    "        self.conn.close"
   ]
  },
  {
   "cell_type": "code",
   "execution_count": 3,
   "id": "6ba794f9",
   "metadata": {},
   "outputs": [],
   "source": [
    "lc = LinkCheckers(\"mockdb.db\")"
   ]
  },
  {
   "cell_type": "code",
   "execution_count": 9,
   "id": "bfd3b5d6",
   "metadata": {},
   "outputs": [
    {
     "data": {
      "text/plain": [
       "True"
      ]
     },
     "execution_count": 9,
     "metadata": {},
     "output_type": "execute_result"
    }
   ],
   "source": [
    "lc.compareDomains(\"https://www.example.com\", \"https://www.example.com\")"
   ]
  },
  {
   "cell_type": "code",
   "execution_count": null,
   "id": "34529ad7",
   "metadata": {},
   "outputs": [],
   "source": []
  },
  {
   "cell_type": "code",
   "execution_count": 8,
   "id": "4495ace7",
   "metadata": {},
   "outputs": [
    {
     "data": {
      "text/plain": [
       "False"
      ]
     },
     "execution_count": 8,
     "metadata": {},
     "output_type": "execute_result"
    }
   ],
   "source": [
    "lc.compareDomains(\"https://www.example.com\", \"https://www.example.org\")"
   ]
  },
  {
   "cell_type": "code",
   "execution_count": null,
   "id": "8f132573",
   "metadata": {},
   "outputs": [],
   "source": []
  }
 ],
 "metadata": {
  "kernelspec": {
   "display_name": "Python 3 (ipykernel)",
   "language": "python",
   "name": "python3"
  },
  "language_info": {
   "codemirror_mode": {
    "name": "ipython",
    "version": 3
   },
   "file_extension": ".py",
   "mimetype": "text/x-python",
   "name": "python",
   "nbconvert_exporter": "python",
   "pygments_lexer": "ipython3",
   "version": "3.9.13"
  }
 },
 "nbformat": 4,
 "nbformat_minor": 5
}
