{
 "cells": [
  {
   "cell_type": "markdown",
   "id": "f28e9fdd-fd00-464a-a176-911a80cbc15d",
   "metadata": {},
   "source": [
    "# Getting Raw Data from database"
   ]
  },
  {
   "cell_type": "code",
   "execution_count": 2,
   "id": "d3ee3984-ca23-4024-94c5-244d1fc7eb45",
   "metadata": {},
   "outputs": [
    {
     "name": "stdout",
     "output_type": "stream",
     "text": [
      "Creating Connection . . .\n",
      "Connceted\n",
      "Getting Data . . .\n",
      "Closing Connection . . .\n",
      "Disconnected\n"
     ]
    }
   ],
   "source": [
    "import mysql.connector\n",
    "\n",
    "print(\"Creating Connection . . .\")\n",
    "db = mysql.connector.connect(\n",
    "    host=\"localhost\",\n",
    "    user=\"root\",\n",
    "    password=\"aingg\",\n",
    "    database=\"35mmc\"\n",
    ")\n",
    "curr = db.cursor()\n",
    "print(\"Connceted\")\n",
    "\n",
    "# Getting all rows\n",
    "print(\"Getting Data . . .\")\n",
    "curr.execute(\"SELECT * FROM 35mmc_raw_bk\")\n",
    "\n",
    "# fetch all\n",
    "rawResult = curr.fetchall()\n",
    "# close connection\n",
    "print(\"Closing Connection . . .\")\n",
    "db.close()\n",
    "print(\"Disconnected\")\n"
   ]
  },
  {
   "cell_type": "code",
   "execution_count": 2,
   "id": "9c181517-e60b-4d04-b338-bb473e1478d6",
   "metadata": {},
   "outputs": [
    {
     "data": {
      "text/plain": [
       "(1,\n",
       " 'Panorama Wide Pic Toy Camera Mini-Review – by Holly Gilman',\n",
       " 'https://www.35mmc.com/26/02/2021/panorama-wide-pic-review/',\n",
       " '\\n\\n \\n\\nPoint & Shoot\\nPanorama Wide Pic Toy Camera Mini-Review – by Holly Gilman\\nFebruary 26, 2021\\n\\n\\nLa')"
      ]
     },
     "execution_count": 2,
     "metadata": {},
     "output_type": "execute_result"
    }
   ],
   "source": [
    "# ID ,        Title,        URL,          RawHTML\n",
    "rawResult[0][3], rawResult[0][0], rawResult[0][1], rawResult[0][2][:100]"
   ]
  },
  {
   "cell_type": "markdown",
   "id": "b5c238c2-b2df-4097-8f4b-2b4682591181",
   "metadata": {},
   "source": [
    "# Function for cleaning - extracting - stemming - tokenizing "
   ]
  },
  {
   "cell_type": "code",
   "execution_count": 4,
   "id": "cb23114e-d5c2-403d-8930-26cbcbd3a57b",
   "metadata": {},
   "outputs": [],
   "source": [
    "import re\n",
    "import spacy\n",
    "from nltk.corpus import stopwords\n",
    "\n",
    "class TextCleaner:\n",
    "    def __init__(self):\n",
    "        self.nlp = spacy.load(\"en_core_web_sm\")\n",
    "        self.stop_words = set(stopwords.words('english'))\n",
    "\n",
    "    def normalize(self, raw_text):\n",
    "        \"\"\"Remove special characters and lowercase text\"\"\"\n",
    "        return re.sub(r\"(@[A-Za-z0-9]+)|([^0-9A-Za-z \\t])|(\\w+:\\/\\/\\S+)|^rt|http.+?\", \" \", raw_text.lower())\n",
    "\n",
    "    def remove_stopwords(self, raw_text):\n",
    "        \"\"\"Remove stopwords\"\"\"\n",
    "        words = [word for word in raw_text.split() if word not in self.stop_words]\n",
    "        return \" \".join(words)\n",
    "\n",
    "    def lemmatize(self, raw_text):\n",
    "        \"\"\"Perform lemmatization\"\"\"\n",
    "        doc = self.nlp(raw_text)\n",
    "        return [token.lemma_ for token in doc]\n",
    "\n",
    "    def clean(self, raw_text):\n",
    "        \"\"\"Clean text by normalizing, removing stopwords, and lemmatizing\"\"\"\n",
    "        raw_text = self.normalize(raw_text)\n",
    "        raw_text = self.remove_stopwords(raw_text)\n",
    "        return self.lemmatize(raw_text)"
   ]
  },
  {
   "cell_type": "markdown",
   "id": "7bbf0cd9-c9ea-4026-9bab-395ee8ac25d4",
   "metadata": {},
   "source": [
    "text_cleaner = TextCleaner()\n",
    "\n",
    "normalized_text = text_cleaner.normalize(raw_text)\n",
    "\n",
    "no_stopwords_text = text_cleaner.remove_stopwords(normalized_text)\n",
    "\n",
    "lemmatized_text = text_cleaner.lemmatize(no_stopwords_text)"
   ]
  },
  {
   "cell_type": "markdown",
   "id": "a4c3b165-de2d-4372-be63-9e4d126f6312",
   "metadata": {},
   "source": [
    "# Data Frame for ID and URLs"
   ]
  },
  {
   "cell_type": "code",
   "execution_count": 5,
   "id": "a0e6bc3b-004f-4ecb-8e17-a0ac73b711da",
   "metadata": {},
   "outputs": [
    {
     "data": {
      "text/html": [
       "<div>\n",
       "<style scoped>\n",
       "    .dataframe tbody tr th:only-of-type {\n",
       "        vertical-align: middle;\n",
       "    }\n",
       "\n",
       "    .dataframe tbody tr th {\n",
       "        vertical-align: top;\n",
       "    }\n",
       "\n",
       "    .dataframe thead th {\n",
       "        text-align: right;\n",
       "    }\n",
       "</style>\n",
       "<table border=\"1\" class=\"dataframe\">\n",
       "  <thead>\n",
       "    <tr style=\"text-align: right;\">\n",
       "      <th></th>\n",
       "      <th>ID</th>\n",
       "      <th>URL</th>\n",
       "    </tr>\n",
       "  </thead>\n",
       "  <tbody>\n",
       "  </tbody>\n",
       "</table>\n",
       "</div>"
      ],
      "text/plain": [
       "Empty DataFrame\n",
       "Columns: [ID, URL]\n",
       "Index: []"
      ]
     },
     "execution_count": 5,
     "metadata": {},
     "output_type": "execute_result"
    }
   ],
   "source": [
    "# Create New dataframe for web ID and URLs\n",
    "import pandas as pd\n",
    "\n",
    "webData = pd.DataFrame({'ID':[], 'URL':[]})\n",
    "webData['ID'] = webData['ID'].astype(int)\n",
    "webData['URL'] = webData['URL'].astype(str)\n",
    "webData"
   ]
  },
  {
   "cell_type": "code",
   "execution_count": 6,
   "id": "abc5cd40-411b-471e-b3f0-b816164dabed",
   "metadata": {},
   "outputs": [
    {
     "data": {
      "text/html": [
       "<div>\n",
       "<style scoped>\n",
       "    .dataframe tbody tr th:only-of-type {\n",
       "        vertical-align: middle;\n",
       "    }\n",
       "\n",
       "    .dataframe tbody tr th {\n",
       "        vertical-align: top;\n",
       "    }\n",
       "\n",
       "    .dataframe thead th {\n",
       "        text-align: right;\n",
       "    }\n",
       "</style>\n",
       "<table border=\"1\" class=\"dataframe\">\n",
       "  <thead>\n",
       "    <tr style=\"text-align: right;\">\n",
       "      <th></th>\n",
       "      <th>ID</th>\n",
       "      <th>URL</th>\n",
       "    </tr>\n",
       "  </thead>\n",
       "  <tbody>\n",
       "    <tr>\n",
       "      <th>0</th>\n",
       "      <td>1</td>\n",
       "      <td>https://www.35mmc.com/26/02/2021/panorama-wide...</td>\n",
       "    </tr>\n",
       "    <tr>\n",
       "      <th>0</th>\n",
       "      <td>2</td>\n",
       "      <td>https://www.35mmc.com/20/05/2016/halina-af700-...</td>\n",
       "    </tr>\n",
       "    <tr>\n",
       "      <th>0</th>\n",
       "      <td>3</td>\n",
       "      <td>https://www.35mmc.com/15/08/2022/ricoh-mirai-o...</td>\n",
       "    </tr>\n",
       "    <tr>\n",
       "      <th>0</th>\n",
       "      <td>4</td>\n",
       "      <td>https://www.35mmc.com/28/10/2020/pf-micro-110-...</td>\n",
       "    </tr>\n",
       "    <tr>\n",
       "      <th>0</th>\n",
       "      <td>5</td>\n",
       "      <td>https://www.35mmc.com/05/06/2020/fujifilm-zoom...</td>\n",
       "    </tr>\n",
       "    <tr>\n",
       "      <th>...</th>\n",
       "      <td>...</td>\n",
       "      <td>...</td>\n",
       "    </tr>\n",
       "    <tr>\n",
       "      <th>0</th>\n",
       "      <td>1089</td>\n",
       "      <td>https://www.35mmc.com/27/06/2018/olympus-mju-i...</td>\n",
       "    </tr>\n",
       "    <tr>\n",
       "      <th>0</th>\n",
       "      <td>1090</td>\n",
       "      <td>https://www.35mmc.com/16/12/2018/konica-z-up-1...</td>\n",
       "    </tr>\n",
       "    <tr>\n",
       "      <th>0</th>\n",
       "      <td>1091</td>\n",
       "      <td>https://www.35mmc.com/10/07/2015/konica-mermai...</td>\n",
       "    </tr>\n",
       "    <tr>\n",
       "      <th>0</th>\n",
       "      <td>1092</td>\n",
       "      <td>https://www.35mmc.com/14/12/2020/pentax-espio-...</td>\n",
       "    </tr>\n",
       "    <tr>\n",
       "      <th>0</th>\n",
       "      <td>1093</td>\n",
       "      <td>https://www.35mmc.com/12/05/2018/fuji-natura-s...</td>\n",
       "    </tr>\n",
       "  </tbody>\n",
       "</table>\n",
       "<p>1093 rows × 2 columns</p>\n",
       "</div>"
      ],
      "text/plain": [
       "      ID                                                URL\n",
       "0      1  https://www.35mmc.com/26/02/2021/panorama-wide...\n",
       "0      2  https://www.35mmc.com/20/05/2016/halina-af700-...\n",
       "0      3  https://www.35mmc.com/15/08/2022/ricoh-mirai-o...\n",
       "0      4  https://www.35mmc.com/28/10/2020/pf-micro-110-...\n",
       "0      5  https://www.35mmc.com/05/06/2020/fujifilm-zoom...\n",
       "..   ...                                                ...\n",
       "0   1089  https://www.35mmc.com/27/06/2018/olympus-mju-i...\n",
       "0   1090  https://www.35mmc.com/16/12/2018/konica-z-up-1...\n",
       "0   1091  https://www.35mmc.com/10/07/2015/konica-mermai...\n",
       "0   1092  https://www.35mmc.com/14/12/2020/pentax-espio-...\n",
       "0   1093  https://www.35mmc.com/12/05/2018/fuji-natura-s...\n",
       "\n",
       "[1093 rows x 2 columns]"
      ]
     },
     "execution_count": 6,
     "metadata": {},
     "output_type": "execute_result"
    }
   ],
   "source": [
    "for i in range(len(rawResult)):\n",
    "    new_row = pd.DataFrame({'ID':[rawResult[i][3]], 'URL':[rawResult[i][1]]})\n",
    "    webData = pd.concat([webData, new_row])\n",
    "webData    "
   ]
  },
  {
   "cell_type": "markdown",
   "id": "20afbace-c6cf-4953-9da4-e836d720f6a2",
   "metadata": {},
   "source": [
    "# Create Dataframe for Inverted Indexing"
   ]
  },
  {
   "cell_type": "markdown",
   "id": "b620a912-ceab-4ba8-b87a-ab59bb106c97",
   "metadata": {},
   "source": [
    "# Buggy Version\n",
    "\n",
    "from collections import Counter\n",
    "from tqdm import tqdm\n",
    "import pandas as pd\n",
    "\n",
    "invertedIndex = pd.DataFrame({'Gram':[], 'DocsFreq':[], 'DocsID_Dict':[]})\n",
    "invertedIndex['DocsFreq'] = invertedIndex['DocsFreq'].astype(int)\n",
    "\n",
    "# for i in tqdm(range(3)):\n",
    "for i in tqdm(range(len(rawResult))):\n",
    "    \n",
    "    # get cleaned token\n",
    "    text_cleaner = TextCleaner()\n",
    "    normalized_text = text_cleaner.normalize(rawResult[i][2])\n",
    "    no_stopwords_text = text_cleaner.remove_stopwords(normalized_text)\n",
    "    lemmatized_text = text_cleaner.lemmatize(no_stopwords_text)\n",
    "    \n",
    "    # get token frequency\n",
    "    freq_dict = Counter(lemmatized_text)\n",
    "    \n",
    "    for word in freq_dict:\n",
    "        # If token already exists in dataframe\n",
    "        if len(invertedIndex.loc[invertedIndex['Gram'] == word]) == 1:\n",
    "            invertedIndex.loc[invertedIndex['Gram'] == word]['DocsID_Dict'][0][i] = freq_dict[word]\n",
    "            invertedIndex.loc[invertedIndex['Gram'] == word, 'DocsFreq'] += 1\n",
    "        \n",
    "        # New Words\n",
    "        else:\n",
    "            test_gram = word\n",
    "            test_DocsFreq = 1\n",
    "            test_DocsID_Dict = {\n",
    "                rawResult[i][3] : freq_dict[word]\n",
    "            }\n",
    "            new_row = pd.DataFrame({'Gram':[test_gram], 'DocsFreq':[test_DocsFreq], 'DocsID_Dict':[test_DocsID_Dict]})\n",
    "            invertedIndex = pd.concat([invertedIndex, new_row])"
   ]
  },
  {
   "cell_type": "code",
   "execution_count": 1,
   "id": "7051fd7c-426e-4184-ab82-3ff8aeb9de07",
   "metadata": {},
   "outputs": [
    {
     "name": "stderr",
     "output_type": "stream",
     "text": [
      "  0%|          | 0/10 [00:00<?, ?it/s]\n"
     ]
    },
    {
     "ename": "NameError",
     "evalue": "name 'TextCleaner' is not defined",
     "output_type": "error",
     "traceback": [
      "\u001b[1;31m---------------------------------------------------------------------------\u001b[0m",
      "\u001b[1;31mNameError\u001b[0m                                 Traceback (most recent call last)",
      "\u001b[1;32m~\\AppData\\Local\\Temp\\ipykernel_2012\\1566104508.py\u001b[0m in \u001b[0;36m<module>\u001b[1;34m\u001b[0m\n\u001b[0;32m     10\u001b[0m \u001b[1;33m\u001b[0m\u001b[0m\n\u001b[0;32m     11\u001b[0m     \u001b[1;31m# get cleaned token\u001b[0m\u001b[1;33m\u001b[0m\u001b[1;33m\u001b[0m\u001b[0m\n\u001b[1;32m---> 12\u001b[1;33m     \u001b[0mtext_cleaner\u001b[0m \u001b[1;33m=\u001b[0m \u001b[0mTextCleaner\u001b[0m\u001b[1;33m(\u001b[0m\u001b[1;33m)\u001b[0m\u001b[1;33m\u001b[0m\u001b[1;33m\u001b[0m\u001b[0m\n\u001b[0m\u001b[0;32m     13\u001b[0m     \u001b[0mnormalized_text\u001b[0m \u001b[1;33m=\u001b[0m \u001b[0mtext_cleaner\u001b[0m\u001b[1;33m.\u001b[0m\u001b[0mnormalize\u001b[0m\u001b[1;33m(\u001b[0m\u001b[0mrawResult\u001b[0m\u001b[1;33m[\u001b[0m\u001b[0mi\u001b[0m\u001b[1;33m]\u001b[0m\u001b[1;33m[\u001b[0m\u001b[1;36m2\u001b[0m\u001b[1;33m]\u001b[0m\u001b[1;33m)\u001b[0m\u001b[1;33m\u001b[0m\u001b[1;33m\u001b[0m\u001b[0m\n\u001b[0;32m     14\u001b[0m     \u001b[0mno_stopwords_text\u001b[0m \u001b[1;33m=\u001b[0m \u001b[0mtext_cleaner\u001b[0m\u001b[1;33m.\u001b[0m\u001b[0mremove_stopwords\u001b[0m\u001b[1;33m(\u001b[0m\u001b[0mnormalized_text\u001b[0m\u001b[1;33m)\u001b[0m\u001b[1;33m\u001b[0m\u001b[1;33m\u001b[0m\u001b[0m\n",
      "\u001b[1;31mNameError\u001b[0m: name 'TextCleaner' is not defined"
     ]
    }
   ],
   "source": [
    "from collections import Counter\n",
    "from tqdm import tqdm\n",
    "import pandas as pd\n",
    "\n",
    "invertedIndex = pd.DataFrame({'Gram':[], 'DocsFreq':[], 'DocsID_Dict':[]})\n",
    "invertedIndex['DocsFreq'] = invertedIndex['DocsFreq'].astype(int)\n",
    "\n",
    "for i in tqdm(range(10)):\n",
    "# for i in tqdm(range(len(rawResult))):\n",
    "    \n",
    "    # get cleaned token\n",
    "    text_cleaner = TextCleaner()\n",
    "    normalized_text = text_cleaner.normalize(rawResult[i][2])\n",
    "    no_stopwords_text = text_cleaner.remove_stopwords(normalized_text)\n",
    "    lemmatized_text = text_cleaner.lemmatize(no_stopwords_text)\n",
    "    \n",
    "    # get token frequency\n",
    "    freq_dict = Counter(lemmatized_text)\n",
    "    \n",
    "    for word in freq_dict:\n",
    "        # If token already exists in dataframe\n",
    "        if len(invertedIndex.loc[invertedIndex['Gram'] == word]) == 1:\n",
    "            invertedIndex.loc[invertedIndex['Gram'] == word]['DocsID_Dict'][0][rawResult[i][3]] = freq_dict[word]\n",
    "            invertedIndex.loc[invertedIndex['Gram'] == word, 'DocsFreq'] += 1\n",
    "        \n",
    "        # New Words\n",
    "        else:\n",
    "            test_gram = word\n",
    "            test_DocsFreq = 1\n",
    "            test_DocsID_Dict = {\n",
    "                rawResult[i][3] : freq_dict[word]\n",
    "            }\n",
    "            new_row = pd.DataFrame({'Gram':[test_gram], 'DocsFreq':[test_DocsFreq], 'DocsID_Dict':[test_DocsID_Dict]})\n",
    "            invertedIndex = pd.concat([invertedIndex, new_row])\n",
    "\n",
    "invertedIndex"
   ]
  },
  {
   "cell_type": "code",
   "execution_count": null,
   "id": "84540b12-6f97-46ab-9c05-3e616096ca86",
   "metadata": {},
   "outputs": [],
   "source": [
    "from collections import Counter\n",
    "from concurrent.futures import ThreadPoolExecutor, as_completed\n",
    "from tqdm import tqdm\n",
    "import pandas as pd\n",
    "\n",
    "invertedIndex = pd.DataFrame({'Gram':[], 'DocsFreq':[], 'DocsID_Dict':[]})\n",
    "invertedIndex['DocsFreq'] = invertedIndex['DocsFreq'].astype(int)\n",
    "\n",
    "# function to process the tasks in parallel\n",
    "def process_task(rawResult_i):\n",
    "    text_cleaner = TextCleaner()\n",
    "    normalized_text = text_cleaner.normalize(rawResult_i[2])\n",
    "    no_stopwords_text = text_cleaner.remove_stopwords(normalized_text)\n",
    "    lemmatized_text = text_cleaner.lemmatize(no_stopwords_text)\n",
    "    freq_dict = Counter(lemmatized_text)\n",
    "    for word in freq_dict:\n",
    "        # If token already exists in dataframe\n",
    "        if len(invertedIndex.loc[invertedIndex['Gram'] == word]) == 1:\n",
    "            invertedIndex.loc[invertedIndex['Gram'] == word]['DocsID_Dict'][0][rawResult_i[3]] = freq_dict[word]\n",
    "            invertedIndex.loc[invertedIndex['Gram'] == word, 'DocsFreq'] += 1\n",
    "        \n",
    "        # New Words\n",
    "        else:\n",
    "            test_gram = word\n",
    "            test_DocsFreq = 1\n",
    "            test_DocsID_Dict = {\n",
    "                rawResult_i[3] : freq_dict[word]\n",
    "            }\n",
    "            new_row = pd.DataFrame({'Gram':[test_gram], 'DocsFreq':[test_DocsFreq], 'DocsID_Dict':[test_DocsID_Dict]})\n",
    "            invertedIndex = pd.concat([invertedIndex, new_row])\n",
    "    return invertedIndex\n",
    "\n",
    "# create a thread pool with 4 worker threads\n",
    "with ThreadPoolExecutor() as executor:\n",
    "    # submit the tasks to the thread pool\n",
    "    futures = [executor.submit(process_task, rawResult[i]) for i in range(len(rawResult))]\n",
    "    # wait for all tasks to complete\n",
    "    for f in tqdm(as_completed(futures), total=len(rawResult)):\n",
    "        f.result()\n"
   ]
  },
  {
   "cell_type": "markdown",
   "id": "71db9419-d156-444c-a71c-33659ea37b3a",
   "metadata": {},
   "source": [
    "# ID ,        Title,        URL,          RawHTML\n",
    "result[0][3], result[0][0], result[0][1], result[0][2][:100]"
   ]
  },
  {
   "cell_type": "markdown",
   "id": "cfbda6a4-73bd-4749-a43d-1279f235db04",
   "metadata": {},
   "source": [
    "pd.set_option('display.max_rows', None)\n",
    "pd.set_option('display.max_columns', None)\n",
    "invertedIndex"
   ]
  },
  {
   "cell_type": "code",
   "execution_count": 23,
   "id": "1bab158e-5197-4cba-acd5-4b3dce7bfc98",
   "metadata": {},
   "outputs": [],
   "source": [
    "from pathlib import Path  \n",
    "\n",
    "filepath = Path('webData.csv')  \n",
    "filepath.parent.mkdir(parents=True, exist_ok=True)  \n",
    "webData.to_csv(filepath)  \n",
    "\n",
    "filepath = Path('invertedIndex.csv')  \n",
    "filepath.parent.mkdir(parents=True, exist_ok=True)  \n",
    "invertedIndex.to_csv(filepath)  "
   ]
  },
  {
   "cell_type": "code",
   "execution_count": 29,
   "id": "2d4cf448-9ec2-4487-923d-662b9bf60637",
   "metadata": {},
   "outputs": [],
   "source": [
    "safe_data = invertedIndex"
   ]
  },
  {
   "cell_type": "code",
   "execution_count": null,
   "id": "d16e5de3-acd0-4ac6-b886-68831d27985c",
   "metadata": {},
   "outputs": [],
   "source": []
  }
 ],
 "metadata": {
  "kernelspec": {
   "display_name": "Python 3 (ipykernel)",
   "language": "python",
   "name": "python3"
  },
  "language_info": {
   "codemirror_mode": {
    "name": "ipython",
    "version": 3
   },
   "file_extension": ".py",
   "mimetype": "text/x-python",
   "name": "python",
   "nbconvert_exporter": "python",
   "pygments_lexer": "ipython3",
   "version": "3.9.13"
  }
 },
 "nbformat": 4,
 "nbformat_minor": 5
}
