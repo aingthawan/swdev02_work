{
 "cells": [
  {
   "cell_type": "markdown",
   "id": "84c613c2-a0cd-4784-bf6e-bad3bfbe118a",
   "metadata": {},
   "source": [
    "# Random Pandas"
   ]
  },
  {
   "cell_type": "code",
   "execution_count": 22,
   "id": "776706e5-aded-4879-beae-ac32a53b61be",
   "metadata": {},
   "outputs": [
    {
     "data": {
      "text/html": [
       "<div>\n",
       "<style scoped>\n",
       "    .dataframe tbody tr th:only-of-type {\n",
       "        vertical-align: middle;\n",
       "    }\n",
       "\n",
       "    .dataframe tbody tr th {\n",
       "        vertical-align: top;\n",
       "    }\n",
       "\n",
       "    .dataframe thead th {\n",
       "        text-align: right;\n",
       "    }\n",
       "</style>\n",
       "<table border=\"1\" class=\"dataframe\">\n",
       "  <thead>\n",
       "    <tr style=\"text-align: right;\">\n",
       "      <th></th>\n",
       "      <th>Gram</th>\n",
       "      <th>DocsFreq</th>\n",
       "      <th>DocsID_Dict</th>\n",
       "    </tr>\n",
       "  </thead>\n",
       "  <tbody>\n",
       "  </tbody>\n",
       "</table>\n",
       "</div>"
      ],
      "text/plain": [
       "Empty DataFrame\n",
       "Columns: [Gram, DocsFreq, DocsID_Dict]\n",
       "Index: []"
      ]
     },
     "execution_count": 22,
     "metadata": {},
     "output_type": "execute_result"
    }
   ],
   "source": [
    "import pandas as pd\n",
    "\n",
    "invertedIndex = pd.DataFrame({'Gram':[], 'DocsFreq':[], 'DocsID_Dict':[]})\n",
    "invertedIndex"
   ]
  },
  {
   "cell_type": "code",
   "execution_count": 23,
   "id": "bcc653a7-0ae6-4c04-8f2a-f69082bf4dab",
   "metadata": {},
   "outputs": [],
   "source": [
    "test_gram = \"hello\"\n",
    "test_DocsFreq = 99\n",
    "test_DocsID_Dict = {\n",
    "    10 : 50,\n",
    "    45 : 24,\n",
    "    5  : 33\n",
    "}"
   ]
  },
  {
   "cell_type": "code",
   "execution_count": 24,
   "id": "d70ea48e-ed75-4956-9a17-5a87ecc9db7b",
   "metadata": {},
   "outputs": [],
   "source": [
    "new_row = pd.DataFrame({'Gram':[test_gram], 'DocsFreq':[test_DocsFreq], 'DocsID_Dict':[test_DocsID_Dict]})"
   ]
  },
  {
   "cell_type": "code",
   "execution_count": 25,
   "id": "a9d07579-073c-4344-88bf-5735e88da2f7",
   "metadata": {},
   "outputs": [],
   "source": [
    "invertedIndex = pd.concat([invertedIndex, new_row])"
   ]
  },
  {
   "cell_type": "code",
   "execution_count": 26,
   "id": "c77926db-fcf0-4547-afe4-10a513edeb4c",
   "metadata": {},
   "outputs": [
    {
     "data": {
      "text/plain": [
       "Gram            object\n",
       "DocsFreq       float64\n",
       "DocsID_Dict     object\n",
       "dtype: object"
      ]
     },
     "execution_count": 26,
     "metadata": {},
     "output_type": "execute_result"
    }
   ],
   "source": [
    "invertedIndex.dtypes"
   ]
  },
  {
   "cell_type": "code",
   "execution_count": 27,
   "id": "abb31a6b-057f-4acd-933e-2be6266632de",
   "metadata": {},
   "outputs": [],
   "source": [
    "invertedIndex['DocsFreq'] = invertedIndex['DocsFreq'].astype(int)"
   ]
  },
  {
   "cell_type": "code",
   "execution_count": 28,
   "id": "5e267dcf-36e4-44ad-a381-d2a45fecc1a4",
   "metadata": {},
   "outputs": [
    {
     "data": {
      "text/html": [
       "<div>\n",
       "<style scoped>\n",
       "    .dataframe tbody tr th:only-of-type {\n",
       "        vertical-align: middle;\n",
       "    }\n",
       "\n",
       "    .dataframe tbody tr th {\n",
       "        vertical-align: top;\n",
       "    }\n",
       "\n",
       "    .dataframe thead th {\n",
       "        text-align: right;\n",
       "    }\n",
       "</style>\n",
       "<table border=\"1\" class=\"dataframe\">\n",
       "  <thead>\n",
       "    <tr style=\"text-align: right;\">\n",
       "      <th></th>\n",
       "      <th>Gram</th>\n",
       "      <th>DocsFreq</th>\n",
       "      <th>DocsID_Dict</th>\n",
       "    </tr>\n",
       "  </thead>\n",
       "  <tbody>\n",
       "    <tr>\n",
       "      <th>0</th>\n",
       "      <td>hello</td>\n",
       "      <td>99</td>\n",
       "      <td>{10: 50, 45: 24, 5: 33}</td>\n",
       "    </tr>\n",
       "  </tbody>\n",
       "</table>\n",
       "</div>"
      ],
      "text/plain": [
       "    Gram  DocsFreq              DocsID_Dict\n",
       "0  hello        99  {10: 50, 45: 24, 5: 33}"
      ]
     },
     "execution_count": 28,
     "metadata": {},
     "output_type": "execute_result"
    }
   ],
   "source": [
    "invertedIndex"
   ]
  },
  {
   "cell_type": "code",
   "execution_count": 29,
   "id": "0a2719d7-3d92-4454-bf3c-d34a5a1fa64d",
   "metadata": {},
   "outputs": [],
   "source": [
    "test_gram = \"sad\"\n",
    "test_DocsFreq = 666\n",
    "test_DocsID_Dict = {\n",
    "    10 : 50,\n",
    "    45 : 2,\n",
    "    5  : 3\n",
    "}\n",
    "new_row = pd.DataFrame({'Gram':[test_gram], 'DocsFreq':[test_DocsFreq], 'DocsID_Dict':[test_DocsID_Dict]})\n",
    "invertedIndex = pd.concat([invertedIndex, new_row])"
   ]
  },
  {
   "cell_type": "code",
   "execution_count": 30,
   "id": "18024454-8e05-4446-8c35-929effe56fa3",
   "metadata": {},
   "outputs": [
    {
     "data": {
      "text/html": [
       "<div>\n",
       "<style scoped>\n",
       "    .dataframe tbody tr th:only-of-type {\n",
       "        vertical-align: middle;\n",
       "    }\n",
       "\n",
       "    .dataframe tbody tr th {\n",
       "        vertical-align: top;\n",
       "    }\n",
       "\n",
       "    .dataframe thead th {\n",
       "        text-align: right;\n",
       "    }\n",
       "</style>\n",
       "<table border=\"1\" class=\"dataframe\">\n",
       "  <thead>\n",
       "    <tr style=\"text-align: right;\">\n",
       "      <th></th>\n",
       "      <th>Gram</th>\n",
       "      <th>DocsFreq</th>\n",
       "      <th>DocsID_Dict</th>\n",
       "    </tr>\n",
       "  </thead>\n",
       "  <tbody>\n",
       "    <tr>\n",
       "      <th>0</th>\n",
       "      <td>hello</td>\n",
       "      <td>99</td>\n",
       "      <td>{10: 50, 45: 24, 5: 33}</td>\n",
       "    </tr>\n",
       "    <tr>\n",
       "      <th>0</th>\n",
       "      <td>sad</td>\n",
       "      <td>666</td>\n",
       "      <td>{10: 50, 45: 2, 5: 3}</td>\n",
       "    </tr>\n",
       "  </tbody>\n",
       "</table>\n",
       "</div>"
      ],
      "text/plain": [
       "    Gram  DocsFreq              DocsID_Dict\n",
       "0  hello        99  {10: 50, 45: 24, 5: 33}\n",
       "0    sad       666    {10: 50, 45: 2, 5: 3}"
      ]
     },
     "execution_count": 30,
     "metadata": {},
     "output_type": "execute_result"
    }
   ],
   "source": [
    "invertedIndex"
   ]
  },
  {
   "cell_type": "code",
   "execution_count": 31,
   "id": "fc1690a3-61f2-46e8-819b-904d20946a37",
   "metadata": {},
   "outputs": [
    {
     "data": {
      "text/plain": [
       "0    {10: 50, 45: 24, 5: 33}\n",
       "Name: DocsID_Dict, dtype: object"
      ]
     },
     "execution_count": 31,
     "metadata": {},
     "output_type": "execute_result"
    }
   ],
   "source": [
    "invertedIndex.loc[invertedIndex['Gram'] == 'hello']['DocsID_Dict']"
   ]
  },
  {
   "cell_type": "code",
   "execution_count": 32,
   "id": "25bf3cef-1667-4888-8ac9-28f45d254f38",
   "metadata": {},
   "outputs": [
    {
     "data": {
      "text/plain": [
       "{10: 50, 45: 24, 5: 33}"
      ]
     },
     "execution_count": 32,
     "metadata": {},
     "output_type": "execute_result"
    }
   ],
   "source": [
    "invertedIndex.loc[invertedIndex['Gram'] == 'hello']['DocsID_Dict'][0]"
   ]
  },
  {
   "cell_type": "code",
   "execution_count": 33,
   "id": "d6213afe-0421-44c3-ab50-ddc84ddb0b8f",
   "metadata": {},
   "outputs": [
    {
     "name": "stdout",
     "output_type": "stream",
     "text": [
      "10 50\n",
      "45 24\n",
      "5 33\n"
     ]
    }
   ],
   "source": [
    "for i in invertedIndex.loc[invertedIndex['Gram'] == 'hello']['DocsID_Dict'][0]:\n",
    "    print(i, invertedIndex.loc[invertedIndex['Gram'] == 'hello']['DocsID_Dict'][0][i])"
   ]
  },
  {
   "cell_type": "code",
   "execution_count": 34,
   "id": "8e20f61e-0a9b-44c9-98e4-4107801e83e7",
   "metadata": {},
   "outputs": [
    {
     "data": {
      "text/plain": [
       "True"
      ]
     },
     "execution_count": 34,
     "metadata": {},
     "output_type": "execute_result"
    }
   ],
   "source": [
    "len(invertedIndex.loc[invertedIndex['Gram'] == 'Doc']) == 0"
   ]
  },
  {
   "cell_type": "code",
   "execution_count": 35,
   "id": "a82db217-55a7-4850-a5af-7efeef3a4c10",
   "metadata": {},
   "outputs": [],
   "source": [
    "invertedIndex.loc[invertedIndex['Gram'] == 'hello']['DocsID_Dict'][0][10000] = 10"
   ]
  },
  {
   "cell_type": "code",
   "execution_count": 36,
   "id": "8064642f-2396-4cf8-808c-172a05b049d5",
   "metadata": {},
   "outputs": [
    {
     "data": {
      "text/html": [
       "<div>\n",
       "<style scoped>\n",
       "    .dataframe tbody tr th:only-of-type {\n",
       "        vertical-align: middle;\n",
       "    }\n",
       "\n",
       "    .dataframe tbody tr th {\n",
       "        vertical-align: top;\n",
       "    }\n",
       "\n",
       "    .dataframe thead th {\n",
       "        text-align: right;\n",
       "    }\n",
       "</style>\n",
       "<table border=\"1\" class=\"dataframe\">\n",
       "  <thead>\n",
       "    <tr style=\"text-align: right;\">\n",
       "      <th></th>\n",
       "      <th>Gram</th>\n",
       "      <th>DocsFreq</th>\n",
       "      <th>DocsID_Dict</th>\n",
       "    </tr>\n",
       "  </thead>\n",
       "  <tbody>\n",
       "    <tr>\n",
       "      <th>0</th>\n",
       "      <td>hello</td>\n",
       "      <td>99</td>\n",
       "      <td>{10: 50, 45: 24, 5: 33, 10000: 10}</td>\n",
       "    </tr>\n",
       "    <tr>\n",
       "      <th>0</th>\n",
       "      <td>sad</td>\n",
       "      <td>666</td>\n",
       "      <td>{10: 50, 45: 2, 5: 3}</td>\n",
       "    </tr>\n",
       "  </tbody>\n",
       "</table>\n",
       "</div>"
      ],
      "text/plain": [
       "    Gram  DocsFreq                         DocsID_Dict\n",
       "0  hello        99  {10: 50, 45: 24, 5: 33, 10000: 10}\n",
       "0    sad       666               {10: 50, 45: 2, 5: 3}"
      ]
     },
     "execution_count": 36,
     "metadata": {},
     "output_type": "execute_result"
    }
   ],
   "source": [
    "invertedIndex"
   ]
  },
  {
   "cell_type": "code",
   "execution_count": 37,
   "id": "a530a1a8-ee67-42b1-806a-902c79b67706",
   "metadata": {},
   "outputs": [
    {
     "name": "stdout",
     "output_type": "stream",
     "text": [
      "\n",
      "     Gram  DocsFreq                         DocsID_Dict\n",
      "0  hello       100  {10: 50, 45: 24, 5: 33, 10000: 10}\n",
      "0    sad       666               {10: 50, 45: 2, 5: 3}\n"
     ]
    }
   ],
   "source": [
    "invertedIndex.loc[invertedIndex['Gram'] == 'hello', 'DocsFreq'] += 1\n",
    "\n",
    "print('\\n',invertedIndex)"
   ]
  },
  {
   "cell_type": "code",
   "execution_count": 38,
   "id": "edf2a493-a7f2-43a8-8ed5-cc20ddf8185a",
   "metadata": {},
   "outputs": [],
   "source": [
    "from pathlib import Path  \n",
    "filepath = Path('out.csv')  \n",
    "filepath.parent.mkdir(parents=True, exist_ok=True)  \n",
    "invertedIndex.to_csv(filepath)  "
   ]
  },
  {
   "cell_type": "code",
   "execution_count": 41,
   "id": "f7c06d4d-978d-4ead-81a7-668bdc201ae5",
   "metadata": {},
   "outputs": [
    {
     "data": {
      "text/plain": [
       "{10: 50, 45: 24, 5: 33, 10000: 10}"
      ]
     },
     "execution_count": 41,
     "metadata": {},
     "output_type": "execute_result"
    }
   ],
   "source": [
    "sorted(invertedIndex.loc[invertedIndex['Gram'] == 'hello']['DocsID_Dict'][0])\n",
    "invertedIndex.loc[invertedIndex['Gram'] == 'hello']['DocsID_Dict'][0]"
   ]
  },
  {
   "cell_type": "code",
   "execution_count": 42,
   "id": "11921bea-7de1-41e6-b672-b425a222e0ff",
   "metadata": {},
   "outputs": [
    {
     "name": "stdout",
     "output_type": "stream",
     "text": [
      "Creating Connection . . .\n",
      "Connceted\n",
      "Getting Data . . .\n",
      "Closing Connection . . .\n",
      "Disconnected\n"
     ]
    },
    {
     "ename": "NameError",
     "evalue": "name 'time' is not defined",
     "output_type": "error",
     "traceback": [
      "\u001b[1;31m---------------------------------------------------------------------------\u001b[0m",
      "\u001b[1;31mNameError\u001b[0m                                 Traceback (most recent call last)",
      "\u001b[1;32m~\\AppData\\Local\\Temp\\ipykernel_10112\\247460287.py\u001b[0m in \u001b[0;36m<module>\u001b[1;34m\u001b[0m\n\u001b[0;32m     56\u001b[0m \u001b[1;33m\u001b[0m\u001b[0m\n\u001b[0;32m     57\u001b[0m \u001b[1;33m\u001b[0m\u001b[0m\n\u001b[1;32m---> 58\u001b[1;33m \u001b[0mstart\u001b[0m \u001b[1;33m=\u001b[0m \u001b[0mtime\u001b[0m\u001b[1;33m.\u001b[0m\u001b[0mtime\u001b[0m\u001b[1;33m(\u001b[0m\u001b[1;33m)\u001b[0m\u001b[1;33m\u001b[0m\u001b[1;33m\u001b[0m\u001b[0m\n\u001b[0m\u001b[0;32m     59\u001b[0m \u001b[1;33m\u001b[0m\u001b[0m\n\u001b[0;32m     60\u001b[0m \u001b[1;33m\u001b[0m\u001b[0m\n",
      "\u001b[1;31mNameError\u001b[0m: name 'time' is not defined"
     ]
    }
   ],
   "source": [
    "import mysql.connector\n",
    "\n",
    "print(\"Creating Connection . . .\")\n",
    "db = mysql.connector.connect(\n",
    "    host=\"localhost\",\n",
    "    user=\"root\",\n",
    "    password=\"aingg\",\n",
    "    database=\"35mmc\"\n",
    ")\n",
    "curr = db.cursor()\n",
    "print(\"Connceted\")\n",
    "\n",
    "# Getting all rows\n",
    "print(\"Getting Data . . .\")\n",
    "curr.execute(\"SELECT * FROM 35mmc_raw_bk\")\n",
    "\n",
    "# fetch all\n",
    "rawResult = curr.fetchall()\n",
    "# close connection\n",
    "print(\"Closing Connection . . .\")\n",
    "db.close()\n",
    "print(\"Disconnected\")\n",
    "\n",
    "\n",
    "import re\n",
    "import spacy\n",
    "from nltk.corpus import stopwords\n",
    "\n",
    "class TextCleaner:\n",
    "    def __init__(self):\n",
    "        self.nlp = spacy.load(\"en_core_web_sm\")\n",
    "        self.stop_words = set(stopwords.words('english'))\n",
    "\n",
    "    def normalize(self, raw_text):\n",
    "        \"\"\"Remove special characters and lowercase text\"\"\"\n",
    "        return re.sub(r\"(@[A-Za-z0-9]+)|([^0-9A-Za-z \\t])|(\\w+:\\/\\/\\S+)|^rt|http.+?\", \" \", raw_text.lower())\n",
    "\n",
    "    def remove_stopwords(self, raw_text):\n",
    "        \"\"\"Remove stopwords\"\"\"\n",
    "        words = [word for word in raw_text.split() if word not in self.stop_words]\n",
    "        return \" \".join(words)\n",
    "\n",
    "    def lemmatize(self, raw_text):\n",
    "        \"\"\"Perform lemmatization\"\"\"\n",
    "        doc = self.nlp(raw_text)\n",
    "        return [token.lemma_ for token in doc]\n",
    "\n",
    "    def clean(self, raw_text):\n",
    "        \"\"\"Clean text by normalizing, removing stopwords, and lemmatizing\"\"\"\n",
    "        raw_text = self.normalize(raw_text)\n",
    "        raw_text = self.remove_stopwords(raw_text)\n",
    "        return self.lemmatize(raw_text)\n",
    "    \n",
    "\n",
    "    \n",
    "\n",
    "\n",
    "start = time.time()\n",
    "\n",
    "\n",
    "from concurrent.futures import ThreadPoolExecutor\n",
    "\n",
    "def process_text(i):\n",
    "    # get cleaned token\n",
    "    text_cleaner = TextCleaner()\n",
    "    normalized_text = text_cleaner.normalize(rawResult[i][2])\n",
    "    no_stopwords_text = text_cleaner.remove_stopwords(normalized_text)\n",
    "    lemmatized_text = text_cleaner.lemmatize(no_stopwords_text)\n",
    "\n",
    "    # get token frequency\n",
    "    freq_dict = Counter(lemmatized_text)\n",
    "\n",
    "    for word in freq_dict:\n",
    "        # If token already exists in dataframe\n",
    "        if len(invertedIndex.loc[invertedIndex['Gram'] == word]) == 1:\n",
    "            invertedIndex.loc[invertedIndex['Gram'] == word]['DocsID_Dict'][0][rawResult[i][3]] = freq_dict[word]\n",
    "            invertedIndex.loc[invertedIndex['Gram'] == word, 'DocsFreq'] += 1\n",
    "            sorted(invertedIndex.loc[invertedIndex['Gram'] == word]['DocsID_Dict'][0])\n",
    "\n",
    "        # New Words\n",
    "        else:\n",
    "            test_gram = word\n",
    "            test_DocsFreq = 1\n",
    "            test_DocsID_Dict = {\n",
    "                rawResult[i][3] : freq_dict[word]\n",
    "            }\n",
    "            new_row = pd.DataFrame({'Gram':[test_gram], 'DocsFreq':[test_DocsFreq], 'DocsID_Dict':[test_DocsID_Dict]})\n",
    "            invertedIndex = pd.concat([invertedIndex, new_row])\n",
    "\n",
    "with ThreadPoolExecutor() as executor:\n",
    "    for i in tqdm(range(10)):\n",
    "    # for i in tqdm(range(len(rawResult))):\n",
    "        executor.submit(process_text, i)\n",
    "\n",
    "\n",
    "\n",
    "end = time.time()        \n",
    "\n",
    "print(\"Runtime : \", end-start, \" sec.\")"
   ]
  },
  {
   "cell_type": "code",
   "execution_count": null,
   "id": "bb11a9f5-993c-4712-9630-c2c2ee0022aa",
   "metadata": {},
   "outputs": [],
   "source": []
  }
 ],
 "metadata": {
  "kernelspec": {
   "display_name": "Python 3 (ipykernel)",
   "language": "python",
   "name": "python3"
  },
  "language_info": {
   "codemirror_mode": {
    "name": "ipython",
    "version": 3
   },
   "file_extension": ".py",
   "mimetype": "text/x-python",
   "name": "python",
   "nbconvert_exporter": "python",
   "pygments_lexer": "ipython3",
   "version": "3.9.13"
  }
 },
 "nbformat": 4,
 "nbformat_minor": 5
}
