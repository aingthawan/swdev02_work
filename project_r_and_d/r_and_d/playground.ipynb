{
 "cells": [
  {
   "cell_type": "code",
   "execution_count": 1,
   "id": "149aaa87-3504-4fe9-9d68-644d2ddb1a84",
   "metadata": {},
   "outputs": [],
   "source": [
    "from ScrapeDataStatus import CurrentID\n",
    "\n",
    "class idClass():\n",
    "    def __init__(self, imported_variable):\n",
    "        self.current_var = imported_variable\n",
    "    \n",
    "    def get_current_id(self):\n",
    "        return self.current_var\n",
    "\n",
    "    def get_id(self):\n",
    "        self.current_var += 1\n",
    "        return self.current_var"
   ]
  },
  {
   "cell_type": "code",
   "execution_count": 2,
   "id": "0cdf938a-685e-4fb5-b124-b72d2f0994eb",
   "metadata": {},
   "outputs": [],
   "source": [
    "idc = idClass(CurrentID)"
   ]
  },
  {
   "cell_type": "code",
   "execution_count": 3,
   "id": "638df27a-cc1b-42fd-9fae-4de94848695c",
   "metadata": {},
   "outputs": [
    {
     "data": {
      "text/plain": [
       "6"
      ]
     },
     "execution_count": 3,
     "metadata": {},
     "output_type": "execute_result"
    }
   ],
   "source": [
    "idc.get_current_id()"
   ]
  },
  {
   "cell_type": "code",
   "execution_count": 4,
   "id": "5028b326-f822-406d-98b0-f9719d5bb12e",
   "metadata": {},
   "outputs": [
    {
     "data": {
      "text/plain": [
       "7"
      ]
     },
     "execution_count": 4,
     "metadata": {},
     "output_type": "execute_result"
    }
   ],
   "source": [
    "idc.get_id()"
   ]
  },
  {
   "cell_type": "code",
   "execution_count": 5,
   "id": "6b156f99-aa22-4122-bb7a-902b71c2d63b",
   "metadata": {},
   "outputs": [],
   "source": [
    "with open(\"ScrapeDataStatus.py\", \"w\") as f:\n",
    "    f.write(\"CurrentID = \" + str(idc.get_current_id()))"
   ]
  },
  {
   "cell_type": "code",
   "execution_count": null,
   "id": "a01c30f1-0f2f-4f12-8d2c-317bdf04241c",
   "metadata": {},
   "outputs": [],
   "source": []
  }
 ],
 "metadata": {
  "kernelspec": {
   "display_name": "Python 3 (ipykernel)",
   "language": "python",
   "name": "python3"
  },
  "language_info": {
   "codemirror_mode": {
    "name": "ipython",
    "version": 3
   },
   "file_extension": ".py",
   "mimetype": "text/x-python",
   "name": "python",
   "nbconvert_exporter": "python",
   "pygments_lexer": "ipython3",
   "version": "3.9.13"
  }
 },
 "nbformat": 4,
 "nbformat_minor": 5
}
