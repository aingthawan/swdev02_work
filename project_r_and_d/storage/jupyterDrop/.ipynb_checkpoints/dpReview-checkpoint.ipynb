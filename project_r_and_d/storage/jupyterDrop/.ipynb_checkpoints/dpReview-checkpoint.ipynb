{
 "cells": [
  {
   "cell_type": "code",
   "execution_count": 90,
   "id": "b7a97479",
   "metadata": {},
   "outputs": [],
   "source": [
    "import requests\n",
    "from bs4 import BeautifulSoup\n",
    "import pandas as pd"
   ]
  },
  {
   "cell_type": "code",
   "execution_count": 91,
   "id": "7b912225",
   "metadata": {},
   "outputs": [],
   "source": [
    "url = 'https://www.dpreview.com/products/cameras/all?page='"
   ]
  },
  {
   "cell_type": "code",
   "execution_count": 96,
   "id": "c9327892",
   "metadata": {},
   "outputs": [],
   "source": [
    "def dpReviewExtract(url):\n",
    "    camName = [] \n",
    "    shortInfo = [] \n",
    "    dateRel = []\n",
    "    ovURL = []\n",
    "    rvURL = []\n",
    "    \n",
    "    web_request = requests.get(url)\n",
    "    soup = BeautifulSoup(web_request.text, \"html.parser\")\n",
    "    all_body = soup.find_all('td', {'class':'product'})\n",
    "    for i in all_body:\n",
    "        # extract camera name\n",
    "        cameraName = i.find('div', {'class':'info'}).find('div', {'class':'name'}).find('a').text\n",
    "        releaseDate = i.find('div', {'class':'info'}).find('div', {'class':'announcementDate'}).text\n",
    "        \n",
    "        try:\n",
    "            shortSpecs = i.find('div', {'class':'info'}).find('div', {'class':'specs'}).text\n",
    "        except AttributeError:\n",
    "            shortSpecs = None\n",
    "            \n",
    "        try:\n",
    "            overviewURL = i.find('div', {'class':'info'}).find('div', {'class':'name'}).find('a')['href']\n",
    "        except AttributeError:\n",
    "            overviewURL = None\n",
    "        \n",
    "        try:\n",
    "            previewURL = i.find('div', {'class':'info'}).find('div', {'class':'review'}).find('a')['href']\n",
    "        except AttributeError:\n",
    "            previewURL = None\n",
    "        \n",
    "#         print(cameraName)\n",
    "#         print(releaseDate)\n",
    "#         print(shortSpecs)\n",
    "#         print(overviewURL)\n",
    "#         print(previewURL)\n",
    "        \n",
    "        camName.append(cameraName)\n",
    "        dateRel.append(releaseDate)\n",
    "        shortInfo.append(shortSpecs)\n",
    "        ovURL.append(overviewURL)\n",
    "        rvURL.append(previewURL)\n",
    "        \n",
    "    return infoToDataframe(camName, shortInfo, dateRel, ovURL, rvURL)\n",
    "        "
   ]
  },
  {
   "cell_type": "code",
   "execution_count": 97,
   "id": "2dc26ce9",
   "metadata": {},
   "outputs": [],
   "source": [
    "def infoToDataframe(name, info, date, overview, preview):\n",
    "    dataFrame = pd.DataFrame([name, info, date, overview, preview]).transpose()\n",
    "    dataFrame.columns = ['CameraName', 'Info', 'Date Release', 'Overview URL', 'Preview URL']\n",
    "    return dataFrame"
   ]
  },
  {
   "cell_type": "code",
   "execution_count": 110,
   "id": "bf729b3b",
   "metadata": {
    "scrolled": true
   },
   "outputs": [
    {
     "name": "stdout",
     "output_type": "stream",
     "text": [
      "Empty DataFrame\n",
      "Columns: []\n",
      "Index: []\n",
      "page1\n",
      "page2\n"
     ]
    }
   ],
   "source": [
    "outputDataframe = pd.DataFrame({})\n",
    "\n",
    "for i in range(2):\n",
    "    print('page' + str(i+1))\n",
    "    outputDataframe = pd.concat([outputDataframe, dpReviewExtract(url + str(i+1))])\n",
    "    "
   ]
  },
  {
   "cell_type": "code",
   "execution_count": null,
   "id": "991a6b31",
   "metadata": {},
   "outputs": [],
   "source": []
  }
 ],
 "metadata": {
  "kernelspec": {
   "display_name": "Python 3 (ipykernel)",
   "language": "python",
   "name": "python3"
  },
  "language_info": {
   "codemirror_mode": {
    "name": "ipython",
    "version": 3
   },
   "file_extension": ".py",
   "mimetype": "text/x-python",
   "name": "python",
   "nbconvert_exporter": "python",
   "pygments_lexer": "ipython3",
   "version": "3.9.13"
  }
 },
 "nbformat": 4,
 "nbformat_minor": 5
}
