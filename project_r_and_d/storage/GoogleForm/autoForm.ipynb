{
 "cells": [
  {
   "cell_type": "code",
   "execution_count": null,
   "id": "587f38a9-9f69-470f-8a88-d1e0c2296d28",
   "metadata": {},
   "outputs": [],
   "source": [
    "from selenium import webdriver\n",
    "from selenium.webdriver.common.keys import Keys\n",
    "# import bs4\n",
    "import time\n",
    "# import pandas as pd\n",
    "# import os\n",
    "from selenium.webdriver.common.by import By\n",
    "\n",
    "email = input(\"Enter your email : \")\n",
    "passwd = input(\"Enter your password : \")\n",
    "\n"
   ]
  },
  {
   "cell_type": "code",
   "execution_count": 2,
   "id": "8ddecbcd",
   "metadata": {},
   "outputs": [],
   "source": [
    "# function to open and navigate page to specific keyword\n",
    "# def openForm():\n",
    "# open chrome window\n",
    "driver = webdriver.Chrome()\n",
    "# go to google form\n",
    "driver.get('https://docs.google.com/forms/d/e/1FAIpQLSdpyoIcgQLrEhUuIN3Tqq7GkOYjArPIT3b7XNPF77d1mrbyHg/viewform')\n",
    "time.sleep(2)"
   ]
  },
  {
   "cell_type": "code",
   "execution_count": 3,
   "id": "4acc642e-6be2-4a82-b9a5-505e9f04f018",
   "metadata": {},
   "outputs": [],
   "source": [
    "# enter email\n",
    "curr = driver.find_element(By.XPATH, '/html/body/div[1]/div[1]/div[2]/div/c-wiz/div/div[2]/div/div[1]/div/form/span/section/div/div/div[1]/div/div[1]/div/div[1]/input')\n",
    "curr.send_keys(email)"
   ]
  },
  {
   "cell_type": "code",
   "execution_count": 4,
   "id": "b82e67a7-8df8-44de-889c-a8960eaa9bb9",
   "metadata": {},
   "outputs": [],
   "source": [
    "# /html/body/div[1]/div[1]/div[2]/div/c-wiz/div/div[2]/div/div[2]/div/div[1]/div/div/button\n",
    "curr = driver.find_element(By.XPATH, '/html/body/div[1]/div[1]/div[2]/div/c-wiz/div/div[2]/div/div[2]/div/div[1]/div/div/button')\n",
    "curr.click()"
   ]
  },
  {
   "cell_type": "code",
   "execution_count": null,
   "id": "088823c9-9ee9-40c8-a6a1-7dc375f04e3d",
   "metadata": {},
   "outputs": [],
   "source": [
    "# /html/body/div[1]/div[1]/div[2]/div/c-wiz/div/div[2]/div/div[1]/div/form/span/div[1]/div[1]/div/div/div/div/div[1]/div/div[1]\n",
    "time.sleep(4)\n",
    "curr = driver.find_element(By.XPATH, '/html/body/div[1]/div[1]/div[2]/div/c-wiz/div/div[2]/div/div[1]/div/form/span/div[1]/div[1]/div/div/div/div/div[1]/div/div[1]/input')\n",
    "curr.send_keys(passwd)"
   ]
  },
  {
   "cell_type": "code",
   "execution_count": null,
   "id": "c770d71c-ff60-4cec-8454-16ae1d6fa6a6",
   "metadata": {},
   "outputs": [],
   "source": [
    "# /html/body/div[1]/div[1]/div[2]/div/c-wiz/div/div[2]/div/div[2]/div/div[1]/div/div/button\n",
    "curr = driver.find_element(By.XPATH, '/html/body/div[1]/div[1]/div[2]/div/c-wiz/div/div[2]/div/div[2]/div/div[1]/div/div/button')\n",
    "curr.click()\n",
    "# time.sleep(4)"
   ]
  },
  {
   "cell_type": "code",
   "execution_count": null,
   "id": "bd8a58d9",
   "metadata": {},
   "outputs": [],
   "source": [
    "# /html/body/div/div[2]/form/div[2]/div/div[2]/div[1]/div/div/div[2]/div/div[1]/div/div[1]/input\n",
    "time.sleep(4)\n",
    "curr = driver.find_element('xpath', '/html/body/div/div[3]/form/div[2]/div/div[2]/div[1]/div/div/div[2]/div/div[1]/div/div[1]/input')\n",
    "curr.send_keys(\"Aing\")"
   ]
  },
  {
   "cell_type": "code",
   "execution_count": null,
   "id": "978b242d",
   "metadata": {},
   "outputs": [],
   "source": [
    "# /html/body/div/div[2]/form/div[2]/div/div[2]/div[2]/div/div/div[2]/div/div[1]/div/div[1]/input\n",
    "curr = driver.find_element('xpath', '/html/body/div/div[3]/form/div[2]/div/div[2]/div[2]/div/div/div[2]/div/div[1]/div/div[1]/input')\n",
    "curr.send_keys(\"KK\")"
   ]
  },
  {
   "cell_type": "code",
   "execution_count": null,
   "id": "4e9f3c34",
   "metadata": {},
   "outputs": [],
   "source": [
    "# /html/body/div/div[2]/form/div[2]/div/div[2]/div[3]/div/div/div[2]/div/div[1]/div/div[1]/input\n",
    "curr = driver.find_element('xpath', '/html/body/div/div[3]/form/div[2]/div/div[2]/div[3]/div/div/div[2]/div/div[1]/div/div[1]/input')\n",
    "curr.send_keys(\"1234567890\")"
   ]
  },
  {
   "cell_type": "code",
   "execution_count": null,
   "id": "558e69a7",
   "metadata": {},
   "outputs": [],
   "source": [
    "# next page\n",
    "# /html/body/div/div[2]/form/div[2]/div/div[3]/div[1]/div[1]/div/span\n",
    "curr = driver.find_element('xpath', '/html/body/div/div[3]/form/div[2]/div/div[3]/div[1]/div[1]/div/span')\n",
    "curr.click()\n",
    "time.sleep(2)"
   ]
  },
  {
   "cell_type": "code",
   "execution_count": null,
   "id": "1935bcfc",
   "metadata": {},
   "outputs": [],
   "source": [
    "# driver.execute_script(\"document.body.style.zoom='60%'\")"
   ]
  },
  {
   "cell_type": "code",
   "execution_count": null,
   "id": "f212e2d1",
   "metadata": {},
   "outputs": [],
   "source": [
    "# Enter date\n",
    "# date_field = driver.find_element_by_css_selector(\"#date-field-id\")\n",
    "curr = driver.find_element(By.CSS_SELECTOR, \".zHQkBf\")\n",
    "curr.send_keys(\"09-08-2007\")"
   ]
  },
  {
   "cell_type": "code",
   "execution_count": null,
   "id": "2df62f6e",
   "metadata": {},
   "outputs": [],
   "source": [
    "# Multiple Choice\n",
    "# /html/body/div[1]/div[2]/form/div[2]/div/div[2]/div[2]/div/div/div[2]/div/div[1]\n",
    "curr = driver.find_element(By.CLASS_NAME, 'vd3tt')\n",
    "curr.click()"
   ]
  },
  {
   "cell_type": "code",
   "execution_count": null,
   "id": "edc66147",
   "metadata": {},
   "outputs": [],
   "source": [
    "# next page\n",
    "# /html/body/div[1]/div[2]/form/div[2]/div/div[3]/div[1]/div[1]/div[2]/span\n",
    "curr = driver.find_element('xpath', '/html/body/div/div[3]/form/div[2]/div/div[3]/div[1]/div[1]/div[2]/span')\n",
    "curr.click()\n",
    "time.sleep(2)"
   ]
  },
  {
   "cell_type": "code",
   "execution_count": null,
   "id": "7c5e9a06",
   "metadata": {},
   "outputs": [],
   "source": [
    "# driver.execute_script(\"document.body.style.zoom='60%'\")"
   ]
  },
  {
   "cell_type": "code",
   "execution_count": null,
   "id": "1fa4a441",
   "metadata": {},
   "outputs": [],
   "source": [
    "# Ice Cream?\n",
    "curr = driver.find_element(By.CSS_SELECTOR, '.eU809d')\n",
    "curr.click()\n",
    "time.sleep(1)"
   ]
  },
  {
   "cell_type": "code",
   "execution_count": null,
   "id": "9a1006e9",
   "metadata": {},
   "outputs": [],
   "source": [
    "# /html/body/div[1]/div[2]/form/div[2]/div/div[2]/div[2]/div/div/div[2]/div/div[2]/div[3]\n",
    "thai_button = driver.find_element(By.XPATH, '/html/body/div/div[3]/form/div[2]/div/div[2]/div[2]/div/div/div[2]/div/div[2]/div[3]/span')\n",
    "thai_button.click()"
   ]
  },
  {
   "cell_type": "code",
   "execution_count": null,
   "id": "bfb874c8",
   "metadata": {},
   "outputs": [],
   "source": [
    "# น้ำ ๕ บาท\n",
    "thai_button = driver.find_element(By.CSS_SELECTOR, '.T5pZmf:nth-child(6) .vd3tt')\n",
    "thai_button.click()"
   ]
  },
  {
   "cell_type": "code",
   "execution_count": null,
   "id": "9bc78e72",
   "metadata": {},
   "outputs": [],
   "source": [
    "# ข้าวมันไก่ไม่เอาหนัง\n",
    "thai_button = driver.find_element(By.XPATH, '/html/body/div/div[3]/form/div[2]/div/div[2]/div[4]/div/div/div[2]/div/div[1]/div/div[2]/label[1]/div/div/div[2]')\n",
    "thai_button.click()\n",
    "thai_button = driver.find_element(By.XPATH, '/html/body/div/div[3]/form/div[2]/div/div[2]/div[4]/div/div/div[2]/div/div[1]/div/div[4]/label[2]/div/div/div[2]')\n",
    "thai_button.click()"
   ]
  },
  {
   "cell_type": "code",
   "execution_count": null,
   "id": "204e5b34",
   "metadata": {},
   "outputs": [],
   "source": [
    "# Submit\n",
    "# /html/body/div[1]/div[2]/form/div[2]/div/div[2]/div[4]/div/div/div[2]/div/div[1]/div/div[4]/label[2]/div/div\n",
    "thai_button = driver.find_element(By.CSS_SELECTOR, '.QvWxOd .Fxmcue')\n",
    "thai_button.click()\n",
    "time.sleep(2)\n",
    "driver.close()"
   ]
  },
  {
   "cell_type": "markdown",
   "id": "bb650ec6-48bf-408b-b5a6-7a1bfabf62ba",
   "metadata": {},
   "source": [
    "# Full"
   ]
  },
  {
   "cell_type": "code",
   "execution_count": 13,
   "id": "f39be127-ed4f-4174-83fc-046a105eea94",
   "metadata": {},
   "outputs": [],
   "source": [
    "from selenium import webdriver\n",
    "from selenium.webdriver.common.keys import Keys\n",
    "# import bs4\n",
    "import time\n",
    "# import pandas as pd\n",
    "# import os\n",
    "from selenium.webdriver.common.by import By\n",
    "\n",
    "# s6401012610042@email.kmutnb.ac.th\n",
    "# email = input(\"Enter your email : \")\n",
    "# passwd = input(\"Enter your password : \")\n",
    "\n",
    "\n",
    "# function to open and navigate page to specific keyword\n",
    "# def openForm():\n",
    "# open chrome window\n",
    "driver = webdriver.Chrome()\n",
    "# go to google form\n",
    "driver.get('https://docs.google.com/forms/d/e/1FAIpQLSdpyoIcgQLrEhUuIN3Tqq7GkOYjArPIT3b7XNPF77d1mrbyHg/viewform')\n",
    "time.sleep(2)\n",
    "\n",
    "# enter email\n",
    "curr = driver.find_element(By.XPATH, '/html/body/div[1]/div[1]/div[2]/div/c-wiz/div/div[2]/div/div[1]/div/form/span/section/div/div/div[1]/div/div[1]/div/div[1]/input')\n",
    "curr.send_keys(email)\n",
    "\n",
    "# /html/body/div[1]/div[1]/div[2]/div/c-wiz/div/div[2]/div/div[2]/div/div[1]/div/div/button\n",
    "curr = driver.find_element(By.XPATH, '/html/body/div[1]/div[1]/div[2]/div/c-wiz/div/div[2]/div/div[2]/div/div[1]/div/div/button')\n",
    "curr.click()\n",
    "\n",
    "# enter passwd\n",
    "time.sleep(5)\n",
    "curr = driver.find_element(By.XPATH, '/html/body/div[1]/div[1]/div[2]/div/c-wiz/div/div[2]/div/div[1]/div/form/span/div[1]/div[1]/div/div/div/div/div[1]/div/div[1]/input')\n",
    "curr.send_keys(passwd)\n",
    "\n",
    "# click next\n",
    "curr = driver.find_element(By.XPATH, '/html/body/div[1]/div[1]/div[2]/div/c-wiz/div/div[2]/div/div[2]/div/div[1]/div/div/button')\n",
    "curr.click()\n",
    "# time.sleep(4)\n",
    "\n",
    "# enter name\n",
    "time.sleep(6)\n",
    "curr = driver.find_element('xpath', '/html/body/div/div[3]/form/div[2]/div/div[2]/div[1]/div/div/div[2]/div/div[1]/div/div[1]/input')\n",
    "curr.send_keys(\"Aing\")\n",
    "\n",
    "# enter surname\n",
    "curr = driver.find_element('xpath', '/html/body/div/div[3]/form/div[2]/div/div[2]/div[2]/div/div/div[2]/div/div[1]/div/div[1]/input')\n",
    "curr.send_keys(\"KK\")\n",
    "\n",
    "# enter \n",
    "curr = driver.find_element('xpath', '/html/body/div/div[3]/form/div[2]/div/div[2]/div[3]/div/div/div[2]/div/div[1]/div/div[1]/input')\n",
    "curr.send_keys(\"1234567890\")\n",
    "\n",
    "# next page\n",
    "# /html/body/div/div[2]/form/div[2]/div/div[3]/div[1]/div[1]/div/span\n",
    "curr = driver.find_element('xpath', '/html/body/div/div[3]/form/div[2]/div/div[3]/div[1]/div[1]/div/span')\n",
    "curr.click()\n",
    "time.sleep(2)\n",
    "\n",
    "# Enter date\n",
    "# date_field = driver.find_element_by_css_selector(\"#date-field-id\")\n",
    "curr = driver.find_element(By.CSS_SELECTOR, \".zHQkBf\")\n",
    "curr.send_keys(\"09-08-2007\")\n",
    "\n",
    "# Multiple Choice\n",
    "# /html/body/div[1]/div[2]/form/div[2]/div/div[2]/div[2]/div/div/div[2]/div/div[1]\n",
    "curr = driver.find_element(By.CLASS_NAME, 'vd3tt')\n",
    "curr.click()\n",
    "\n",
    "# next page\n",
    "# /html/body/div[1]/div[2]/form/div[2]/div/div[3]/div[1]/div[1]/div[2]/span\n",
    "curr = driver.find_element('xpath', '/html/body/div/div[3]/form/div[2]/div/div[3]/div[1]/div[1]/div[2]/span')\n",
    "curr.click()\n",
    "time.sleep(2)\n",
    "\n",
    "# Ice Cream?\n",
    "curr = driver.find_element(By.CSS_SELECTOR, '.eU809d')\n",
    "curr.click()\n",
    "time.sleep(1)\n",
    "\n",
    "# /html/body/div[1]/div[2]/form/div[2]/div/div[2]/div[2]/div/div/div[2]/div/div[2]/div[3]\n",
    "thai_button = driver.find_element(By.XPATH, '/html/body/div/div[3]/form/div[2]/div/div[2]/div[2]/div/div/div[2]/div/div[2]/div[3]/span')\n",
    "thai_button.click()\n",
    "\n",
    "# น้ำ ๕ บาท\n",
    "thai_button = driver.find_element(By.CSS_SELECTOR, '.T5pZmf:nth-child(6) .vd3tt')\n",
    "thai_button.click()\n",
    "\n",
    "# ข้าวมันไก่ไม่เอาหนัง\n",
    "thai_button = driver.find_element(By.XPATH, '/html/body/div/div[3]/form/div[2]/div/div[2]/div[4]/div/div/div[2]/div/div[1]/div/div[2]/label[1]/div/div/div[2]')\n",
    "thai_button.click()\n",
    "thai_button = driver.find_element(By.XPATH, '/html/body/div/div[3]/form/div[2]/div/div[2]/div[4]/div/div/div[2]/div/div[1]/div/div[4]/label[2]/div/div/div[2]')\n",
    "thai_button.click()\n",
    "\n",
    "# Submit\n",
    "# /html/body/div[1]/div[2]/form/div[2]/div/div[2]/div[4]/div/div/div[2]/div/div[1]/div/div[4]/label[2]/div/div\n",
    "thai_button = driver.find_element(By.CSS_SELECTOR, '.QvWxOd .Fxmcue')\n",
    "thai_button.click()\n",
    "time.sleep(2)\n",
    "driver.close()"
   ]
  },
  {
   "cell_type": "code",
   "execution_count": null,
   "id": "c17f146c-d8d8-45c4-a97d-a9f7b14af5f5",
   "metadata": {},
   "outputs": [],
   "source": []
  }
 ],
 "metadata": {
  "kernelspec": {
   "display_name": "Python 3",
   "language": "python",
   "name": "python3"
  },
  "language_info": {
   "codemirror_mode": {
    "name": "ipython",
    "version": 3
   },
   "file_extension": ".py",
   "mimetype": "text/x-python",
   "name": "python",
   "nbconvert_exporter": "python",
   "pygments_lexer": "ipython3",
   "version": "3.10.9 (tags/v3.10.9:1dd9be6, Dec  6 2022, 20:01:21) [MSC v.1934 64 bit (AMD64)]"
  },
  "vscode": {
   "interpreter": {
    "hash": "29779eaeaa662f518a7c5365664c9c0d0a52b94abeecfec7b0ccc4fc94e18524"
   }
  }
 },
 "nbformat": 4,
 "nbformat_minor": 5
}
