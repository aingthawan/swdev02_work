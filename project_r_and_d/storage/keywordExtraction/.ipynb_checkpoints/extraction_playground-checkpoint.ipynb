{
 "cells": [
  {
   "cell_type": "code",
   "execution_count": 15,
   "id": "50c80e62",
   "metadata": {},
   "outputs": [],
   "source": [
    "from collections import Counter"
   ]
  },
  {
   "cell_type": "code",
   "execution_count": 16,
   "id": "00672934",
   "metadata": {},
   "outputs": [],
   "source": [
    "text = \"Maybe it’s the weather mixed from the winds breaking against Mt Fuji.  Maybe it’s the mist rising off of Tokyo Bay in the mornings.  Or maybe it’s the elegant wardrobes of the sleek Edokko who all could pass for ballerinas and boxers, but as many photographers have said – the light in Tokyo falls on the streets and paints the Japanese with a unique brush.  COVID canceled a planned trip to Japan for the Olympics in 2020, but now a window of only a week from the reopening of the country to the start of a new job offered itself in October.  I’ve traveled all over the World, but never as a solo tourist in such a culturally foreign setting.  Thankfully, Tokyo is the safest place on Earth with the most gracious people.  If there was anywhere to be lost as a photographer, Tokyo is it.\""
   ]
  },
  {
   "cell_type": "code",
   "execution_count": 17,
   "id": "858fd198",
   "metadata": {},
   "outputs": [],
   "source": [
    "# split into words\n",
    "words = text.lower().split()\n",
    "\n",
    "# keywords list\n",
    "keywords = ['tokyo', 'Tokyo']\n",
    "\n",
    "# get freq. from keywords\n",
    "frequency = Counter(words)"
   ]
  },
  {
   "cell_type": "code",
   "execution_count": 30,
   "id": "1f72cdc5",
   "metadata": {},
   "outputs": [
    {
     "data": {
      "text/plain": [
       "Counter({'maybe': 3,\n",
       "         'it’s': 3,\n",
       "         'the': 16,\n",
       "         'weather': 1,\n",
       "         'mixed': 1,\n",
       "         'from': 2,\n",
       "         'winds': 1,\n",
       "         'breaking': 1,\n",
       "         'against': 1,\n",
       "         'mt': 1,\n",
       "         'fuji.': 1,\n",
       "         'mist': 1,\n",
       "         'rising': 1,\n",
       "         'off': 1,\n",
       "         'of': 5,\n",
       "         'tokyo': 4,\n",
       "         'bay': 1,\n",
       "         'in': 5,\n",
       "         'mornings.': 1,\n",
       "         'or': 1,\n",
       "         'elegant': 1,\n",
       "         'wardrobes': 1,\n",
       "         'sleek': 1,\n",
       "         'edokko': 1,\n",
       "         'who': 1,\n",
       "         'all': 2,\n",
       "         'could': 1,\n",
       "         'pass': 1,\n",
       "         'for': 2,\n",
       "         'ballerinas': 1,\n",
       "         'and': 2,\n",
       "         'boxers,': 1,\n",
       "         'but': 3,\n",
       "         'as': 3,\n",
       "         'many': 1,\n",
       "         'photographers': 1,\n",
       "         'have': 1,\n",
       "         'said': 1,\n",
       "         '–': 1,\n",
       "         'light': 1,\n",
       "         'falls': 1,\n",
       "         'on': 2,\n",
       "         'streets': 1,\n",
       "         'paints': 1,\n",
       "         'japanese': 1,\n",
       "         'with': 2,\n",
       "         'a': 8,\n",
       "         'unique': 1,\n",
       "         'brush.': 1,\n",
       "         'covid': 1,\n",
       "         'canceled': 1,\n",
       "         'planned': 1,\n",
       "         'trip': 1,\n",
       "         'to': 3,\n",
       "         'japan': 1,\n",
       "         'olympics': 1,\n",
       "         '2020,': 1,\n",
       "         'now': 1,\n",
       "         'window': 1,\n",
       "         'only': 1,\n",
       "         'week': 1,\n",
       "         'reopening': 1,\n",
       "         'country': 1,\n",
       "         'start': 1,\n",
       "         'new': 1,\n",
       "         'job': 1,\n",
       "         'offered': 1,\n",
       "         'itself': 1,\n",
       "         'october.': 1,\n",
       "         'i’ve': 1,\n",
       "         'traveled': 1,\n",
       "         'over': 1,\n",
       "         'world,': 1,\n",
       "         'never': 1,\n",
       "         'solo': 1,\n",
       "         'tourist': 1,\n",
       "         'such': 1,\n",
       "         'culturally': 1,\n",
       "         'foreign': 1,\n",
       "         'setting.': 1,\n",
       "         'thankfully,': 1,\n",
       "         'is': 2,\n",
       "         'safest': 1,\n",
       "         'place': 1,\n",
       "         'earth': 1,\n",
       "         'most': 1,\n",
       "         'gracious': 1,\n",
       "         'people.': 1,\n",
       "         'if': 1,\n",
       "         'there': 1,\n",
       "         'was': 1,\n",
       "         'anywhere': 1,\n",
       "         'be': 1,\n",
       "         'lost': 1,\n",
       "         'photographer,': 1,\n",
       "         'it.': 1})"
      ]
     },
     "execution_count": 30,
     "metadata": {},
     "output_type": "execute_result"
    }
   ],
   "source": [
    "frequency"
   ]
  },
  {
   "cell_type": "code",
   "execution_count": 40,
   "id": "079f40b7",
   "metadata": {},
   "outputs": [
    {
     "name": "stdout",
     "output_type": "stream",
     "text": [
      "['Nick', 'likes', 'play', 'football', ',', 'fond', 'tennis', '.']\n"
     ]
    }
   ],
   "source": [
    "from nltk.corpus import stopwords\n",
    "# nltk.download('stopwords')\n",
    "from nltk.tokenize import word_tokenize\n",
    "\n",
    "text = \"Nick likes to play football, however he is not too fond of tennis.\"\n",
    "text_tokens = word_tokenize(text)\n",
    "\n",
    "tokens_without_sw = [word for word in text_tokens if not word in stopwords.words()]\n",
    "\n",
    "print(tokens_without_sw)"
   ]
  },
  {
   "cell_type": "code",
   "execution_count": 53,
   "id": "2fe820c1",
   "metadata": {},
   "outputs": [],
   "source": [
    "text1 = \"1 RANGEFINDERS (CHANGEABLE LENS) Hasselblad XPan and its Fabulous 30mm f/5.6 Lens in Mississippi – by Andrew Morang A few months ago, I spent some time reprocessing panoramas that I took years ago. These were the standard panoramas based on standing in one place and rotating the camera with overlap on each frame. I showed some of them to a friend here in town. He responded that he was scanning some of his Hasselblad XPan negatives. Would I like to use the camera? What? There is an Xpan cameras in my little town and I can use it? You know my response! In 2004, I rented an XPan when I was working in Seattle, so I had some familiarity with the concept, but I barely had time to experiment with it.The XPan (and the identical Fuji TX-1) were innovative rangefinder cameras that used regular 35 mm film to create a negative that was 24×65 mm in size rather than the usual 24×36 mm frame common in most 35mm cameras. My friend not only had a XPan (Version 1) but also the three lenses and their correct center filters! These consist of the 30mm ƒ/5.6 super wide lens, the 45mm ƒ/4 (the lens that I think was most commonly used with XPans), and the 90mm ƒ/4 short telephoto. The 30mm came with a special viewfinder that fit in the flash shoe and even incorporated a bubble level. The 58mm center filter (now an unobtanium item) evens the exposure across the field.\""
   ]
  },
  {
   "cell_type": "code",
   "execution_count": 54,
   "id": "87a7241b",
   "metadata": {},
   "outputs": [],
   "source": [
    "text2 = \"2 RANGEFINDERS (CHANGEABLE LENS) Contax G1 – Much more in-focus than out-of-focus – By Chantel Wakefield “I loved owning one for two weeks until every photo came back out of focus.” This was a comment from a popular YouTuber under another popular YouTuber’s review of the Contax G1 35mm Rangefinder Camera. I won’t name names, but if you think about the first few film photography YouTubers that come to mind, he’s probably on that list. For those unfamiliar with Contax G series, the G1 is a premium interchangeable lens camera made of aluminum and titanium. It was once described by TIME as “a thoroughly modern version of the classic Leica, proof that retro is the wave of the future.” Designed to be used with Carl Zeiss G-mount lenses, it cost over $2,000 when it was originally released in 1994. These days, a G1 camera body runs anywhere between $350-$500 on average, depending on the condition. Before purchasing this camera, I looked at lots of reviews. I read countless articles about the specs and features. I watched video after video analyzing the different lenses natively available, pairing it with different film stocks, and commenting on how the camera handles on-the-go. I also looked at images samples across Instagram, Flickr, Lomography, and Reddit.\""
   ]
  },
  {
   "cell_type": "code",
   "execution_count": 55,
   "id": "3196a923",
   "metadata": {},
   "outputs": [],
   "source": [
    "text3 = \"3 RANGEFINDERS (CHANGEABLE LENS) Pixii (A1571) Review – New Upgrades and Some Personal Experiences For a long time, the only digital rangefinders on the market were Leicas. Now there’s Pixii. A screen-less, APS-C sensor, “connected” rangefinder that’s quite a lot less cash than anything from Leica and comes from a startup company with ideas of disrupting the marketplace with something a little different. I’ve had my Pixii for a good while now. I was one of the first people to try one, and have been an advocate of it since. I love what this camera brings to the marketplace, and moreover what it brings to the table for me. It’s also changed a lot as a camera since launch with a series of significant upgrades, so I thought it about time that I finally followed up my “primer” article with some more in-depth personal thoughts and opinions. At the time I wrote that article, I was sharing photos of my Pixii on instagram and getting a lot of comments from people who had never used one – in fact never even seen one – and were picking the camera apart, declaring they would “rather buy” x, y or z, and that Pixii as a brand would likely fail. I’ll save you the rants about how frustrating I find that sort of response – especially the latter bit – but I do want to point out that nearly a year on from publishing the article, not only are Pixii still going, but they have just updated the camera with a series of significant upgrades, some of which are based on the feedback that us early adopters fed to them. I’m not saying this to be smug (much), it’s still early days for these guys – especially when you compare them to the likes of the big boys in the industry – but it is really pleasing to see a startup in this industry making a success! It’s also pleasing as an owner of a Pixii. Since I recently received mine back from having these upgrades, I now have a camera that’s better than the one I originally bought without the expense of completely replacing it. It’s had a new sensor, a new USB-C charging port, now shows a wider range of information in the viewfinder and has had a fairly significant firmware upgrade that seems to have made it a lot more stable. It’s still the same concept, and still provides a very similar user experience to before, but now it just feels that little bit more compete as a camera. I will get onto these upgrades and what they mean for Pixii in a moment. But before I do, I just wanted to write something to tackle something of what I see as a creeping misconception about this camera, and indeed how I shoot mine as a camera.\""
   ]
  },
  {
   "cell_type": "code",
   "execution_count": 56,
   "id": "e857df45",
   "metadata": {},
   "outputs": [],
   "source": [
    "text4 = \"4 RANGEFINDERS (CHANGEABLE LENS) Leica IIf Red Dial: Nostalgia, or Tool for Serious Storytelling? – By Exphotog After years of working as a concert photographer, I decided to move to analog full-time last year. The transition wasn’t easy—I had to reconcile the comfort of shooting 900 frames during a two-hour concert with the inherently laborious nature of acquiring, handling, and processing film. Logistics aside, I had to reimagine my photographic style and what I wanted to accomplish with my work. Concert photography, at its very core, is intense work. One needs to carefully prepare for the photo pit experience: wait around for hours, witness bands complete soundcheck, feel the tension of an uneasy and unpredictable crowd, anticipate the darkness about to descend on the venue, and finally shuffle into a tight and pitch-black photo pit. “First three songs only and no flash” is the golden rule of concert photography, that and a whole lot of sweating and headbanging, at times blood and alcohol, crowd surfing, being ushered to safety by security, and the unforgettable rush of adrenaline as one jostles around to get the shot. In the pit much like on the stage, it is not so much about photography as it is about the raw energy and flow of emotions. Everything one knows about photography goes out the window—taming one’s gear and wrestling with the elements are the only things that matter.\""
   ]
  },
  {
   "cell_type": "code",
   "execution_count": 57,
   "id": "fd7e3253",
   "metadata": {},
   "outputs": [],
   "source": [
    "text5 = \"5 RANGEFINDERS (CHANGEABLE LENS) The Leica IIIF RD – My First Impressions – By Alyssa Chiarello When I first saw the Leica IIIF, it was in a video someone posted on Instagram that demonstrated how to load film into the camera. I’d heard about these rangefinders being a real pain in the butt to load, but I thought, how hard could it be? I have a Leica M2. It can’t be too much harder than loading that. I’m a moron (just kidding). Blinded by the shine and beauty of it, as I often am when seeing a camera I like, I had to have one. The Camera The Leica IIIF, made in the early 1950’s, first came with black lettering on the shutter speed dial. Then after the shutter was updated for better flash synchronization, red lettering was added, making what became known as the red dial version. If you shoot film because you enjoy the “slower process”, as opposed to the mindless shooting of a digital camera, then boy is this camera for you. The Leica IIIF does everything to slow you down. There are two separate windows, one for focusing with the rangefinder and another next to it for framing your shot. If you shoot with a focal length other than 50mm, you’d have to mount an external viewfinder on the cold shoe adding a 3rd viewfinder. This can be an issue if, like me, you use that mount for an external meter. Loading the film requires cutting your leader to be 4” long so that it catches properly. It’s also important to wind the film before setting your shutter speed so as not to damage the mechanism. All of these things will slow you down, but once you get into a proper flow, it is perfectly manageable and enjoyable.\""
   ]
  },
  {
   "cell_type": "code",
   "execution_count": 59,
   "id": "4ec0313e",
   "metadata": {},
   "outputs": [],
   "source": [
    "text1 = 'camera camera camera camera camera camera camera '\n",
    "text2 = 'camera camera camera camera camera camera '\n",
    "text3 = 'camera camera camera camera '\n",
    "text4 = 'camera camera camera '\n",
    "text5 = 'camera camera '"
   ]
  },
  {
   "cell_type": "code",
   "execution_count": 60,
   "id": "79023100",
   "metadata": {},
   "outputs": [
    {
     "data": {
      "text/plain": [
       "['camera camera ',\n",
       " 'camera camera camera ',\n",
       " 'camera camera camera camera ',\n",
       " 'camera camera camera camera camera camera ',\n",
       " 'camera camera camera camera camera camera camera ']"
      ]
     },
     "execution_count": 60,
     "metadata": {},
     "output_type": "execute_result"
    }
   ],
   "source": [
    "text_strings = [text1, text2, text3, text4, text5]\n",
    "occurrences = {}\n",
    "for text in text_strings:\n",
    "    occurrences[text] = text.count(\"camera\")\n",
    "sorted_text_strings = sorted(occurrences, key=lambda k: occurrences[k])\n",
    "sorted_text_strings"
   ]
  },
  {
   "cell_type": "code",
   "execution_count": 61,
   "id": "50f26f51",
   "metadata": {},
   "outputs": [],
   "source": [
    "sw = [\"0o\", \"0s\", \"3a\", \"3b\", \"3d\", \"6b\", \"6o\", \"a\", \"a1\", \"a2\", \"a3\", \"a4\", \"ab\", \"able\", \"about\", \"above\", \"abst\", \"ac\", \"accordance\", \"according\", \"accordingly\", \"across\", \"act\", \"actually\", \"ad\", \"added\", \"adj\", \"ae\", \"af\", \"affected\", \"affecting\", \"affects\", \"after\", \"afterwards\", \"ag\", \"again\", \"against\", \"ah\", \"ain\", \"ain't\", \"aj\", \"al\", \"all\", \"allow\", \"allows\", \"almost\", \"alone\", \"along\", \"already\", \"also\", \"although\", \"always\", \"am\", \"among\", \"amongst\", \"amoungst\", \"amount\", \"an\", \"and\", \"announce\", \"another\", \"any\", \"anybody\", \"anyhow\", \"anymore\", \"anyone\", \"anything\", \"anyway\", \"anyways\", \"anywhere\", \"ao\", \"ap\", \"apart\", \"apparently\", \"appear\", \"appreciate\", \"appropriate\", \"approximately\", \"ar\", \"are\", \"aren\", \"arent\", \"aren't\", \"arise\", \"around\", \"as\", \"a's\", \"aside\", \"ask\", \"asking\", \"associated\", \"at\", \"au\", \"auth\", \"av\", \"available\", \"aw\", \"away\", \"awfully\", \"ax\", \"ay\", \"az\", \"b\", \"b1\", \"b2\", \"b3\", \"ba\", \"back\", \"bc\", \"bd\", \"be\", \"became\", \"because\", \"become\", \"becomes\", \"becoming\", \"been\", \"before\", \"beforehand\", \"begin\", \"beginning\", \"beginnings\", \"begins\", \"behind\", \"being\", \"believe\", \"below\", \"beside\", \"besides\", \"best\", \"better\", \"between\", \"beyond\", \"bi\", \"bill\", \"biol\", \"bj\", \"bk\", \"bl\", \"bn\", \"both\", \"bottom\", \"bp\", \"br\", \"brief\", \"briefly\", \"bs\", \"bt\", \"bu\", \"but\", \"bx\", \"by\", \"c\", \"c1\", \"c2\", \"c3\", \"ca\", \"call\", \"came\", \"can\", \"cannot\", \"cant\", \"can't\", \"cause\", \"causes\", \"cc\", \"cd\", \"ce\", \"certain\", \"certainly\", \"cf\", \"cg\", \"ch\", \"changes\", \"ci\", \"cit\", \"cj\", \"cl\", \"clearly\", \"cm\", \"c'mon\", \"cn\", \"co\", \"com\", \"come\", \"comes\", \"con\", \"concerning\", \"consequently\", \"consider\", \"considering\", \"contain\", \"containing\", \"contains\", \"corresponding\", \"could\", \"couldn\", \"couldnt\", \"couldn't\", \"course\", \"cp\", \"cq\", \"cr\", \"cry\", \"cs\", \"c's\", \"ct\", \"cu\", \"currently\", \"cv\", \"cx\", \"cy\", \"cz\", \"d\", \"d2\", \"da\", \"date\", \"dc\", \"dd\", \"de\", \"definitely\", \"describe\", \"described\", \"despite\", \"detail\", \"df\", \"di\", \"did\", \"didn\", \"didn't\", \"different\", \"dj\", \"dk\", \"dl\", \"do\", \"does\", \"doesn\", \"doesn't\", \"doing\", \"don\", \"done\", \"don't\", \"down\", \"downwards\", \"dp\", \"dr\", \"ds\", \"dt\", \"du\", \"due\", \"during\", \"dx\", \"dy\", \"e\", \"e2\", \"e3\", \"ea\", \"each\", \"ec\", \"ed\", \"edu\", \"ee\", \"ef\", \"effect\", \"eg\", \"ei\", \"eight\", \"eighty\", \"either\", \"ej\", \"el\", \"eleven\", \"else\", \"elsewhere\", \"em\", \"empty\", \"en\", \"end\", \"ending\", \"enough\", \"entirely\", \"eo\", \"ep\", \"eq\", \"er\", \"es\", \"especially\", \"est\", \"et\", \"et-al\", \"etc\", \"eu\", \"ev\", \"even\", \"ever\", \"every\", \"everybody\", \"everyone\", \"everything\", \"everywhere\", \"ex\", \"exactly\", \"example\", \"except\", \"ey\", \"f\", \"f2\", \"fa\", \"far\", \"fc\", \"few\", \"ff\", \"fi\", \"fifteen\", \"fifth\", \"fify\", \"fill\", \"find\", \"fire\", \"first\", \"five\", \"fix\", \"fj\", \"fl\", \"fn\", \"fo\", \"followed\", \"following\", \"follows\", \"for\", \"former\", \"formerly\", \"forth\", \"forty\", \"found\", \"four\", \"fr\", \"from\", \"front\", \"fs\", \"ft\", \"fu\", \"full\", \"further\", \"furthermore\", \"fy\", \"g\", \"ga\", \"gave\", \"ge\", \"get\", \"gets\", \"getting\", \"gi\", \"give\", \"given\", \"gives\", \"giving\", \"gj\", \"gl\", \"go\", \"goes\", \"going\", \"gone\", \"got\", \"gotten\", \"gr\", \"greetings\", \"gs\", \"gy\", \"h\", \"h2\", \"h3\", \"had\", \"hadn\", \"hadn't\", \"happens\", \"hardly\", \"has\", \"hasn\", \"hasnt\", \"hasn't\", \"have\", \"haven\", \"haven't\", \"having\", \"he\", \"hed\", \"he'd\", \"he'll\", \"hello\", \"help\", \"hence\", \"her\", \"here\", \"hereafter\", \"hereby\", \"herein\", \"heres\", \"here's\", \"hereupon\", \"hers\", \"herself\", \"hes\", \"he's\", \"hh\", \"hi\", \"hid\", \"him\", \"himself\", \"his\", \"hither\", \"hj\", \"ho\", \"home\", \"hopefully\", \"how\", \"howbeit\", \"however\", \"how's\", \"hr\", \"hs\", \"http\", \"hu\", \"hundred\", \"hy\", \"i\", \"i2\", \"i3\", \"i4\", \"i6\", \"i7\", \"i8\", \"ia\", \"ib\", \"ibid\", \"ic\", \"id\", \"i'd\", \"ie\", \"if\", \"ig\", \"ignored\", \"ih\", \"ii\", \"ij\", \"il\", \"i'll\", \"im\", \"i'm\", \"immediate\", \"immediately\", \"importance\", \"important\", \"in\", \"inasmuch\", \"inc\", \"indeed\", \"index\", \"indicate\", \"indicated\", \"indicates\", \"information\", \"inner\", \"insofar\", \"instead\", \"interest\", \"into\", \"invention\", \"inward\", \"io\", \"ip\", \"iq\", \"ir\", \"is\", \"isn\", \"isn't\", \"it\", \"itd\", \"it'd\", \"it'll\", \"its\", \"it's\", \"itself\", \"iv\", \"i've\", \"ix\", \"iy\", \"iz\", \"j\", \"jj\", \"jr\", \"js\", \"jt\", \"ju\", \"just\", \"k\", \"ke\", \"keep\", \"keeps\", \"kept\", \"kg\", \"kj\", \"km\", \"know\", \"known\", \"knows\", \"ko\", \"l\", \"l2\", \"la\", \"largely\", \"last\", \"lately\", \"later\", \"latter\", \"latterly\", \"lb\", \"lc\", \"le\", \"least\", \"les\", \"less\", \"lest\", \"let\", \"lets\", \"let's\", \"lf\", \"like\", \"liked\", \"likely\", \"line\", \"little\", \"lj\", \"ll\", \"ll\", \"ln\", \"lo\", \"look\", \"looking\", \"looks\", \"los\", \"lr\", \"ls\", \"lt\", \"ltd\", \"m\", \"m2\", \"ma\", \"made\", \"mainly\", \"make\", \"makes\", \"many\", \"may\", \"maybe\", \"me\", \"mean\", \"means\", \"meantime\", \"meanwhile\", \"merely\", \"mg\", \"might\", \"mightn\", \"mightn't\", \"mill\", \"million\", \"mine\", \"miss\", \"ml\", \"mn\", \"mo\", \"more\", \"moreover\", \"most\", \"mostly\", \"move\", \"mr\", \"mrs\", \"ms\", \"mt\", \"mu\", \"much\", \"mug\", \"must\", \"mustn\", \"mustn't\", \"my\", \"myself\", \"n\", \"n2\", \"na\", \"name\", \"namely\", \"nay\", \"nc\", \"nd\", \"ne\", \"near\", \"nearly\", \"necessarily\", \"necessary\", \"need\", \"needn\", \"needn't\", \"needs\", \"neither\", \"never\", \"nevertheless\", \"new\", \"next\", \"ng\", \"ni\", \"nine\", \"ninety\", \"nj\", \"nl\", \"nn\", \"no\", \"nobody\", \"non\", \"none\", \"nonetheless\", \"noone\", \"nor\", \"normally\", \"nos\", \"not\", \"noted\", \"nothing\", \"novel\", \"now\", \"nowhere\", \"nr\", \"ns\", \"nt\", \"ny\", \"o\", \"oa\", \"ob\", \"obtain\", \"obtained\", \"obviously\", \"oc\", \"od\", \"of\", \"off\", \"often\", \"og\", \"oh\", \"oi\", \"oj\", \"ok\", \"okay\", \"ol\", \"old\", \"om\", \"omitted\", \"on\", \"once\", \"one\", \"ones\", \"only\", \"onto\", \"oo\", \"op\", \"oq\", \"or\", \"ord\", \"os\", \"ot\", \"other\", \"others\", \"otherwise\", \"ou\", \"ought\", \"our\", \"ours\", \"ourselves\", \"out\", \"outside\", \"over\", \"overall\", \"ow\", \"owing\", \"own\", \"ox\", \"oz\", \"p\", \"p1\", \"p2\", \"p3\", \"page\", \"pagecount\", \"pages\", \"par\", \"part\", \"particular\", \"particularly\", \"pas\", \"past\", \"pc\", \"pd\", \"pe\", \"per\", \"perhaps\", \"pf\", \"ph\", \"pi\", \"pj\", \"pk\", \"pl\", \"placed\", \"please\", \"plus\", \"pm\", \"pn\", \"po\", \"poorly\", \"possible\", \"possibly\", \"potentially\", \"pp\", \"pq\", \"pr\", \"predominantly\", \"present\", \"presumably\", \"previously\", \"primarily\", \"probably\", \"promptly\", \"proud\", \"provides\", \"ps\", \"pt\", \"pu\", \"put\", \"py\", \"q\", \"qj\", \"qu\", \"que\", \"quickly\", \"quite\", \"qv\", \"r\", \"r2\", \"ra\", \"ran\", \"rather\", \"rc\", \"rd\", \"re\", \"readily\", \"really\", \"reasonably\", \"recent\", \"recently\", \"ref\", \"refs\", \"regarding\", \"regardless\", \"regards\", \"related\", \"relatively\", \"research\", \"research-articl\", \"respectively\", \"resulted\", \"resulting\", \"results\", \"rf\", \"rh\", \"ri\", \"right\", \"rj\", \"rl\", \"rm\", \"rn\", \"ro\", \"rq\", \"rr\", \"rs\", \"rt\", \"ru\", \"run\", \"rv\", \"ry\", \"s\", \"s2\", \"sa\", \"said\", \"same\", \"saw\", \"say\", \"saying\", \"says\", \"sc\", \"sd\", \"se\", \"sec\", \"second\", \"secondly\", \"section\", \"see\", \"seeing\", \"seem\", \"seemed\", \"seeming\", \"seems\", \"seen\", \"self\", \"selves\", \"sensible\", \"sent\", \"serious\", \"seriously\", \"seven\", \"several\", \"sf\", \"shall\", \"shan\", \"shan't\", \"she\", \"shed\", \"she'd\", \"she'll\", \"shes\", \"she's\", \"should\", \"shouldn\", \"shouldn't\", \"should've\", \"show\", \"showed\", \"shown\", \"showns\", \"shows\", \"si\", \"side\", \"significant\", \"significantly\", \"similar\", \"similarly\", \"since\", \"sincere\", \"six\", \"sixty\", \"sj\", \"sl\", \"slightly\", \"sm\", \"sn\", \"so\", \"some\", \"somebody\", \"somehow\", \"someone\", \"somethan\", \"something\", \"sometime\", \"sometimes\", \"somewhat\", \"somewhere\", \"soon\", \"sorry\", \"sp\", \"specifically\", \"specified\", \"specify\", \"specifying\", \"sq\", \"sr\", \"ss\", \"st\", \"still\", \"stop\", \"strongly\", \"sub\", \"substantially\", \"successfully\", \"such\", \"sufficiently\", \"suggest\", \"sup\", \"sure\", \"sy\", \"system\", \"sz\", \"t\", \"t1\", \"t2\", \"t3\", \"take\", \"taken\", \"taking\", \"tb\", \"tc\", \"td\", \"te\", \"tell\", \"ten\", \"tends\", \"tf\", \"th\", \"than\", \"thank\", \"thanks\", \"thanx\", \"that\", \"that'll\", \"thats\", \"that's\", \"that've\", \"the\", \"their\", \"theirs\", \"them\", \"themselves\", \"then\", \"thence\", \"there\", \"thereafter\", \"thereby\", \"thered\", \"therefore\", \"therein\", \"there'll\", \"thereof\", \"therere\", \"theres\", \"there's\", \"thereto\", \"thereupon\", \"there've\", \"these\", \"they\", \"theyd\", \"they'd\", \"they'll\", \"theyre\", \"they're\", \"they've\", \"thickv\", \"thin\", \"think\", \"third\", \"this\", \"thorough\", \"thoroughly\", \"those\", \"thou\", \"though\", \"thoughh\", \"thousand\", \"three\", \"throug\", \"through\", \"throughout\", \"thru\", \"thus\", \"ti\", \"til\", \"tip\", \"tj\", \"tl\", \"tm\", \"tn\", \"to\", \"together\", \"too\", \"took\", \"top\", \"toward\", \"towards\", \"tp\", \"tq\", \"tr\", \"tried\", \"tries\", \"truly\", \"try\", \"trying\", \"ts\", \"t's\", \"tt\", \"tv\", \"twelve\", \"twenty\", \"twice\", \"two\", \"tx\", \"u\", \"u201d\", \"ue\", \"ui\", \"uj\", \"uk\", \"um\", \"un\", \"under\", \"unfortunately\", \"unless\", \"unlike\", \"unlikely\", \"until\", \"unto\", \"uo\", \"up\", \"upon\", \"ups\", \"ur\", \"us\", \"use\", \"used\", \"useful\", \"usefully\", \"usefulness\", \"uses\", \"using\", \"usually\", \"ut\", \"v\", \"va\", \"value\", \"various\", \"vd\", \"ve\", \"ve\", \"very\", \"via\", \"viz\", \"vj\", \"vo\", \"vol\", \"vols\", \"volumtype\", \"vq\", \"vs\", \"vt\", \"vu\", \"w\", \"wa\", \"want\", \"wants\", \"was\", \"wasn\", \"wasnt\", \"wasn't\", \"way\", \"we\", \"wed\", \"we'd\", \"welcome\", \"well\", \"we'll\", \"well-b\", \"went\", \"were\", \"we're\", \"weren\", \"werent\", \"weren't\", \"we've\", \"what\", \"whatever\", \"what'll\", \"whats\", \"what's\", \"when\", \"whence\", \"whenever\", \"when's\", \"where\", \"whereafter\", \"whereas\", \"whereby\", \"wherein\", \"wheres\", \"where's\", \"whereupon\", \"wherever\", \"whether\", \"which\", \"while\", \"whim\", \"whither\", \"who\", \"whod\", \"whoever\", \"whole\", \"who'll\", \"whom\", \"whomever\", \"whos\", \"who's\", \"whose\", \"why\", \"why's\", \"wi\", \"widely\", \"will\", \"willing\", \"wish\", \"with\", \"within\", \"without\", \"wo\", \"won\", \"wonder\", \"wont\", \"won't\", \"words\", \"world\", \"would\", \"wouldn\", \"wouldnt\", \"wouldn't\", \"www\", \"x\", \"x1\", \"x2\", \"x3\", \"xf\", \"xi\", \"xj\", \"xk\", \"xl\", \"xn\", \"xo\", \"xs\", \"xt\", \"xv\", \"xx\", \"y\", \"y2\", \"yes\", \"yet\", \"yj\", \"yl\", \"you\", \"youd\", \"you'd\", \"you'll\", \"your\", \"youre\", \"you're\", \"yours\", \"yourself\", \"yourselves\", \"you've\", \"yr\", \"ys\", \"yt\", \"z\", \"zero\", \"zi\", \"zz\", \"n't\", \"feel\", \"'ve\"]\n",
    "\n",
    "import yake\n",
    "import requests\n",
    "from bs4 import BeautifulSoup\n",
    "\n",
    "def open_html_35mmc(url):\n",
    "    web_data = requests.get(url)\n",
    "    soup = BeautifulSoup(web_data.text, \"html.parser\")\n",
    "    return soup.find(\"article\").text\n",
    "\n",
    "def open_html_pantip(url):\n",
    "    web_data = requests.get(url)\n",
    "    soup = BeautifulSoup(web_data.text, \"html.parser\")\n",
    "#     print(soup.find(\"div\", {'class':'container-inner'}).text)\n",
    "    return soup.find(\"div\", {'class':'container-inner'}).text\n",
    "\n",
    "def get_kw(pure_text):\n",
    "#     stopwords = [\"a\", \"and\", \"the\", \"in\", \"on\", \"at\"]\n",
    "    stopwords = sw\n",
    "\n",
    "    ext_keywords = yake.KeywordExtractor(lan=\"en\", stopwords=stopwords)\n",
    "    keywords = ext_keywords.extract_keywords(pure_text)\n",
    "    for kw, v in keywords:\n",
    "        print(\"Keyphrase: \", kw, \": score\", v)"
   ]
  },
  {
   "cell_type": "code",
   "execution_count": 63,
   "id": "56090141",
   "metadata": {},
   "outputs": [
    {
     "data": {
      "text/plain": [
       "'\\n\\n \\n\\nRangefinders (Changeable Lens)\\nLeica IIf Red Dial: Nostalgia, or Tool for Serious Storytelling? – By Exphotog\\nSeptember 28, 2021\\n\\n\\nAfter years of working as a concert photographer, I decided to move to analog full-time last year. The transition wasn’t easy—I had to reconcile the comfort of shooting 900 frames during a two-hour concert with the inherently laborious nature of acquiring, handling, and processing film.\\nLogistics aside, I had to reimagine my photographic style and what I wanted to accomplish with my work. Concert photography, at its very core, is intense work. One needs to carefully prepare for the photo pit experience: wait around for hours, witness bands complete soundcheck, feel the tension of an uneasy and unpredictable crowd, anticipate the darkness about to descend on the venue, and finally shuffle into a tight and pitch-black photo pit. “First three songs only and no flash” is the golden rule of concert photography, that and a whole lot of sweating and headbanging, at times blood and alcohol, crowd surfing, being ushered to safety by security, and the unforgettable rush of adrenaline as one jostles around to get the shot.\\nIn the pit much like on the stage, it is not so much about photography as it is about the raw energy and flow of emotions. Everything one knows about photography goes out the window—taming one’s gear and wrestling with the elements are the only things that matter.\\nPrimordial performing live in Norway.\\nAs exhilarating as those experiences were though, they didn’t quite take me to the promised land of photography. After a few years I felt burned out because of the repetitive nature of the work. More importantly, my joy of photography was gone.\\nThat’s when I decided to turn to film exclusively and explore a different direction in my work.\\nTowards Analog\\nMy journey into film began many years prior to my decision to embrace it full-time. As a child of the 1980s, I vividly remember snapping photos on the various point and shoot cameras around the house. The very first film camera I purchased for myself was a Lubitel Lomo 166B that I bought on eBay many years ago (it took six weeks to arrive from Ukraine).\\nI wasn’t good at photography back then but that camera ended up being extremely important for my development as a photographer. For starters, it taught me how to use an external light meter, shoot in manual mode, develop film, and most importantly, patience. Patience while loading film, metering the scene, setting the shutter speed and aperture values, focusing manually, being aware of what was around, people, light, weather, the whole shebang.\\nThat camera produced few keepers but it literally opened my eyes to a new world, a world that didn’t revolve around auto focus and memory cards. One in which I could explore the universe the way old-timers did. It also flipped inside me a switch I didn’t know existed; one that instilled in me a lifelong appreciation, nay obsession, for all things mechanical.\\nNowadays, I have a few all-time favorite cameras in rotation that I use for different purposes, among them a Leica M2, Nikon FM, and Rolleiflex 2.8F. While I don’t need any more cameras, I will buy and test cameras in order to get a feel for them. If I feel a bond, I will usually keep them. Recently, I saw a video where someone mentioned how Barnack Leicas offered the best bang for the buck in the Leica world. After doing some research, I finally decided to give them a try. Luckily, there was a Leica IIf Red Dial with a Summitar 5cm f/2 available at a local camera store and I immediately picked it up to see what all the fuss was about.\\n\\nVintage Feel, Modern Context\\nMy first impressions of the IIf were mostly clad in nostalgia (and aesthetics). This is easily the most gorgeous camera I own (along with the Rolleiflex), it is compact, and most importantly a fun camera to use. The build quality is astonishing and right up there with the Leica M bodies.\\n\\nMy copy of the Summitar is far from excellent, with many fine scratches and significant coating wear. Despite its flaws, it is an undoubtedly handsome collapsible 50mm and a true icon of its time (along with the Elmar 5cm f/3.5). My love for this camera definitely grew after I purchased it. The truth is I never really expected to enjoy it as much as I have in the time I’ve had it.\\n\\nWhat drew me to the Leica IIf was the looks and nostalgic vibes, but is it actually a capable tool for documentary type work on the streets? And is it actually as good a deal as promised? I decided to answer those questions on a particularly cold July morning, when I set out to take some photos of a once-vibrant neighborhood near my place and see how the IIf would perform out in nature. I loaded it with a roll of Delta 3200 and shot it at 1600 for dramatic effect on a mostly overcast day. The photos below were processed at my local lab with minimal post-scan adjustments done in Capture One.\\n\\nDespite a slow film advance mechanism (knob vs. lever on Leica Ms), an even slower film loading mechanism that requires one to cut a longer leader which is cumbersome out in the field, separate viewfinders for focusing and composition, a lens with a clickless aperture ring, and the lack of slow shutter speeds (the IIf only goes down to 1/25ths of a second and bulb compared to the IIIf, which has a separate slow shutter speed dial on the front)—all factors that should in theory be negatives—I found using the IIf to be a surprisingly satisfying experience.\\nI didn’t really feel limited by the slow film advance knob or the separate focus and composition windows. None of these perceived cons really affected my approach (although I definitely recommend zone focusing if speed is important to you).\\n\\n\\n\\n\\nLife is all about tradeoffs. In the case of the IIf, what you give up in speed is compensated for in size and feel. The collapsible lens makes the entire kit pocketable and easy to carry. It also weighs less than any other Leica I’ve owned (my M2 is like a Russian weightlifter on steroids next to the IIf). And finally, the vintage glass creates pleasant images even in the most mundane setting.\\n\\n\\n\\nI can see this camera and lens combination working especially well with dramatic subject matter, black and white portraiture, abstract, and nature/landscape work. So is the IIf pure nostalgia or a tool for serious storytelling? Based on my own experience, I’d have to say it is a lot of both. For me the IIf is a “feel” thing–that and a whole lot of value for money.\\nFor more articles on 35mmc about the subject matter discussed here, please click one of the following tag links:Leica iiif leica rangefinder rangefinder cameraContribute to 35mmc for an Ad-Free ExperienceThere are two ways to experience 35mmc without the adverts:\\nPaid Subscription - £2.99 per month and you’ll never see an advert again! (Free 3-day trial)Subscribe here\\nContent contributor - become a part of the world’s biggest film and alternative photography community blog. All our Contributors have an ad-free experience for life. Sign up\\xa0here.\\n\\n\\nLeica iiifleica rangefinderrangefinder camera \\n\\n\\n\\n\\n\\nby exphotog [profile & more posts]\\n\\n\\n\\n\\nShare: \\n \\n\\n\\n\\n\\n11 Comments\\n\\n\\n\\n\\n'"
      ]
     },
     "execution_count": 63,
     "metadata": {},
     "output_type": "execute_result"
    }
   ],
   "source": [
    "# with Yake\n",
    "url = \"https://www.35mmc.com/28/09/2021/leica-iif-red-dial-nostalgia-or-tool-for-serious-storytelling-by-exphotog/\"\n",
    "pure_text = open_html_35mmc(url)\n",
    "# get_kw(pure_text)\n",
    "pure_text"
   ]
  },
  {
   "cell_type": "code",
   "execution_count": 64,
   "id": "8eca0357",
   "metadata": {},
   "outputs": [
    {
     "data": {
      "text/plain": [
       "'\\n\\n \\n\\nrangefinders (changeable lens)\\nleica iif red dial: nostalgia, or tool for serious storytelling? – by exphotog\\nseptember 28, 2021\\n\\n\\nafter years of working as a concert photographer, i decided to move to analog full-time last year. the transition wasn’t easy—i had to reconcile the comfort of shooting 900 frames during a two-hour concert with the inherently laborious nature of acquiring, handling, and processing film.\\nlogistics aside, i had to reimagine my photographic style and what i wanted to accomplish with my work. concert photography, at its very core, is intense work. one needs to carefully prepare for the photo pit experience: wait around for hours, witness bands complete soundcheck, feel the tension of an uneasy and unpredictable crowd, anticipate the darkness about to descend on the venue, and finally shuffle into a tight and pitch-black photo pit. “first three songs only and no flash” is the golden rule of concert photography, that and a whole lot of sweating and headbanging, at times blood and alcohol, crowd surfing, being ushered to safety by security, and the unforgettable rush of adrenaline as one jostles around to get the shot.\\nin the pit much like on the stage, it is not so much about photography as it is about the raw energy and flow of emotions. everything one knows about photography goes out the window—taming one’s gear and wrestling with the elements are the only things that matter.\\nprimordial performing live in norway.\\nas exhilarating as those experiences were though, they didn’t quite take me to the promised land of photography. after a few years i felt burned out because of the repetitive nature of the work. more importantly, my joy of photography was gone.\\nthat’s when i decided to turn to film exclusively and explore a different direction in my work.\\ntowards analog\\nmy journey into film began many years prior to my decision to embrace it full-time. as a child of the 1980s, i vividly remember snapping photos on the various point and shoot cameras around the house. the very first film camera i purchased for myself was a lubitel lomo 166b that i bought on ebay many years ago (it took six weeks to arrive from ukraine).\\ni wasn’t good at photography back then but that camera ended up being extremely important for my development as a photographer. for starters, it taught me how to use an external light meter, shoot in manual mode, develop film, and most importantly, patience. patience while loading film, metering the scene, setting the shutter speed and aperture values, focusing manually, being aware of what was around, people, light, weather, the whole shebang.\\nthat camera produced few keepers but it literally opened my eyes to a new world, a world that didn’t revolve around auto focus and memory cards. one in which i could explore the universe the way old-timers did. it also flipped inside me a switch i didn’t know existed; one that instilled in me a lifelong appreciation, nay obsession, for all things mechanical.\\nnowadays, i have a few all-time favorite cameras in rotation that i use for different purposes, among them a leica m2, nikon fm, and rolleiflex 2.8f. while i don’t need any more cameras, i will buy and test cameras in order to get a feel for them. if i feel a bond, i will usually keep them. recently, i saw a video where someone mentioned how barnack leicas offered the best bang for the buck in the leica world. after doing some research, i finally decided to give them a try. luckily, there was a leica iif red dial with a summitar 5cm f/2 available at a local camera store and i immediately picked it up to see what all the fuss was about.\\n\\nvintage feel, modern context\\nmy first impressions of the iif were mostly clad in nostalgia (and aesthetics). this is easily the most gorgeous camera i own (along with the rolleiflex), it is compact, and most importantly a fun camera to use. the build quality is astonishing and right up there with the leica m bodies.\\n\\nmy copy of the summitar is far from excellent, with many fine scratches and significant coating wear. despite its flaws, it is an undoubtedly handsome collapsible 50mm and a true icon of its time (along with the elmar 5cm f/3.5). my love for this camera definitely grew after i purchased it. the truth is i never really expected to enjoy it as much as i have in the time i’ve had it.\\n\\nwhat drew me to the leica iif was the looks and nostalgic vibes, but is it actually a capable tool for documentary type work on the streets? and is it actually as good a deal as promised? i decided to answer those questions on a particularly cold july morning, when i set out to take some photos of a once-vibrant neighborhood near my place and see how the iif would perform out in nature. i loaded it with a roll of delta 3200 and shot it at 1600 for dramatic effect on a mostly overcast day. the photos below were processed at my local lab with minimal post-scan adjustments done in capture one.\\n\\ndespite a slow film advance mechanism (knob vs. lever on leica ms), an even slower film loading mechanism that requires one to cut a longer leader which is cumbersome out in the field, separate viewfinders for focusing and composition, a lens with a clickless aperture ring, and the lack of slow shutter speeds (the iif only goes down to 1/25ths of a second and bulb compared to the iiif, which has a separate slow shutter speed dial on the front)—all factors that should in theory be negatives—i found using the iif to be a surprisingly satisfying experience.\\ni didn’t really feel limited by the slow film advance knob or the separate focus and composition windows. none of these perceived cons really affected my approach (although i definitely recommend zone focusing if speed is important to you).\\n\\n\\n\\n\\nlife is all about tradeoffs. in the case of the iif, what you give up in speed is compensated for in size and feel. the collapsible lens makes the entire kit pocketable and easy to carry. it also weighs less than any other leica i’ve owned (my m2 is like a russian weightlifter on steroids next to the iif). and finally, the vintage glass creates pleasant images even in the most mundane setting.\\n\\n\\n\\ni can see this camera and lens combination working especially well with dramatic subject matter, black and white portraiture, abstract, and nature/landscape work. so is the iif pure nostalgia or a tool for serious storytelling? based on my own experience, i’d have to say it is a lot of both. for me the iif is a “feel” thing–that and a whole lot of value for money.\\nfor more articles on 35mmc about the subject matter discussed here, please click one of the following tag links:leica iiif leica rangefinder rangefinder cameracontribute to 35mmc for an ad-free experiencethere are two ways to experience 35mmc without the adverts:\\npaid subscription - £2.99 per month and you’ll never see an advert again! (free 3-day trial)subscribe here\\ncontent contributor - become a part of the world’s biggest film and alternative photography community blog. all our contributors have an ad-free experience for life. sign up\\xa0here.\\n\\n\\nleica iiifleica rangefinderrangefinder camera \\n\\n\\n\\n\\n\\nby exphotog [profile & more posts]\\n\\n\\n\\n\\nshare: \\n \\n\\n\\n\\n\\n11 comments\\n\\n\\n\\n\\n'"
      ]
     },
     "execution_count": 64,
     "metadata": {},
     "output_type": "execute_result"
    }
   ],
   "source": [
    "normalized_pure_Text = pure_text.lower()\n",
    "normalized_pure_Text"
   ]
  },
  {
   "cell_type": "code",
   "execution_count": 67,
   "id": "6e8b3dd5",
   "metadata": {},
   "outputs": [
    {
     "name": "stdout",
     "output_type": "stream",
     "text": [
      "     rangefinders  changeable lens  leica iif red dial  nostalgia  or tool for serious storytelling    by exphotog september 28  2021   after years of working as a concert photographer  i decided to move to analog full time last year  the transition wasn t easy i had to reconcile the comfort of shooting 900 frames during a two hour concert with the inherently laborious nature of acquiring  handling  and processing film  logistics aside  i had to reimagine my photographic style and what i wanted to accomplish with my work  concert photography  at its very core  is intense work  one needs to carefully prepare for the photo pit experience  wait around for hours  witness bands complete soundcheck  feel the tension of an uneasy and unpredictable crowd  anticipate the darkness about to descend on the venue  and finally shuffle into a tight and pitch black photo pit   first three songs only and no flash  is the golden rule of concert photography  that and a whole lot of sweating and headbanging  at times blood and alcohol  crowd surfing  being ushered to safety by security  and the unforgettable rush of adrenaline as one jostles around to get the shot  in the pit much like on the stage  it is not so much about photography as it is about the raw energy and flow of emotions  everything one knows about photography goes out the window taming one s gear and wrestling with the elements are the only things that matter  primordial performing live in norway  as exhilarating as those experiences were though  they didn t quite take me to the promised land of photography  after a few years i felt burned out because of the repetitive nature of the work  more importantly  my joy of photography was gone  that s when i decided to turn to film exclusively and explore a different direction in my work  towards analog my journey into film began many years prior to my decision to embrace it full time  as a child of the 1980s  i vividly remember snapping photos on the various point and shoot cameras around the house  the very first film camera i purchased for myself was a lubitel lomo 166b that i bought on ebay many years ago  it took six weeks to arrive from ukraine   i wasn t good at photography back then but that camera ended up being extremely important for my development as a photographer  for starters  it taught me how to use an external light meter  shoot in manual mode  develop film  and most importantly  patience  patience while loading film  metering the scene  setting the shutter speed and aperture values  focusing manually  being aware of what was around  people  light  weather  the whole shebang  that camera produced few keepers but it literally opened my eyes to a new world  a world that didn t revolve around auto focus and memory cards  one in which i could explore the universe the way old timers did  it also flipped inside me a switch i didn t know existed  one that instilled in me a lifelong appreciation  nay obsession  for all things mechanical  nowadays  i have a few all time favorite cameras in rotation that i use for different purposes  among them a leica m2  nikon fm  and rolleiflex 2 8f  while i don t need any more cameras  i will buy and test cameras in order to get a feel for them  if i feel a bond  i will usually keep them  recently  i saw a video where someone mentioned how barnack leicas offered the best bang for the buck in the leica world  after doing some research  i finally decided to give them a try  luckily  there was a leica iif red dial with a summitar 5cm f 2 available at a local camera store and i immediately picked it up to see what all the fuss was about   vintage feel  modern context my first impressions of the iif were mostly clad in nostalgia  and aesthetics   this is easily the most gorgeous camera i own  along with the rolleiflex   it is compact  and most importantly a fun camera to use  the build quality is astonishing and right up there with the leica m bodies   my copy of the summitar is far from excellent  with many fine scratches and significant coating wear  despite its flaws  it is an undoubtedly handsome collapsible 50mm and a true icon of its time  along with the elmar 5cm f 3 5   my love for this camera definitely grew after i purchased it  the truth is i never really expected to enjoy it as much as i have in the time i ve had it   what drew me to the leica iif was the looks and nostalgic vibes  but is it actually a capable tool for documentary type work on the streets  and is it actually as good a deal as promised  i decided to answer those questions on a particularly cold july morning  when i set out to take some photos of a once vibrant neighborhood near my place and see how the iif would perform out in nature  i loaded it with a roll of delta 3200 and shot it at 1600 for dramatic effect on a mostly overcast day  the photos below were processed at my local lab with minimal post scan adjustments done in capture one   despite a slow film advance mechanism  knob vs  lever on leica ms   an even slower film loading mechanism that requires one to cut a longer leader which is cumbersome out in the field  separate viewfinders for focusing and composition  a lens with a clickless aperture ring  and the lack of slow shutter speeds  the iif only goes down to 1 25ths of a second and bulb compared to the iiif  which has a separate slow shutter speed dial on the front  all factors that should in theory be negatives i found using the iif to be a surprisingly satisfying experience  i didn t really feel limited by the slow film advance knob or the separate focus and composition windows  none of these perceived cons really affected my approach  although i definitely recommend zone focusing if speed is important to you       life is all about tradeoffs  in the case of the iif  what you give up in speed is compensated for in size and feel  the collapsible lens makes the entire kit pocketable and easy to carry  it also weighs less than any other leica i ve owned  my m2 is like a russian weightlifter on steroids next to the iif   and finally  the vintage glass creates pleasant images even in the most mundane setting     i can see this camera and lens combination working especially well with dramatic subject matter  black and white portraiture  abstract  and nature landscape work  so is the iif pure nostalgia or a tool for serious storytelling  based on my own experience  i d have to say it is a lot of both  for me the iif is a  feel  thing that and a whole lot of value for money  for more articles on 35mmc about the subject matter discussed here  please click one of the following tag links leica iiif leica rangefinder rangefinder cameracontribute to 35mmc for an ad free experiencethere are two ways to experience 35mmc without the adverts  paid subscription    2 99 per month and you ll never see an advert again   free 3 day trial subscribe here content contributor   become a part of the world s biggest film and alternative photography community blog  all our contributors have an ad free experience for life  sign up here    leica iiifleica rangefinderrangefinder camera       by exphotog  profile   more posts      share         11 comments     \n"
     ]
    }
   ],
   "source": [
    "# clean out unicode, replace with \" \"\n",
    "import re\n",
    "\n",
    "text_no_uni = re.sub(r\"(@\\[A-Za-z0-9]+)|([^0-9A-Za-z \\t])|(\\w+:\\/\\/\\S+)|^rt|http.+?\", \" \", normalized_pure_Text)\n",
    "\n",
    "print(text_no_uni)"
   ]
  },
  {
   "cell_type": "code",
   "execution_count": 112,
   "id": "744f3f14",
   "metadata": {},
   "outputs": [
    {
     "data": {
      "text/plain": [
       "'rangefinders changeable lens leica iif red dial nostalgia tool serious storytelling exphotog september 28 2021 years working concert photographer decided move analog full time last year transition easy reconcile comfort shooting 900 frames two hour concert inherently laborious nature acquiring handling processing film logistics aside reimagine photographic style wanted accomplish work concert photography core intense work one needs carefully prepare photo pit experience wait around hours witness bands complete soundcheck feel tension uneasy unpredictable crowd anticipate darkness descend venue finally shuffle tight pitch black photo pit first three songs flash golden rule concert photography whole lot sweating headbanging times blood alcohol crowd surfing ushered safety security unforgettable rush adrenaline one jostles around get shot pit much like stage much photography raw energy flow emotions everything one knows photography goes window taming one gear wrestling elements things matter primordial performing live norway exhilarating experiences though quite take promised land photography years felt burned repetitive nature work importantly joy photography gone decided turn film exclusively explore different direction work towards analog journey film began many years prior decision embrace full time child 1980s vividly remember snapping photos various point shoot cameras around house first film camera purchased lubitel lomo 166b bought ebay many years ago took six weeks arrive ukraine good photography back camera ended extremely important development photographer starters taught use external light meter shoot manual mode develop film importantly patience patience loading film metering scene setting shutter speed aperture values focusing manually aware around people light weather whole shebang camera produced keepers literally opened eyes new world world revolve around auto focus memory cards one could explore universe way old timers also flipped inside switch know existed one instilled lifelong appreciation nay obsession things mechanical nowadays time favorite cameras rotation use different purposes among leica m2 nikon fm rolleiflex 2 8f need cameras buy test cameras order get feel feel bond usually keep recently saw video someone mentioned barnack leicas offered best bang buck leica world research finally decided give try luckily leica iif red dial summitar 5cm f 2 available local camera store immediately picked see fuss vintage feel modern context first impressions iif mostly clad nostalgia aesthetics easily gorgeous camera along rolleiflex compact importantly fun camera use build quality astonishing right leica bodies copy summitar far excellent many fine scratches significant coating wear despite flaws undoubtedly handsome collapsible 50mm true icon time along elmar 5cm f 3 5 love camera definitely grew purchased truth never really expected enjoy much time drew leica iif looks nostalgic vibes actually capable tool documentary type work streets actually good deal promised decided answer questions particularly cold july morning set take photos vibrant neighborhood near place see iif would perform nature loaded roll delta 3200 shot 1600 dramatic effect mostly overcast day photos processed local lab minimal post scan adjustments done capture one despite slow film advance mechanism knob vs lever leica ms even slower film loading mechanism requires one cut longer leader cumbersome field separate viewfinders focusing composition lens clickless aperture ring lack slow shutter speeds iif goes 1 25ths second bulb compared iiif separate slow shutter speed dial front factors theory negatives found using iif surprisingly satisfying experience really feel limited slow film advance knob separate focus composition windows none perceived cons really affected approach although definitely recommend zone focusing speed important life tradeoffs case iif give speed compensated size feel collapsible lens makes entire kit pocketable easy carry also weighs less leica owned m2 like russian weightlifter steroids next iif finally vintage glass creates pleasant images even mundane setting see camera lens combination working especially well dramatic subject matter black white portraiture abstract nature landscape work iif pure nostalgia tool serious storytelling based experience say lot iif feel thing whole lot value money articles 35mmc subject matter discussed please click one following tag links leica iiif leica rangefinder rangefinder cameracontribute 35mmc ad free experiencethere two ways experience 35mmc without adverts paid subscription 2 99 per month never see advert free 3 day trial subscribe content contributor become part world biggest film alternative photography community blog contributors ad free experience life sign leica iiifleica rangefinderrangefinder camera exphotog profile posts share 11 comments'"
      ]
     },
     "execution_count": 112,
     "metadata": {},
     "output_type": "execute_result"
    }
   ],
   "source": [
    "import nltk.corpus\n",
    "# nltk.download('stopwords')\n",
    "from nltk.corpus import stopwords\n",
    "\n",
    "stop = stopwords.words('english')\n",
    "text_non_stop = \" \".join(word for word in text_no_uni.split() if word not in (stop))\n",
    "text_non_stop"
   ]
  },
  {
   "cell_type": "code",
   "execution_count": 77,
   "id": "271362c1",
   "metadata": {},
   "outputs": [
    {
     "name": "stdout",
     "output_type": "stream",
     "text": [
      "walk = walk\n",
      "walking = walk\n",
      "Talking = talk\n",
      "Talk = talk\n",
      "Leica = leica\n",
      "leica = leica\n",
      "Litez = litez\n",
      "cam = cam\n",
      "camera = camera\n",
      "photo = photo\n",
      "picture = pictur\n"
     ]
    }
   ],
   "source": [
    "import nltk\n",
    "from nltk.stem.porter import PorterStemmer\n",
    "from nltk.stem import WordNetLemmatizer\n",
    "\n",
    "# words = [\"jump\", \"jumped\", \"jumps\", \"jumping\"]\n",
    "words = [\"walk\", \"walking\", \"Talking\", \"Talk\", \"Leica\", \"leica\", \"Litez\", \"cam\", \"camera\", \"photo\", \"picture\"]\n",
    "stemmer = PorterStemmer()\n",
    "for word in words:\n",
    "    print(word + \" = \" + stemmer.stem(word))"
   ]
  },
  {
   "cell_type": "code",
   "execution_count": 106,
   "id": "248b44fc",
   "metadata": {},
   "outputs": [],
   "source": [
    "# pure_text\n",
    "# normalized_pure_Text\n",
    "# text_no_uni\n",
    "# text_non_stop\n",
    "\n",
    "language = \"en\"\n",
    "max_ngram_size = 3\n",
    "deduplication_thresold = 0.9\n",
    "deduplication_algo = 'seqm'\n",
    "# deduplication_algo = 'cosine'\n",
    "# windowSize = 1\n",
    "windowSize = 2\n",
    "numOfKeywords = 20\n",
    "\n",
    "kw_extractor = yake.KeywordExtractor(lan=language, \n",
    "                                     n=max_ngram_size, \n",
    "                                     dedupLim=deduplication_thresold, \n",
    "                                     dedupFunc=deduplication_algo, \n",
    "                                     windowsSize=windowSize, \n",
    "                                     top=numOfKeywords)                                    "
   ]
  },
  {
   "cell_type": "code",
   "execution_count": 107,
   "id": "f342c431",
   "metadata": {},
   "outputs": [
    {
     "name": "stdout",
     "output_type": "stream",
     "text": [
      "('Leica IIf Red', 0.017413915292410438)\n",
      "('Leica', 0.020027544825609395)\n",
      "('Leica IIf', 0.026217001006344342)\n",
      "('IIf', 0.03008917159413391)\n",
      "('Changeable Lens', 0.0315825874042204)\n",
      "('film', 0.03325244895141197)\n",
      "('camera', 0.03479436978524879)\n",
      "('IIf Red Dial', 0.035989920102702695)\n",
      "('photography', 0.04045755012843113)\n",
      "('Leica iiif leica', 0.04577756044481795)\n",
      "('feel', 0.054072712612957326)\n",
      "('n’t', 0.05420290148001318)\n",
      "('work', 0.06531869792595216)\n",
      "('Changeable', 0.06540984664825099)\n",
      "('Concert photography', 0.06882563931109828)\n",
      "('IIf Red', 0.06998546203204406)\n",
      "('cameras', 0.07828733201680978)\n",
      "('Red Dial', 0.08858495136899033)\n",
      "('experience', 0.09277464479919757)\n",
      "('concert', 0.09345908640957311)\n"
     ]
    }
   ],
   "source": [
    "# pure_text\n",
    "\n",
    "keywords = kw_extractor.extract_keywords(pure_text)\n",
    "\n",
    "for kw in keywords:\n",
    "    print(kw)"
   ]
  },
  {
   "cell_type": "code",
   "execution_count": 108,
   "id": "92945093",
   "metadata": {},
   "outputs": [
    {
     "name": "stdout",
     "output_type": "stream",
     "text": [
      "('iif', 0.02902021813291462)\n",
      "('leica', 0.029175933655201332)\n",
      "('film', 0.03188754183627568)\n",
      "('camera', 0.033529516186361796)\n",
      "('leica iif', 0.03804790666052447)\n",
      "('photography', 0.038442045074762794)\n",
      "('leica iif red', 0.04761682017178959)\n",
      "('n’t', 0.0518772544536355)\n",
      "('concert photography', 0.05457494947745954)\n",
      "('feel', 0.057470619219237365)\n",
      "('work', 0.06264962994171441)\n",
      "('cameras', 0.07544141141931406)\n",
      "('concert', 0.07999753997594031)\n",
      "('experience', 0.09037454742288525)\n",
      "('slow film', 0.097504976136648)\n",
      "('iif red dial', 0.10265960595414789)\n",
      "('years', 0.10313345603196797)\n",
      "('slow film advance', 0.10567989685367442)\n",
      "('film camera', 0.1064708753258618)\n",
      "('leica iiif leica', 0.11341856270632887)\n"
     ]
    }
   ],
   "source": [
    "# normalized_pure_Text\n",
    "\n",
    "keywords = kw_extractor.extract_keywords(normalized_pure_Text)\n",
    "\n",
    "for kw in keywords:\n",
    "    print(kw)"
   ]
  },
  {
   "cell_type": "code",
   "execution_count": 109,
   "id": "94acb057",
   "metadata": {},
   "outputs": [
    {
     "name": "stdout",
     "output_type": "stream",
     "text": [
      "('leica iif red', 2.400971769480913e-05)\n",
      "('slow film advance', 3.9798439552444383e-05)\n",
      "('lens leica iif', 3.997531030722261e-05)\n",
      "('iif red dial', 4.0528745177883946e-05)\n",
      "('leica iiif leica', 5.228775610618507e-05)\n",
      "('work concert photography', 6.467294542064571e-05)\n",
      "('leica rangefinder rangefinder', 7.487237413908099e-05)\n",
      "('time favorite cameras', 8.018005345704103e-05)\n",
      "('photo pit experience', 8.501497365116315e-05)\n",
      "('iiif leica rangefinder', 8.768473052983698e-05)\n",
      "('slow shutter speeds', 8.98784252150175e-05)\n",
      "('changeable lens leica', 9.664079627709604e-05)\n",
      "('iif pure nostalgia', 0.00010069608836772397)\n",
      "('shutter speed dial', 0.000103143659040566)\n",
      "('film advance mechanism', 0.0001048617111639443)\n",
      "('film advance knob', 0.0001048617111639443)\n",
      "('film loading mechanism', 0.00010919130487659338)\n",
      "('separate slow shutter', 0.00011161683661065045)\n",
      "('local camera store', 0.00011597628583886876)\n",
      "('links leica iiif', 0.00012092646937233737)\n"
     ]
    }
   ],
   "source": [
    "# text_no_uni\n",
    "\n",
    "keywords = kw_extractor.extract_keywords(text_no_uni)\n",
    "\n",
    "for kw in keywords:\n",
    "    print(kw)"
   ]
  },
  {
   "cell_type": "code",
   "execution_count": 110,
   "id": "a536eaa6",
   "metadata": {},
   "outputs": [
    {
     "name": "stdout",
     "output_type": "stream",
     "text": [
      "('slow film advance', 0.0003123235622990405)\n",
      "('iif red dial', 0.00033170075359747407)\n",
      "('leica iif red', 0.0004734829910639343)\n",
      "('red dial nostalgia', 0.00048244177878254866)\n",
      "('rangefinder rangefinder cameracontribute', 0.0004912782025355829)\n",
      "('advance mechanism knob', 0.0004947746709083979)\n",
      "('patience patience loading', 0.0004958069285697835)\n",
      "('storytelling exphotog september', 0.0005067102402314637)\n",
      "('dial nostalgia tool', 0.0005079790937228821)\n",
      "('lack slow shutter', 0.0005099192323665967)\n",
      "('slow shutter speeds', 0.0005132603263377851)\n",
      "('importantly patience patience', 0.0005151362761370311)\n",
      "('red dial summitar', 0.0005163760113338049)\n",
      "('pure nostalgia tool', 0.0005341318784255997)\n",
      "('separate slow shutter', 0.0005360551904537729)\n",
      "('shutter speed dial', 0.0005376325624327989)\n",
      "('advance knob separate', 0.0005400498360184488)\n",
      "('adverts paid subscription', 0.0005571648633295729)\n",
      "('capable tool documentary', 0.0005616394812499909)\n",
      "('tool documentary type', 0.0005616394812499909)\n"
     ]
    }
   ],
   "source": [
    "# text_non_stop\n",
    "\n",
    "keywords = kw_extractor.extract_keywords(text_non_stop)\n",
    "\n",
    "for kw in keywords:\n",
    "    print(kw)"
   ]
  },
  {
   "cell_type": "code",
   "execution_count": 137,
   "id": "85d24585",
   "metadata": {},
   "outputs": [
    {
     "name": "stdout",
     "output_type": "stream",
     "text": [
      "('leica', 11)\n",
      "('iif', 11)\n",
      "('film', 10)\n",
      "('one', 9)\n",
      "('camera', 9)\n",
      "('photography', 8)\n",
      "('feel', 7)\n",
      "('work', 6)\n",
      "('time', 5)\n",
      "('experience', 5)\n",
      "('around', 5)\n",
      "('lens', 4)\n",
      "('years', 4)\n",
      "('concert', 4)\n",
      "('decided', 4)\n",
      "('nature', 4)\n",
      "('cameras', 4)\n",
      "('speed', 4)\n",
      "('world', 4)\n",
      "('see', 4)\n",
      "('slow', 4)\n",
      "('dial', 3)\n",
      "('nostalgia', 3)\n",
      "('tool', 3)\n",
      "('pit', 3)\n",
      "('finally', 3)\n",
      "('first', 3)\n",
      "('whole', 3)\n",
      "('lot', 3)\n",
      "('much', 3)\n",
      "('matter', 3)\n",
      "('importantly', 3)\n",
      "('many', 3)\n",
      "('photos', 3)\n",
      "('use', 3)\n",
      "('shutter', 3)\n",
      "('focusing', 3)\n",
      "('2', 3)\n",
      "('really', 3)\n",
      "('separate', 3)\n",
      "('35mmc', 3)\n",
      "('free', 3)\n",
      "Total Words :  691\n",
      "Time elapsed: 0.0046803951263427734 seconds\n"
     ]
    }
   ],
   "source": [
    "# from cleaned text\n",
    "# text_non_stop\n",
    "# extract words frequency\n",
    "\n",
    "# using counter\n",
    "import time\n",
    "start_time = time.time()\n",
    "\n",
    "# your code goes here\n",
    "from collections import Counter\n",
    "line_text = text_non_stop\n",
    "freq = Counter(line_text.split()).most_common()\n",
    "for i in freq:\n",
    "    if i[1] > 2:\n",
    "        print(i)\n",
    "\n",
    "end_time = time.time()\n",
    "elapsed_time = end_time - start_time\n",
    "print(\"Total Words : \", len(line_text.split()))\n",
    "print('Time elapsed: {} seconds'.format(elapsed_time))"
   ]
  },
  {
   "cell_type": "code",
   "execution_count": 138,
   "id": "4dd789b5",
   "metadata": {},
   "outputs": [
    {
     "name": "stdout",
     "output_type": "stream",
     "text": [
      "('leica', 11)\n",
      "('iif', 11)\n",
      "('film', 10)\n",
      "('one', 9)\n",
      "('camera', 9)\n",
      "('photography', 8)\n",
      "('feel', 7)\n",
      "('work', 6)\n",
      "('time', 5)\n",
      "('experience', 5)\n",
      "('around', 5)\n",
      "('lens', 4)\n",
      "('years', 4)\n",
      "('concert', 4)\n",
      "('decided', 4)\n",
      "('nature', 4)\n",
      "('cameras', 4)\n",
      "('speed', 4)\n",
      "('world', 4)\n",
      "('see', 4)\n",
      "('slow', 4)\n",
      "('dial', 3)\n",
      "('nostalgia', 3)\n",
      "('tool', 3)\n",
      "('pit', 3)\n",
      "('finally', 3)\n",
      "('first', 3)\n",
      "('whole', 3)\n",
      "('lot', 3)\n",
      "('much', 3)\n",
      "('matter', 3)\n",
      "('importantly', 3)\n",
      "('many', 3)\n",
      "('photos', 3)\n",
      "('use', 3)\n",
      "('shutter', 3)\n",
      "('focusing', 3)\n",
      "('2', 3)\n",
      "('really', 3)\n",
      "('separate', 3)\n",
      "('35mmc', 3)\n",
      "('free', 3)\n",
      "Total Words :  691\n",
      "Time elapsed: 0.01168513298034668 seconds\n"
     ]
    }
   ],
   "source": [
    "# using FreqDist\n",
    "\n",
    "start_time = time.time()\n",
    "\n",
    "from nltk import FreqDist\n",
    "text = text_non_stop\n",
    "words = text.split()\n",
    "fdist1 = FreqDist(words)\n",
    "# print(fdist1)\n",
    "# print(fdist1.most_common())\n",
    "for i in fdist1.most_common():\n",
    "    if i[1] > 2:\n",
    "        print(i)\n",
    "        \n",
    "end_time = time.time()\n",
    "elapsed_time = end_time - start_time\n",
    "print(\"Total Words : \", len(line_text.split()))\n",
    "print('Time elapsed: {} seconds'.format(elapsed_time))        "
   ]
  },
  {
   "cell_type": "code",
   "execution_count": null,
   "id": "3d925d96",
   "metadata": {},
   "outputs": [],
   "source": []
  }
 ],
 "metadata": {
  "kernelspec": {
   "display_name": "Python 3 (ipykernel)",
   "language": "python",
   "name": "python3"
  },
  "language_info": {
   "codemirror_mode": {
    "name": "ipython",
    "version": 3
   },
   "file_extension": ".py",
   "mimetype": "text/x-python",
   "name": "python",
   "nbconvert_exporter": "python",
   "pygments_lexer": "ipython3",
   "version": "3.9.13"
  }
 },
 "nbformat": 4,
 "nbformat_minor": 5
}
