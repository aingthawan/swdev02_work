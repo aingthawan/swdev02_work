{
 "cells": [
  {
   "cell_type": "code",
   "execution_count": 1,
   "id": "ba246e3b",
   "metadata": {},
   "outputs": [
    {
     "name": "stdout",
     "output_type": "stream",
     "text": [
      "Requirement already satisfied: pyspider in c:\\users\\aingt\\anaconda3\\lib\\site-packages (0.3.10)\n",
      "Requirement already satisfied: pycurl in c:\\users\\aingt\\anaconda3\\lib\\site-packages (from pyspider) (7.45.1)\n",
      "Collecting tornado<=4.5.3,>=3.2\n",
      "  Using cached tornado-4.5.3-cp39-cp39-win_amd64.whl\n",
      "Requirement already satisfied: tblib>=1.3.0 in c:\\users\\aingt\\anaconda3\\lib\\site-packages (from pyspider) (1.7.0)\n",
      "Requirement already satisfied: Jinja2>=2.7 in c:\\users\\aingt\\anaconda3\\lib\\site-packages (from pyspider) (2.11.3)\n",
      "Requirement already satisfied: chardet>=2.2 in c:\\users\\aingt\\anaconda3\\lib\\site-packages (from pyspider) (4.0.0)\n",
      "Requirement already satisfied: Flask>=0.10 in c:\\users\\aingt\\anaconda3\\lib\\site-packages (from pyspider) (1.1.2)\n",
      "Requirement already satisfied: six>=1.5.0 in c:\\users\\aingt\\anaconda3\\lib\\site-packages (from pyspider) (1.16.0)\n",
      "Requirement already satisfied: Flask-Login>=0.2.11 in c:\\users\\aingt\\anaconda3\\lib\\site-packages (from pyspider) (0.6.2)\n",
      "Requirement already satisfied: click>=3.3 in c:\\users\\aingt\\anaconda3\\lib\\site-packages (from pyspider) (8.0.4)\n",
      "Requirement already satisfied: wsgidav>=2.0.0 in c:\\users\\aingt\\anaconda3\\lib\\site-packages (from pyspider) (4.1.0)\n",
      "Requirement already satisfied: lxml in c:\\users\\aingt\\anaconda3\\lib\\site-packages (from pyspider) (4.9.1)\n",
      "Requirement already satisfied: cssselect>=0.9 in c:\\users\\aingt\\anaconda3\\lib\\site-packages (from pyspider) (1.2.0)\n",
      "Requirement already satisfied: u-msgpack-python>=1.6 in c:\\users\\aingt\\anaconda3\\lib\\site-packages (from pyspider) (2.7.2)\n",
      "Requirement already satisfied: requests>=2.2 in c:\\users\\aingt\\anaconda3\\lib\\site-packages (from pyspider) (2.28.1)\n",
      "Requirement already satisfied: pyquery in c:\\users\\aingt\\anaconda3\\lib\\site-packages (from pyspider) (2.0.0)\n",
      "Requirement already satisfied: colorama in c:\\users\\aingt\\anaconda3\\lib\\site-packages (from click>=3.3->pyspider) (0.4.5)\n",
      "Requirement already satisfied: itsdangerous>=0.24 in c:\\users\\aingt\\anaconda3\\lib\\site-packages (from Flask>=0.10->pyspider) (2.0.1)\n",
      "Requirement already satisfied: Werkzeug>=0.15 in c:\\users\\aingt\\anaconda3\\lib\\site-packages (from Flask>=0.10->pyspider) (2.0.3)\n",
      "Requirement already satisfied: MarkupSafe>=0.23 in c:\\users\\aingt\\anaconda3\\lib\\site-packages (from Jinja2>=2.7->pyspider) (2.0.1)\n",
      "Requirement already satisfied: certifi>=2017.4.17 in c:\\users\\aingt\\anaconda3\\lib\\site-packages (from requests>=2.2->pyspider) (2022.9.14)\n",
      "Requirement already satisfied: urllib3<1.27,>=1.21.1 in c:\\users\\aingt\\anaconda3\\lib\\site-packages (from requests>=2.2->pyspider) (1.26.11)\n",
      "Requirement already satisfied: charset-normalizer<3,>=2 in c:\\users\\aingt\\anaconda3\\lib\\site-packages (from requests>=2.2->pyspider) (2.0.4)\n",
      "Requirement already satisfied: idna<4,>=2.5 in c:\\users\\aingt\\anaconda3\\lib\\site-packages (from requests>=2.2->pyspider) (3.3)\n",
      "Requirement already satisfied: json5 in c:\\users\\aingt\\anaconda3\\lib\\site-packages (from wsgidav>=2.0.0->pyspider) (0.9.6)\n",
      "Requirement already satisfied: PyYAML in c:\\users\\aingt\\anaconda3\\lib\\site-packages (from wsgidav>=2.0.0->pyspider) (6.0)\n",
      "Requirement already satisfied: defusedxml in c:\\users\\aingt\\anaconda3\\lib\\site-packages (from wsgidav>=2.0.0->pyspider) (0.7.1)\n",
      "Installing collected packages: tornado\n",
      "  Attempting uninstall: tornado\n",
      "    Found existing installation: tornado 6.2\n",
      "    Uninstalling tornado-6.2:\n",
      "      Successfully uninstalled tornado-6.2\n"
     ]
    },
    {
     "name": "stderr",
     "output_type": "stream",
     "text": [
      "ERROR: Could not install packages due to an OSError: [WinError 5] Access is denied: 'C:\\\\Users\\\\aingt\\\\anaconda3\\\\Lib\\\\site-packages\\\\~ornado\\\\speedups.pyd'\n",
      "Consider using the `--user` option or check the permissions.\n",
      "\n"
     ]
    }
   ],
   "source": [
    "!pip install pyspider"
   ]
  },
  {
   "cell_type": "code",
   "execution_count": null,
   "id": "4ac74d2b",
   "metadata": {},
   "outputs": [],
   "source": []
  }
 ],
 "metadata": {
  "kernelspec": {
   "display_name": "Python 3 (ipykernel)",
   "language": "python",
   "name": "python3"
  },
  "language_info": {
   "codemirror_mode": {
    "name": "ipython",
    "version": 3
   },
   "file_extension": ".py",
   "mimetype": "text/x-python",
   "name": "python",
   "nbconvert_exporter": "python",
   "pygments_lexer": "ipython3",
   "version": "3.9.13"
  }
 },
 "nbformat": 4,
 "nbformat_minor": 5
}
