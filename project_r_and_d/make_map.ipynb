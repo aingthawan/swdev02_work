{
 "cells": [
  {
   "cell_type": "code",
   "execution_count": null,
   "metadata": {},
   "outputs": [],
   "source": [
    "import sqlite3"
   ]
  },
  {
   "cell_type": "code",
   "execution_count": null,
   "metadata": {},
   "outputs": [],
   "source": [
    "conn = sqlite3.connect('database_elt_main.db', timeout=10)\n",
    "curr = conn.cursor()"
   ]
  },
  {
   "cell_type": "code",
   "execution_count": null,
   "metadata": {},
   "outputs": [],
   "source": [
    "id_list = [1930, 74]"
   ]
  },
  {
   "cell_type": "code",
   "execution_count": null,
   "metadata": {},
   "outputs": [],
   "source": [
    "curr.execute(f\"SELECT Place FROM Web_Data WHERE Web_ID IN {tuple(id_list)}\")"
   ]
  },
  {
   "cell_type": "code",
   "execution_count": null,
   "metadata": {},
   "outputs": [],
   "source": [
    "places = curr.fetchall()\n",
    "places"
   ]
  },
  {
   "cell_type": "code",
   "execution_count": null,
   "metadata": {},
   "outputs": [],
   "source": [
    "# join all dictionary into one dictionary\n",
    "final_dict = {}\n",
    "for i in places:\n",
    "    temp_dict = eval(i[0])\n",
    "    for key, value in temp_dict.items():\n",
    "        if key not in final_dict:\n",
    "            final_dict[key] = value\n",
    "        else:\n",
    "            final_dict[key] += value\n",
    "final_dict"
   ]
  },
  {
   "cell_type": "code",
   "execution_count": null,
   "metadata": {},
   "outputs": [],
   "source": [
    "import pandas as pd\n",
    "import folium"
   ]
  },
  {
   "cell_type": "code",
   "execution_count": null,
   "metadata": {},
   "outputs": [],
   "source": [
    "data = {'Country': ['United States', 'Canada', 'Mexico', 'Brazil', 'Argentina'],\n",
    "        'Frequency': [10, 5, 8, 2, 7]}\n",
    "df = pd.DataFrame(data)"
   ]
  },
  {
   "cell_type": "code",
   "execution_count": null,
   "metadata": {},
   "outputs": [],
   "source": [
    "world_geojson_url = 'https://raw.githubusercontent.com/python-visualization/folium/master/examples/data'\n",
    "world_geojson = f'{world_geojson_url}/world-countries.json'\n",
    "\n",
    "m = folium.Map(location=[0, 0], zoom_start=2)\n",
    "folium.GeoJson(world_geojson, name='geojson').add_to(m)"
   ]
  },
  {
   "cell_type": "code",
   "execution_count": null,
   "metadata": {},
   "outputs": [],
   "source": [
    "highlight_country = 'United States'\n",
    "folium.Choropleth(\n",
    "    geo_data=world_geojson,\n",
    "    name='choropleth',\n",
    "    data=df,\n",
    "    columns=['Country', 'Frequency'],\n",
    "    key_on='feature.properties.name',\n",
    "    fill_color='YlGn',\n",
    "    fill_opacity=0.7,\n",
    "    line_opacity=0.2,\n",
    "    legend_name='Frequency'\n",
    ").add_to(m)\n",
    "\n",
    "# Highlight the specific country\n",
    "highlighted_country = df.loc[df['Country'] == highlight_country]\n",
    "folium.Marker(location=[highlighted_country['Latitude'].item(), highlighted_country['Longitude'].item()],\n",
    "              icon=folium.Icon(color='red', icon='info-sign')).add_to(m)\n",
    "\n",
    "folium.LayerControl().add_to(m)\n",
    "m"
   ]
  },
  {
   "cell_type": "code",
   "execution_count": null,
   "metadata": {},
   "outputs": [],
   "source": [
    "import folium\n",
    "\n",
    "# create a map object\n",
    "m = folium.Map(location=[37.7749, -122.4194], zoom_start=12)\n",
    "\n",
    "# add all the markers for the locations\n",
    "# folium.Marker(location=[37.7749, -122.4194], popup='San Francisco').add_to(m)\n",
    "# folium.Marker(location=[37.7749, -122.5194], popup='Daly City').add_to(m)\n",
    "# folium.Marker(location=[37.6749, -122.4194], popup='San Bruno').add_to(m)\n",
    "# folium.Marker(location=[37.8749, -122.4194], popup='Berkeley').add_to(m)\n",
    "# folium.Marker(location=[37.9749, -122.4194], popup='Richmond').add_to(m)\n",
    "# folium.Marker(location=[37.8749, -122.5194], popup='Oakland').add_to(m)\n",
    "\n",
    "# sort the locations based on some criteria (e.g., proximity to city center)\n",
    "sorted_locations = sorted([(37.7749, -122.4194, 'San Francisco'),\n",
    "                           (37.7749, -122.5194, 'Daly City'),\n",
    "                           (37.6749, -122.4194, 'San Bruno'),\n",
    "                           (37.8749, -122.4194, 'Berkeley'),\n",
    "                           (37.9749, -122.4194, 'Richmond'),\n",
    "                           (37.8749, -122.5194, 'Oakland')], key=lambda x: x[0], reverse=True)[:5]\n",
    "\n",
    "# create a feature group for the top 5 markers\n",
    "top5 = folium.FeatureGroup(name='Top 5')\n",
    "for loc in sorted_locations:\n",
    "    folium.Marker(location=[loc[0], loc[1]], popup=loc[2]).add_to(top5)\n",
    "\n",
    "# add the top 5 feature group to the map\n",
    "m.add_child(top5)\n",
    "\n",
    "# add a legend to the map\n",
    "folium.LayerControl().add_to(m)\n",
    "\n",
    "# display the map\n",
    "m\n"
   ]
  },
  {
   "cell_type": "code",
   "execution_count": null,
   "metadata": {},
   "outputs": [],
   "source": [
    "country_dict = {'United States': 10, 'Canada': 5, 'Mexico': 8, 'Brazil': 2, 'Argentina': 7}\n",
    "country_dict = {k: v for k, v in sorted(country_dict.items(), key=lambda item: item[1], reverse=True)}"
   ]
  },
  {
   "cell_type": "code",
   "execution_count": null,
   "metadata": {},
   "outputs": [],
   "source": [
    "country_dict"
   ]
  },
  {
   "cell_type": "code",
   "execution_count": null,
   "metadata": {},
   "outputs": [],
   "source": [
    "import sys\n",
    "from PyQt5.QtCore import *\n",
    "from PyQt5.QtGui import *\n",
    "from PyQt5.QtWidgets import *\n",
    "from PyQt5.QtWebEngineWidgets import *\n",
    "\n",
    "class Browser(QMainWindow):\n",
    "    def __init__(self):\n",
    "        super().__init__()\n",
    "\n",
    "        # Create the web view\n",
    "        self.view = QWebEngineView()\n",
    "        self.setCentralWidget(self.view)\n",
    "\n",
    "        # Create the toolbar\n",
    "        toolbar = QToolBar()\n",
    "        self.addToolBar(toolbar)\n",
    "\n",
    "        # Add the back button to the toolbar\n",
    "        back_button = QAction(QIcon('back.png'), 'Back', self)\n",
    "        back_button.triggered.connect(self.view.back)\n",
    "        toolbar.addAction(back_button)\n",
    "\n",
    "        # Add the forward button to the toolbar\n",
    "        forward_button = QAction(QIcon('forward.png'), 'Forward', self)\n",
    "        forward_button.triggered.connect(self.view.forward)\n",
    "        toolbar.addAction(forward_button)\n",
    "\n",
    "        # Add the reload button to the toolbar\n",
    "        reload_button = QAction(QIcon('reload.png'), 'Reload', self)\n",
    "        reload_button.triggered.connect(self.view.reload)\n",
    "        toolbar.addAction(reload_button)\n",
    "\n",
    "        # Add the stop button to the toolbar\n",
    "        stop_button = QAction(QIcon('stop.png'), 'Stop', self)\n",
    "        stop_button.triggered.connect(self.view.stop)\n",
    "        toolbar.addAction(stop_button)\n",
    "\n",
    "        # Set the window properties\n",
    "        self.setWindowTitle('Web Browser')\n",
    "        self.setGeometry(100, 100, 800, 600)\n",
    "\n",
    "    def load_url(self, url):\n",
    "        self.view.load(QUrl(url))\n",
    "\n",
    "if __name__ == '__main__':\n",
    "    app = QApplication(sys.argv)\n",
    "    browser = Browser()\n",
    "    browser.show()\n",
    "    browser.load_url('https://www.google.com')\n",
    "    sys.exit(app.exec_())\n"
   ]
  },
  {
   "cell_type": "code",
   "execution_count": null,
   "metadata": {},
   "outputs": [],
   "source": [
    "import sys\n",
    "from PyQt5.QtCore import QUrl\n",
    "from PyQt5.QtWidgets import QApplication, QMainWindow, QLineEdit, QPushButton\n",
    "from PyQt5.QtWebEngineWidgets import QWebEngineView\n",
    "\n",
    "\n",
    "class BrowserWindow(QMainWindow):\n",
    "    def __init__(self):\n",
    "        super().__init__()\n",
    "\n",
    "        self.setWindowTitle(\"Web Browser\")\n",
    "        self.setGeometry(100, 100, 800, 600)\n",
    "\n",
    "        self.url_input = QLineEdit(self)\n",
    "        self.url_input.move(10, 10)\n",
    "        self.url_input.resize(600, 30)\n",
    "\n",
    "        self.go_button = QPushButton(\"Go\", self)\n",
    "        self.go_button.move(620, 10)\n",
    "        self.go_button.clicked.connect(self.load_url)\n",
    "\n",
    "        self.web_view = QWebEngineView(self)\n",
    "        self.web_view.move(10, 50)\n",
    "        self.web_view.resize(780, 540)\n",
    "\n",
    "    def load_url(self):\n",
    "        url = self.url_input.text()\n",
    "        self.web_view.load(QUrl(url))\n",
    "\n",
    "\n",
    "if __name__ == \"__main__\":\n",
    "    app = QApplication(sys.argv)\n",
    "\n",
    "    browser_window = BrowserWindow()\n",
    "    browser_window.show()\n",
    "\n",
    "    sys.exit(app.exec_())\n"
   ]
  },
  {
   "cell_type": "code",
   "execution_count": 1,
   "metadata": {},
   "outputs": [
    {
     "name": "stdout",
     "output_type": "stream",
     "text": [
      "Input: \n",
      "Input: \n"
     ]
    },
    {
     "ename": "SystemExit",
     "evalue": "0",
     "output_type": "error",
     "traceback": [
      "An exception has occurred, use %tb to see the full traceback.\n",
      "\u001b[1;31mSystemExit\u001b[0m\u001b[1;31m:\u001b[0m 0\n"
     ]
    },
    {
     "name": "stderr",
     "output_type": "stream",
     "text": [
      "C:\\Users\\aingt\\AppData\\Local\\Packages\\PythonSoftwareFoundation.Python.3.10_qbz5n2kfra8p0\\LocalCache\\local-packages\\Python310\\site-packages\\IPython\\core\\interactiveshell.py:3450: UserWarning: To exit: use 'exit', 'quit', or Ctrl-D.\n",
      "  warn(\"To exit: use 'exit', 'quit', or Ctrl-D.\", stacklevel=1)\n"
     ]
    }
   ],
   "source": [
    "import sys\n",
    "from PyQt5.QtWidgets import QApplication, QWidget, QVBoxLayout, QLineEdit, QPushButton\n",
    "\n",
    "class MainWindow(QWidget):\n",
    "    def __init__(self):\n",
    "        super().__init__()\n",
    "        self.setWindowTitle(\"Input Box and Button Example\")\n",
    "\n",
    "        # Create input box and button\n",
    "        self.input_box = QLineEdit()\n",
    "        self.submit_button = QPushButton(\"Submit\")\n",
    "\n",
    "        # Disable button if input is \"not\"\n",
    "        if self.input_box.text() == \"not\":\n",
    "            self.submit_button.setEnabled(False)\n",
    "\n",
    "        # Connect input box to function that checks if button should be enabled\n",
    "        self.input_box.textChanged.connect(self.check_input)\n",
    "\n",
    "        # Connect button to function that prints input\n",
    "        self.submit_button.clicked.connect(self.print_input)\n",
    "\n",
    "        # Set up layout\n",
    "        layout = QVBoxLayout()\n",
    "        layout.addWidget(self.input_box)\n",
    "        layout.addWidget(self.submit_button)\n",
    "        self.setLayout(layout)\n",
    "\n",
    "    def check_input(self):\n",
    "        # Enable button if input is not \"not\"\n",
    "        if self.input_box.text() != \"not\":\n",
    "            self.submit_button.setEnabled(True)\n",
    "        # Otherwise, disable button\n",
    "        else:\n",
    "            self.submit_button.setEnabled(False)\n",
    "\n",
    "    def print_input(self):\n",
    "        # Print input to console\n",
    "        print(\"Input:\", self.input_box.text())\n",
    "\n",
    "if __name__ == '__main__':\n",
    "    app = QApplication(sys.argv)\n",
    "    window = MainWindow()\n",
    "    window.show()\n",
    "    sys.exit(app.exec_())\n"
   ]
  },
  {
   "cell_type": "code",
   "execution_count": 1,
   "metadata": {},
   "outputs": [],
   "source": [
    "from PyQt5.QtCore import Qt\n",
    "from PyQt5.QtWidgets import QApplication, QWidget, QPushButton\n",
    "\n",
    "class MyButton(QPushButton):\n",
    "    def __init__(self, parent=None):\n",
    "        super().__init__(parent)\n",
    "        self.setStyleSheet(\"background-color: red\")\n",
    "\n",
    "    def enterEvent(self, event):\n",
    "        self.setStyleSheet(\"background-color: blue\")\n",
    "\n",
    "    def leaveEvent(self, event):\n",
    "        self.setStyleSheet(\"background-color: red\")\n",
    "\n",
    "if __name__ == '__main__':\n",
    "    app = QApplication([])\n",
    "    window = QWidget()\n",
    "    button = MyButton(window)\n",
    "    button.setText(\"Hover me\")\n",
    "    window.show()\n",
    "    app.exec_()\n"
   ]
  },
  {
   "cell_type": "code",
   "execution_count": null,
   "metadata": {},
   "outputs": [],
   "source": []
  }
 ],
 "metadata": {
  "kernelspec": {
   "display_name": "Python 3",
   "language": "python",
   "name": "python3"
  },
  "language_info": {
   "codemirror_mode": {
    "name": "ipython",
    "version": 3
   },
   "file_extension": ".py",
   "mimetype": "text/x-python",
   "name": "python",
   "nbconvert_exporter": "python",
   "pygments_lexer": "ipython3",
   "version": "3.10.10"
  },
  "orig_nbformat": 4
 },
 "nbformat": 4,
 "nbformat_minor": 2
}
