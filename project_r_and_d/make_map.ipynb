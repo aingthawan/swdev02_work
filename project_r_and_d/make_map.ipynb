{
 "cells": [
  {
   "cell_type": "code",
   "execution_count": 1,
   "metadata": {},
   "outputs": [],
   "source": [
    "import sqlite3"
   ]
  },
  {
   "cell_type": "code",
   "execution_count": 2,
   "metadata": {},
   "outputs": [],
   "source": [
    "conn = sqlite3.connect('database_elt_main.db', timeout=10)\n",
    "curr = conn.cursor()"
   ]
  },
  {
   "cell_type": "code",
   "execution_count": 3,
   "metadata": {},
   "outputs": [],
   "source": [
    "id_list = [1930, 74]"
   ]
  },
  {
   "cell_type": "code",
   "execution_count": 5,
   "metadata": {},
   "outputs": [
    {
     "data": {
      "text/plain": [
       "<sqlite3.Cursor at 0x1e765901fc0>"
      ]
     },
     "execution_count": 5,
     "metadata": {},
     "output_type": "execute_result"
    }
   ],
   "source": [
    "curr.execute(f\"SELECT Place FROM Web_Data WHERE Web_ID IN {tuple(id_list)}\")"
   ]
  },
  {
   "cell_type": "code",
   "execution_count": 6,
   "metadata": {},
   "outputs": [
    {
     "data": {
      "text/plain": [
       "[(\"{'india': 1, 'iceland': 1}\",),\n",
       " (\"{'ukraine': 1, 'spain': 1, 'turkey': 1, 'estonia': 1, 'iceland': 1}\",)]"
      ]
     },
     "execution_count": 6,
     "metadata": {},
     "output_type": "execute_result"
    }
   ],
   "source": [
    "places = curr.fetchall()\n",
    "places"
   ]
  },
  {
   "cell_type": "code",
   "execution_count": 14,
   "metadata": {},
   "outputs": [
    {
     "data": {
      "text/plain": [
       "{'india': 1, 'iceland': 2, 'ukraine': 1, 'spain': 1, 'turkey': 1, 'estonia': 1}"
      ]
     },
     "execution_count": 14,
     "metadata": {},
     "output_type": "execute_result"
    }
   ],
   "source": [
    "# join all dictionary into one dictionary\n",
    "final_dict = {}\n",
    "for i in places:\n",
    "    temp_dict = eval(i[0])\n",
    "    for key, value in temp_dict.items():\n",
    "        if key not in final_dict:\n",
    "            final_dict[key] = value\n",
    "        else:\n",
    "            final_dict[key] += value\n",
    "final_dict"
   ]
  },
  {
   "cell_type": "code",
   "execution_count": 16,
   "metadata": {},
   "outputs": [],
   "source": [
    "import pandas as pd\n",
    "import folium"
   ]
  },
  {
   "cell_type": "code",
   "execution_count": 17,
   "metadata": {},
   "outputs": [],
   "source": [
    "data = {'Country': ['United States', 'Canada', 'Mexico', 'Brazil', 'Argentina'],\n",
    "        'Frequency': [10, 5, 8, 2, 7]}\n",
    "df = pd.DataFrame(data)"
   ]
  },
  {
   "cell_type": "code",
   "execution_count": 18,
   "metadata": {},
   "outputs": [
    {
     "data": {
      "text/plain": [
       "<folium.features.GeoJson at 0x1e765497610>"
      ]
     },
     "execution_count": 18,
     "metadata": {},
     "output_type": "execute_result"
    }
   ],
   "source": [
    "world_geojson_url = 'https://raw.githubusercontent.com/python-visualization/folium/master/examples/data'\n",
    "world_geojson = f'{world_geojson_url}/world-countries.json'\n",
    "\n",
    "m = folium.Map(location=[0, 0], zoom_start=2)\n",
    "folium.GeoJson(world_geojson, name='geojson').add_to(m)"
   ]
  },
  {
   "cell_type": "code",
   "execution_count": 19,
   "metadata": {},
   "outputs": [
    {
     "ename": "KeyError",
     "evalue": "'Latitude'",
     "output_type": "error",
     "traceback": [
      "\u001b[1;31m---------------------------------------------------------------------------\u001b[0m",
      "\u001b[1;31mKeyError\u001b[0m                                  Traceback (most recent call last)",
      "File \u001b[1;32m~\\AppData\\Local\\Packages\\PythonSoftwareFoundation.Python.3.10_qbz5n2kfra8p0\\LocalCache\\local-packages\\Python310\\site-packages\\pandas\\core\\indexes\\base.py:3803\u001b[0m, in \u001b[0;36mIndex.get_loc\u001b[1;34m(self, key, method, tolerance)\u001b[0m\n\u001b[0;32m   3802\u001b[0m \u001b[39mtry\u001b[39;00m:\n\u001b[1;32m-> 3803\u001b[0m     \u001b[39mreturn\u001b[39;00m \u001b[39mself\u001b[39;49m\u001b[39m.\u001b[39;49m_engine\u001b[39m.\u001b[39;49mget_loc(casted_key)\n\u001b[0;32m   3804\u001b[0m \u001b[39mexcept\u001b[39;00m \u001b[39mKeyError\u001b[39;00m \u001b[39mas\u001b[39;00m err:\n",
      "File \u001b[1;32m~\\AppData\\Local\\Packages\\PythonSoftwareFoundation.Python.3.10_qbz5n2kfra8p0\\LocalCache\\local-packages\\Python310\\site-packages\\pandas\\_libs\\index.pyx:138\u001b[0m, in \u001b[0;36mpandas._libs.index.IndexEngine.get_loc\u001b[1;34m()\u001b[0m\n",
      "File \u001b[1;32m~\\AppData\\Local\\Packages\\PythonSoftwareFoundation.Python.3.10_qbz5n2kfra8p0\\LocalCache\\local-packages\\Python310\\site-packages\\pandas\\_libs\\index.pyx:165\u001b[0m, in \u001b[0;36mpandas._libs.index.IndexEngine.get_loc\u001b[1;34m()\u001b[0m\n",
      "File \u001b[1;32mpandas\\_libs\\hashtable_class_helper.pxi:5745\u001b[0m, in \u001b[0;36mpandas._libs.hashtable.PyObjectHashTable.get_item\u001b[1;34m()\u001b[0m\n",
      "File \u001b[1;32mpandas\\_libs\\hashtable_class_helper.pxi:5753\u001b[0m, in \u001b[0;36mpandas._libs.hashtable.PyObjectHashTable.get_item\u001b[1;34m()\u001b[0m\n",
      "\u001b[1;31mKeyError\u001b[0m: 'Latitude'",
      "\nThe above exception was the direct cause of the following exception:\n",
      "\u001b[1;31mKeyError\u001b[0m                                  Traceback (most recent call last)",
      "Cell \u001b[1;32mIn[19], line 16\u001b[0m\n\u001b[0;32m     14\u001b[0m \u001b[39m# Highlight the specific country\u001b[39;00m\n\u001b[0;32m     15\u001b[0m highlighted_country \u001b[39m=\u001b[39m df\u001b[39m.\u001b[39mloc[df[\u001b[39m'\u001b[39m\u001b[39mCountry\u001b[39m\u001b[39m'\u001b[39m] \u001b[39m==\u001b[39m highlight_country]\n\u001b[1;32m---> 16\u001b[0m folium\u001b[39m.\u001b[39mMarker(location\u001b[39m=\u001b[39m[highlighted_country[\u001b[39m'\u001b[39;49m\u001b[39mLatitude\u001b[39;49m\u001b[39m'\u001b[39;49m]\u001b[39m.\u001b[39mitem(), highlighted_country[\u001b[39m'\u001b[39m\u001b[39mLongitude\u001b[39m\u001b[39m'\u001b[39m]\u001b[39m.\u001b[39mitem()],\n\u001b[0;32m     17\u001b[0m               icon\u001b[39m=\u001b[39mfolium\u001b[39m.\u001b[39mIcon(color\u001b[39m=\u001b[39m\u001b[39m'\u001b[39m\u001b[39mred\u001b[39m\u001b[39m'\u001b[39m, icon\u001b[39m=\u001b[39m\u001b[39m'\u001b[39m\u001b[39minfo-sign\u001b[39m\u001b[39m'\u001b[39m))\u001b[39m.\u001b[39madd_to(m)\n\u001b[0;32m     19\u001b[0m folium\u001b[39m.\u001b[39mLayerControl()\u001b[39m.\u001b[39madd_to(m)\n\u001b[0;32m     20\u001b[0m m\n",
      "File \u001b[1;32m~\\AppData\\Local\\Packages\\PythonSoftwareFoundation.Python.3.10_qbz5n2kfra8p0\\LocalCache\\local-packages\\Python310\\site-packages\\pandas\\core\\frame.py:3805\u001b[0m, in \u001b[0;36mDataFrame.__getitem__\u001b[1;34m(self, key)\u001b[0m\n\u001b[0;32m   3803\u001b[0m \u001b[39mif\u001b[39;00m \u001b[39mself\u001b[39m\u001b[39m.\u001b[39mcolumns\u001b[39m.\u001b[39mnlevels \u001b[39m>\u001b[39m \u001b[39m1\u001b[39m:\n\u001b[0;32m   3804\u001b[0m     \u001b[39mreturn\u001b[39;00m \u001b[39mself\u001b[39m\u001b[39m.\u001b[39m_getitem_multilevel(key)\n\u001b[1;32m-> 3805\u001b[0m indexer \u001b[39m=\u001b[39m \u001b[39mself\u001b[39;49m\u001b[39m.\u001b[39;49mcolumns\u001b[39m.\u001b[39;49mget_loc(key)\n\u001b[0;32m   3806\u001b[0m \u001b[39mif\u001b[39;00m is_integer(indexer):\n\u001b[0;32m   3807\u001b[0m     indexer \u001b[39m=\u001b[39m [indexer]\n",
      "File \u001b[1;32m~\\AppData\\Local\\Packages\\PythonSoftwareFoundation.Python.3.10_qbz5n2kfra8p0\\LocalCache\\local-packages\\Python310\\site-packages\\pandas\\core\\indexes\\base.py:3805\u001b[0m, in \u001b[0;36mIndex.get_loc\u001b[1;34m(self, key, method, tolerance)\u001b[0m\n\u001b[0;32m   3803\u001b[0m     \u001b[39mreturn\u001b[39;00m \u001b[39mself\u001b[39m\u001b[39m.\u001b[39m_engine\u001b[39m.\u001b[39mget_loc(casted_key)\n\u001b[0;32m   3804\u001b[0m \u001b[39mexcept\u001b[39;00m \u001b[39mKeyError\u001b[39;00m \u001b[39mas\u001b[39;00m err:\n\u001b[1;32m-> 3805\u001b[0m     \u001b[39mraise\u001b[39;00m \u001b[39mKeyError\u001b[39;00m(key) \u001b[39mfrom\u001b[39;00m \u001b[39merr\u001b[39;00m\n\u001b[0;32m   3806\u001b[0m \u001b[39mexcept\u001b[39;00m \u001b[39mTypeError\u001b[39;00m:\n\u001b[0;32m   3807\u001b[0m     \u001b[39m# If we have a listlike key, _check_indexing_error will raise\u001b[39;00m\n\u001b[0;32m   3808\u001b[0m     \u001b[39m#  InvalidIndexError. Otherwise we fall through and re-raise\u001b[39;00m\n\u001b[0;32m   3809\u001b[0m     \u001b[39m#  the TypeError.\u001b[39;00m\n\u001b[0;32m   3810\u001b[0m     \u001b[39mself\u001b[39m\u001b[39m.\u001b[39m_check_indexing_error(key)\n",
      "\u001b[1;31mKeyError\u001b[0m: 'Latitude'"
     ]
    }
   ],
   "source": [
    "highlight_country = 'United States'\n",
    "folium.Choropleth(\n",
    "    geo_data=world_geojson,\n",
    "    name='choropleth',\n",
    "    data=df,\n",
    "    columns=['Country', 'Frequency'],\n",
    "    key_on='feature.properties.name',\n",
    "    fill_color='YlGn',\n",
    "    fill_opacity=0.7,\n",
    "    line_opacity=0.2,\n",
    "    legend_name='Frequency'\n",
    ").add_to(m)\n",
    "\n",
    "# Highlight the specific country\n",
    "highlighted_country = df.loc[df['Country'] == highlight_country]\n",
    "folium.Marker(location=[highlighted_country['Latitude'].item(), highlighted_country['Longitude'].item()],\n",
    "              icon=folium.Icon(color='red', icon='info-sign')).add_to(m)\n",
    "\n",
    "folium.LayerControl().add_to(m)\n",
    "m"
   ]
  },
  {
   "cell_type": "code",
   "execution_count": 5,
   "metadata": {},
   "outputs": [
    {
     "data": {
      "text/html": [
       "<div style=\"width:100%;\"><div style=\"position:relative;width:100%;height:0;padding-bottom:60%;\"><span style=\"color:#565656\">Make this Notebook Trusted to load map: File -> Trust Notebook</span><iframe srcdoc=\"&lt;!DOCTYPE html&gt;\n",
       "&lt;html&gt;\n",
       "&lt;head&gt;\n",
       "    \n",
       "    &lt;meta http-equiv=&quot;content-type&quot; content=&quot;text/html; charset=UTF-8&quot; /&gt;\n",
       "    \n",
       "        &lt;script&gt;\n",
       "            L_NO_TOUCH = false;\n",
       "            L_DISABLE_3D = false;\n",
       "        &lt;/script&gt;\n",
       "    \n",
       "    &lt;style&gt;html, body {width: 100%;height: 100%;margin: 0;padding: 0;}&lt;/style&gt;\n",
       "    &lt;style&gt;#map {position:absolute;top:0;bottom:0;right:0;left:0;}&lt;/style&gt;\n",
       "    &lt;script src=&quot;https://cdn.jsdelivr.net/npm/leaflet@1.9.3/dist/leaflet.js&quot;&gt;&lt;/script&gt;\n",
       "    &lt;script src=&quot;https://code.jquery.com/jquery-1.12.4.min.js&quot;&gt;&lt;/script&gt;\n",
       "    &lt;script src=&quot;https://cdn.jsdelivr.net/npm/bootstrap@5.2.2/dist/js/bootstrap.bundle.min.js&quot;&gt;&lt;/script&gt;\n",
       "    &lt;script src=&quot;https://cdnjs.cloudflare.com/ajax/libs/Leaflet.awesome-markers/2.0.2/leaflet.awesome-markers.js&quot;&gt;&lt;/script&gt;\n",
       "    &lt;link rel=&quot;stylesheet&quot; href=&quot;https://cdn.jsdelivr.net/npm/leaflet@1.9.3/dist/leaflet.css&quot;/&gt;\n",
       "    &lt;link rel=&quot;stylesheet&quot; href=&quot;https://cdn.jsdelivr.net/npm/bootstrap@5.2.2/dist/css/bootstrap.min.css&quot;/&gt;\n",
       "    &lt;link rel=&quot;stylesheet&quot; href=&quot;https://netdna.bootstrapcdn.com/bootstrap/3.0.0/css/bootstrap.min.css&quot;/&gt;\n",
       "    &lt;link rel=&quot;stylesheet&quot; href=&quot;https://cdn.jsdelivr.net/npm/@fortawesome/fontawesome-free@6.2.0/css/all.min.css&quot;/&gt;\n",
       "    &lt;link rel=&quot;stylesheet&quot; href=&quot;https://cdnjs.cloudflare.com/ajax/libs/Leaflet.awesome-markers/2.0.2/leaflet.awesome-markers.css&quot;/&gt;\n",
       "    &lt;link rel=&quot;stylesheet&quot; href=&quot;https://cdn.jsdelivr.net/gh/python-visualization/folium/folium/templates/leaflet.awesome.rotate.min.css&quot;/&gt;\n",
       "    \n",
       "            &lt;meta name=&quot;viewport&quot; content=&quot;width=device-width,\n",
       "                initial-scale=1.0, maximum-scale=1.0, user-scalable=no&quot; /&gt;\n",
       "            &lt;style&gt;\n",
       "                #map_69caec356fb131aac7c9ca4c0c984056 {\n",
       "                    position: relative;\n",
       "                    width: 100.0%;\n",
       "                    height: 100.0%;\n",
       "                    left: 0.0%;\n",
       "                    top: 0.0%;\n",
       "                }\n",
       "                .leaflet-container { font-size: 1rem; }\n",
       "            &lt;/style&gt;\n",
       "        \n",
       "&lt;/head&gt;\n",
       "&lt;body&gt;\n",
       "    \n",
       "    \n",
       "            &lt;div class=&quot;folium-map&quot; id=&quot;map_69caec356fb131aac7c9ca4c0c984056&quot; &gt;&lt;/div&gt;\n",
       "        \n",
       "&lt;/body&gt;\n",
       "&lt;script&gt;\n",
       "    \n",
       "    \n",
       "            var map_69caec356fb131aac7c9ca4c0c984056 = L.map(\n",
       "                &quot;map_69caec356fb131aac7c9ca4c0c984056&quot;,\n",
       "                {\n",
       "                    center: [37.7749, -122.4194],\n",
       "                    crs: L.CRS.EPSG3857,\n",
       "                    zoom: 12,\n",
       "                    zoomControl: true,\n",
       "                    preferCanvas: false,\n",
       "                }\n",
       "            );\n",
       "\n",
       "            \n",
       "\n",
       "        \n",
       "    \n",
       "            var tile_layer_1ac993ae113fe6f556209dc3e93f2c16 = L.tileLayer(\n",
       "                &quot;https://{s}.tile.openstreetmap.org/{z}/{x}/{y}.png&quot;,\n",
       "                {&quot;attribution&quot;: &quot;Data by \\u0026copy; \\u003ca target=\\&quot;_blank\\&quot; href=\\&quot;http://openstreetmap.org\\&quot;\\u003eOpenStreetMap\\u003c/a\\u003e, under \\u003ca target=\\&quot;_blank\\&quot; href=\\&quot;http://www.openstreetmap.org/copyright\\&quot;\\u003eODbL\\u003c/a\\u003e.&quot;, &quot;detectRetina&quot;: false, &quot;maxNativeZoom&quot;: 18, &quot;maxZoom&quot;: 18, &quot;minZoom&quot;: 0, &quot;noWrap&quot;: false, &quot;opacity&quot;: 1, &quot;subdomains&quot;: &quot;abc&quot;, &quot;tms&quot;: false}\n",
       "            ).addTo(map_69caec356fb131aac7c9ca4c0c984056);\n",
       "        \n",
       "    \n",
       "            var feature_group_caea42203120593e45d94e635120d923 = L.featureGroup(\n",
       "                {}\n",
       "            ).addTo(map_69caec356fb131aac7c9ca4c0c984056);\n",
       "        \n",
       "    \n",
       "            var marker_10747ec933c7d874c801ef7c1d9117f1 = L.marker(\n",
       "                [37.9749, -122.4194],\n",
       "                {}\n",
       "            ).addTo(feature_group_caea42203120593e45d94e635120d923);\n",
       "        \n",
       "    \n",
       "        var popup_7a1fd12a5e696d156b4606635a016adc = L.popup({&quot;maxWidth&quot;: &quot;100%&quot;});\n",
       "\n",
       "        \n",
       "            \n",
       "                var html_f4c712cfdd4abee976f13af18c1eb19b = $(`&lt;div id=&quot;html_f4c712cfdd4abee976f13af18c1eb19b&quot; style=&quot;width: 100.0%; height: 100.0%;&quot;&gt;Richmond&lt;/div&gt;`)[0];\n",
       "                popup_7a1fd12a5e696d156b4606635a016adc.setContent(html_f4c712cfdd4abee976f13af18c1eb19b);\n",
       "            \n",
       "        \n",
       "\n",
       "        marker_10747ec933c7d874c801ef7c1d9117f1.bindPopup(popup_7a1fd12a5e696d156b4606635a016adc)\n",
       "        ;\n",
       "\n",
       "        \n",
       "    \n",
       "    \n",
       "            var marker_2aa7f31d43b5a9652045dc877e61dda8 = L.marker(\n",
       "                [37.8749, -122.4194],\n",
       "                {}\n",
       "            ).addTo(feature_group_caea42203120593e45d94e635120d923);\n",
       "        \n",
       "    \n",
       "        var popup_74ce8c05b403d83ee00bd585d0c5d124 = L.popup({&quot;maxWidth&quot;: &quot;100%&quot;});\n",
       "\n",
       "        \n",
       "            \n",
       "                var html_a5956f34d03c884e8ddaa409b91df890 = $(`&lt;div id=&quot;html_a5956f34d03c884e8ddaa409b91df890&quot; style=&quot;width: 100.0%; height: 100.0%;&quot;&gt;Berkeley&lt;/div&gt;`)[0];\n",
       "                popup_74ce8c05b403d83ee00bd585d0c5d124.setContent(html_a5956f34d03c884e8ddaa409b91df890);\n",
       "            \n",
       "        \n",
       "\n",
       "        marker_2aa7f31d43b5a9652045dc877e61dda8.bindPopup(popup_74ce8c05b403d83ee00bd585d0c5d124)\n",
       "        ;\n",
       "\n",
       "        \n",
       "    \n",
       "    \n",
       "            var marker_5cd8d05caf2ae23310bd737ea2e57187 = L.marker(\n",
       "                [37.8749, -122.5194],\n",
       "                {}\n",
       "            ).addTo(feature_group_caea42203120593e45d94e635120d923);\n",
       "        \n",
       "    \n",
       "        var popup_010b8f21a4861885888a8f5771dc2145 = L.popup({&quot;maxWidth&quot;: &quot;100%&quot;});\n",
       "\n",
       "        \n",
       "            \n",
       "                var html_442b1f1619a00c652c450051df585f0f = $(`&lt;div id=&quot;html_442b1f1619a00c652c450051df585f0f&quot; style=&quot;width: 100.0%; height: 100.0%;&quot;&gt;Oakland&lt;/div&gt;`)[0];\n",
       "                popup_010b8f21a4861885888a8f5771dc2145.setContent(html_442b1f1619a00c652c450051df585f0f);\n",
       "            \n",
       "        \n",
       "\n",
       "        marker_5cd8d05caf2ae23310bd737ea2e57187.bindPopup(popup_010b8f21a4861885888a8f5771dc2145)\n",
       "        ;\n",
       "\n",
       "        \n",
       "    \n",
       "    \n",
       "            var marker_3c9be1f07b61dafa7f0c849c1657e038 = L.marker(\n",
       "                [37.7749, -122.4194],\n",
       "                {}\n",
       "            ).addTo(feature_group_caea42203120593e45d94e635120d923);\n",
       "        \n",
       "    \n",
       "        var popup_44832c7e11bf1e8d33f44e093693c8d3 = L.popup({&quot;maxWidth&quot;: &quot;100%&quot;});\n",
       "\n",
       "        \n",
       "            \n",
       "                var html_653d10b9161cb4ab02f366e132e7b3ca = $(`&lt;div id=&quot;html_653d10b9161cb4ab02f366e132e7b3ca&quot; style=&quot;width: 100.0%; height: 100.0%;&quot;&gt;San Francisco&lt;/div&gt;`)[0];\n",
       "                popup_44832c7e11bf1e8d33f44e093693c8d3.setContent(html_653d10b9161cb4ab02f366e132e7b3ca);\n",
       "            \n",
       "        \n",
       "\n",
       "        marker_3c9be1f07b61dafa7f0c849c1657e038.bindPopup(popup_44832c7e11bf1e8d33f44e093693c8d3)\n",
       "        ;\n",
       "\n",
       "        \n",
       "    \n",
       "    \n",
       "            var marker_8b12b448fad636d022ade3225ed77908 = L.marker(\n",
       "                [37.7749, -122.5194],\n",
       "                {}\n",
       "            ).addTo(feature_group_caea42203120593e45d94e635120d923);\n",
       "        \n",
       "    \n",
       "        var popup_e92cb7e0c1978e852ce1fff6a953e084 = L.popup({&quot;maxWidth&quot;: &quot;100%&quot;});\n",
       "\n",
       "        \n",
       "            \n",
       "                var html_c427b5d6ce3a3a930a1c354791bdeb2f = $(`&lt;div id=&quot;html_c427b5d6ce3a3a930a1c354791bdeb2f&quot; style=&quot;width: 100.0%; height: 100.0%;&quot;&gt;Daly City&lt;/div&gt;`)[0];\n",
       "                popup_e92cb7e0c1978e852ce1fff6a953e084.setContent(html_c427b5d6ce3a3a930a1c354791bdeb2f);\n",
       "            \n",
       "        \n",
       "\n",
       "        marker_8b12b448fad636d022ade3225ed77908.bindPopup(popup_e92cb7e0c1978e852ce1fff6a953e084)\n",
       "        ;\n",
       "\n",
       "        \n",
       "    \n",
       "    \n",
       "            var layer_control_3bdc29afe6d34e7f53a4e0046b5e1a81 = {\n",
       "                base_layers : {\n",
       "                    &quot;openstreetmap&quot; : tile_layer_1ac993ae113fe6f556209dc3e93f2c16,\n",
       "                },\n",
       "                overlays :  {\n",
       "                    &quot;Top 5&quot; : feature_group_caea42203120593e45d94e635120d923,\n",
       "                },\n",
       "            };\n",
       "            L.control.layers(\n",
       "                layer_control_3bdc29afe6d34e7f53a4e0046b5e1a81.base_layers,\n",
       "                layer_control_3bdc29afe6d34e7f53a4e0046b5e1a81.overlays,\n",
       "                {&quot;autoZIndex&quot;: true, &quot;collapsed&quot;: true, &quot;position&quot;: &quot;topright&quot;}\n",
       "            ).addTo(map_69caec356fb131aac7c9ca4c0c984056);\n",
       "        \n",
       "&lt;/script&gt;\n",
       "&lt;/html&gt;\" style=\"position:absolute;width:100%;height:100%;left:0;top:0;border:none !important;\" allowfullscreen webkitallowfullscreen mozallowfullscreen></iframe></div></div>"
      ],
      "text/plain": [
       "<folium.folium.Map at 0x1c84b915b10>"
      ]
     },
     "execution_count": 5,
     "metadata": {},
     "output_type": "execute_result"
    }
   ],
   "source": [
    "import folium\n",
    "\n",
    "# create a map object\n",
    "m = folium.Map(location=[37.7749, -122.4194], zoom_start=12)\n",
    "\n",
    "# add all the markers for the locations\n",
    "# folium.Marker(location=[37.7749, -122.4194], popup='San Francisco').add_to(m)\n",
    "# folium.Marker(location=[37.7749, -122.5194], popup='Daly City').add_to(m)\n",
    "# folium.Marker(location=[37.6749, -122.4194], popup='San Bruno').add_to(m)\n",
    "# folium.Marker(location=[37.8749, -122.4194], popup='Berkeley').add_to(m)\n",
    "# folium.Marker(location=[37.9749, -122.4194], popup='Richmond').add_to(m)\n",
    "# folium.Marker(location=[37.8749, -122.5194], popup='Oakland').add_to(m)\n",
    "\n",
    "# sort the locations based on some criteria (e.g., proximity to city center)\n",
    "sorted_locations = sorted([(37.7749, -122.4194, 'San Francisco'),\n",
    "                           (37.7749, -122.5194, 'Daly City'),\n",
    "                           (37.6749, -122.4194, 'San Bruno'),\n",
    "                           (37.8749, -122.4194, 'Berkeley'),\n",
    "                           (37.9749, -122.4194, 'Richmond'),\n",
    "                           (37.8749, -122.5194, 'Oakland')], key=lambda x: x[0], reverse=True)[:5]\n",
    "\n",
    "# create a feature group for the top 5 markers\n",
    "top5 = folium.FeatureGroup(name='Top 5')\n",
    "for loc in sorted_locations:\n",
    "    folium.Marker(location=[loc[0], loc[1]], popup=loc[2]).add_to(top5)\n",
    "\n",
    "# add the top 5 feature group to the map\n",
    "m.add_child(top5)\n",
    "\n",
    "# add a legend to the map\n",
    "folium.LayerControl().add_to(m)\n",
    "\n",
    "# display the map\n",
    "m\n"
   ]
  },
  {
   "cell_type": "code",
   "execution_count": 6,
   "metadata": {},
   "outputs": [],
   "source": [
    "country_dict = {'United States': 10, 'Canada': 5, 'Mexico': 8, 'Brazil': 2, 'Argentina': 7}\n",
    "country_dict = {k: v for k, v in sorted(country_dict.items(), key=lambda item: item[1], reverse=True)}"
   ]
  },
  {
   "cell_type": "code",
   "execution_count": 7,
   "metadata": {},
   "outputs": [
    {
     "data": {
      "text/plain": [
       "{'United States': 10, 'Mexico': 8, 'Argentina': 7, 'Canada': 5, 'Brazil': 2}"
      ]
     },
     "execution_count": 7,
     "metadata": {},
     "output_type": "execute_result"
    }
   ],
   "source": [
    "country_dict"
   ]
  },
  {
   "cell_type": "code",
   "execution_count": 1,
   "metadata": {},
   "outputs": [
    {
     "ename": "SystemExit",
     "evalue": "0",
     "output_type": "error",
     "traceback": [
      "An exception has occurred, use %tb to see the full traceback.\n",
      "\u001b[1;31mSystemExit\u001b[0m\u001b[1;31m:\u001b[0m 0\n"
     ]
    },
    {
     "name": "stderr",
     "output_type": "stream",
     "text": [
      "C:\\Users\\aingt\\AppData\\Local\\Packages\\PythonSoftwareFoundation.Python.3.10_qbz5n2kfra8p0\\LocalCache\\local-packages\\Python310\\site-packages\\IPython\\core\\interactiveshell.py:3450: UserWarning: To exit: use 'exit', 'quit', or Ctrl-D.\n",
      "  warn(\"To exit: use 'exit', 'quit', or Ctrl-D.\", stacklevel=1)\n"
     ]
    }
   ],
   "source": [
    "import sys\n",
    "from PyQt5.QtCore import *\n",
    "from PyQt5.QtGui import *\n",
    "from PyQt5.QtWidgets import *\n",
    "from PyQt5.QtWebEngineWidgets import *\n",
    "\n",
    "class Browser(QMainWindow):\n",
    "    def __init__(self):\n",
    "        super().__init__()\n",
    "\n",
    "        # Create the web view\n",
    "        self.view = QWebEngineView()\n",
    "        self.setCentralWidget(self.view)\n",
    "\n",
    "        # Create the toolbar\n",
    "        toolbar = QToolBar()\n",
    "        self.addToolBar(toolbar)\n",
    "\n",
    "        # Add the back button to the toolbar\n",
    "        back_button = QAction(QIcon('back.png'), 'Back', self)\n",
    "        back_button.triggered.connect(self.view.back)\n",
    "        toolbar.addAction(back_button)\n",
    "\n",
    "        # Add the forward button to the toolbar\n",
    "        forward_button = QAction(QIcon('forward.png'), 'Forward', self)\n",
    "        forward_button.triggered.connect(self.view.forward)\n",
    "        toolbar.addAction(forward_button)\n",
    "\n",
    "        # Add the reload button to the toolbar\n",
    "        reload_button = QAction(QIcon('reload.png'), 'Reload', self)\n",
    "        reload_button.triggered.connect(self.view.reload)\n",
    "        toolbar.addAction(reload_button)\n",
    "\n",
    "        # Add the stop button to the toolbar\n",
    "        stop_button = QAction(QIcon('stop.png'), 'Stop', self)\n",
    "        stop_button.triggered.connect(self.view.stop)\n",
    "        toolbar.addAction(stop_button)\n",
    "\n",
    "        # Set the window properties\n",
    "        self.setWindowTitle('Web Browser')\n",
    "        self.setGeometry(100, 100, 800, 600)\n",
    "\n",
    "    def load_url(self, url):\n",
    "        self.view.load(QUrl(url))\n",
    "\n",
    "if __name__ == '__main__':\n",
    "    app = QApplication(sys.argv)\n",
    "    browser = Browser()\n",
    "    browser.show()\n",
    "    browser.load_url('https://www.google.com')\n",
    "    sys.exit(app.exec_())\n"
   ]
  },
  {
   "cell_type": "code",
   "execution_count": 1,
   "metadata": {},
   "outputs": [
    {
     "ename": "SystemExit",
     "evalue": "0",
     "output_type": "error",
     "traceback": [
      "An exception has occurred, use %tb to see the full traceback.\n",
      "\u001b[1;31mSystemExit\u001b[0m\u001b[1;31m:\u001b[0m 0\n"
     ]
    },
    {
     "name": "stderr",
     "output_type": "stream",
     "text": [
      "C:\\Users\\aingt\\AppData\\Local\\Packages\\PythonSoftwareFoundation.Python.3.10_qbz5n2kfra8p0\\LocalCache\\local-packages\\Python310\\site-packages\\IPython\\core\\interactiveshell.py:3450: UserWarning: To exit: use 'exit', 'quit', or Ctrl-D.\n",
      "  warn(\"To exit: use 'exit', 'quit', or Ctrl-D.\", stacklevel=1)\n"
     ]
    }
   ],
   "source": [
    "import sys\n",
    "from PyQt5.QtCore import QUrl\n",
    "from PyQt5.QtWidgets import QApplication, QMainWindow, QLineEdit, QPushButton\n",
    "from PyQt5.QtWebEngineWidgets import QWebEngineView\n",
    "\n",
    "\n",
    "class BrowserWindow(QMainWindow):\n",
    "    def __init__(self):\n",
    "        super().__init__()\n",
    "\n",
    "        self.setWindowTitle(\"Web Browser\")\n",
    "        self.setGeometry(100, 100, 800, 600)\n",
    "\n",
    "        self.url_input = QLineEdit(self)\n",
    "        self.url_input.move(10, 10)\n",
    "        self.url_input.resize(600, 30)\n",
    "\n",
    "        self.go_button = QPushButton(\"Go\", self)\n",
    "        self.go_button.move(620, 10)\n",
    "        self.go_button.clicked.connect(self.load_url)\n",
    "\n",
    "        self.web_view = QWebEngineView(self)\n",
    "        self.web_view.move(10, 50)\n",
    "        self.web_view.resize(780, 540)\n",
    "\n",
    "    def load_url(self):\n",
    "        url = self.url_input.text()\n",
    "        self.web_view.load(QUrl(url))\n",
    "\n",
    "\n",
    "if __name__ == \"__main__\":\n",
    "    app = QApplication(sys.argv)\n",
    "\n",
    "    browser_window = BrowserWindow()\n",
    "    browser_window.show()\n",
    "\n",
    "    sys.exit(app.exec_())\n"
   ]
  },
  {
   "cell_type": "code",
   "execution_count": null,
   "metadata": {},
   "outputs": [],
   "source": []
  }
 ],
 "metadata": {
  "kernelspec": {
   "display_name": "Python 3",
   "language": "python",
   "name": "python3"
  },
  "language_info": {
   "codemirror_mode": {
    "name": "ipython",
    "version": 3
   },
   "file_extension": ".py",
   "mimetype": "text/x-python",
   "name": "python",
   "nbconvert_exporter": "python",
   "pygments_lexer": "ipython3",
   "version": "3.10.10"
  },
  "orig_nbformat": 4
 },
 "nbformat": 4,
 "nbformat_minor": 2
}
