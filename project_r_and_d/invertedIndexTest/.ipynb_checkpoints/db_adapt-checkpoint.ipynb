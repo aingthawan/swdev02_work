{
 "cells": [
  {
   "cell_type": "code",
   "execution_count": 70,
   "id": "1e27f5af-59c0-4bb2-b6a3-eae149240181",
   "metadata": {},
   "outputs": [],
   "source": [
    "import re\n",
    "import spacy\n",
    "from nltk.corpus import stopwords\n",
    "\n",
    "class TextCleaners:\n",
    "    \"\"\"Designed for Inverted Indexing\"\"\"\n",
    "    def __init__(self):\n",
    "        self.nlp = spacy.load(\"en_core_web_sm\")\n",
    "        self.stop_words = set(stopwords.words('english'))\n",
    "\n",
    "    def normalize(self, raw_text):\n",
    "        \"\"\"Remove special characters and lowercase text\"\"\"\n",
    "        return re.sub(r\"(@[A-Za-z0-9]+)|([^0-9A-Za-z \\t])|(\\w+:\\/\\/\\S+)|^rt|http.+?\", \" \", raw_text.lower())\n",
    "\n",
    "    def remove_stopwords(self, raw_text):\n",
    "        \"\"\"Remove stopwords\"\"\"\n",
    "        words = [word for word in raw_text.split() if word not in self.stop_words]\n",
    "        return \" \".join(words)\n",
    "\n",
    "    def lemmatize(self, raw_text):\n",
    "        \"\"\"Perform lemmatization, return as a list of strings\"\"\"\n",
    "        doc = self.nlp(raw_text)\n",
    "        return [token.lemma_ for token in doc]\n",
    "\n",
    "    def clean(self, raw_text):\n",
    "        \"\"\"Clean text by normalizing, removing stopwords, and lemmatizing\"\"\"\n",
    "        raw_text = self.normalize(raw_text)\n",
    "        raw_text = self.remove_stopwords(raw_text)\n",
    "        return self.lemmatize(raw_text)   \n"
   ]
  },
  {
   "cell_type": "code",
   "execution_count": 71,
   "id": "e32604fd-9c41-403b-b9ce-46c0e6776398",
   "metadata": {},
   "outputs": [],
   "source": [
    "# a file for searching url from database and return the ranked url\n",
    "\n",
    "# from cleanRawText import *\n",
    "\n",
    "import sqlite3\n",
    "\n",
    "file_name = 'database_elt_test1.db'\n",
    "database_file = 'project\\database\\\\' + file_name\n",
    "\n",
    "class invertedIndexSearch:\n",
    "    \"\"\"class for searching the url from database, Inverted Indexing Style\"\"\"\n",
    "\n",
    "    def __init__(self, database_file):\n",
    "        \"\"\"initialize the database\"\"\"\n",
    "        self.tc = TextCleaners()\n",
    "        self.conn = sqlite3.connect(database_file)\n",
    "        self.curr = self.conn.cursor()\n",
    "\n",
    "    def queryCleaner(self, query):\n",
    "        \"\"\"clean the query from the user, return the clean query unrepeated list\"\"\"\n",
    "        clean_query = self.tc.clean(query)\n",
    "        # remove the repeated word\n",
    "        non_repeated_query = []\n",
    "        for word in clean_query:\n",
    "            if word not in non_repeated_query:\n",
    "                non_repeated_query.append(word)\n",
    "        return non_repeated_query\n",
    "\n",
    "    def getInvertedIndexDict(self, word_list):\n",
    "        list_temp = []\n",
    "        for word in word_list:\n",
    "            self.curr.execute(f\"SELECT * FROM Inverted_Index WHERE Word = '{word}'\")\n",
    "            dict_temp = self.curr.fetchone()\n",
    "            list_temp.append( list(eval(dict_temp[2]).keys()) )\n",
    "        return list_temp\n",
    "            \n",
    "    def get_common_id(self, lists):\n",
    "        common_data = set(lists[0])\n",
    "        for lst in lists[1:]:\n",
    "            common_data.intersection_update(set(lst))\n",
    "        return list(common_data)\n",
    "    \n",
    "    def search_full_process(self, user_query):\n",
    "        \"\"\"return a list of inverted index search web ID\"\"\"\n",
    "        print(\"Searching Query : \", user_query)\n",
    "        list_query = self.queryCleaner(user_query)\n",
    "        print(\"Cleaned Query : \", list_query)\n",
    "        temp_dict = self.getInvertedIndexDict(list_query)\n",
    "        print(\"Results : \")\n",
    "        return self.get_common_id(temp_dict)\n",
    "        \n",
    "        # return self.get_common_id(self.getInvertedIndexDict(self.queryCleaner(user_query)))\n",
    "        \n",
    "    def Link_from_ID(self, id_list):\n",
    "        \"\"\"return a url from id list\"\"\"\n",
    "        temp_list = []\n",
    "        for ids in id_list:\n",
    "            self.curr.execute(f\"SELECT URL FROM web_Data WHERE Web_ID = '{ids}'\")\n",
    "            temp_list.append(self.curr.fetchone())\n",
    "        return temp_list\n",
    "            \n",
    "            \n",
    "            \n",
    "        "
   ]
  },
  {
   "cell_type": "code",
   "execution_count": 72,
   "id": "74380fcb-b8dc-4da5-9d6e-cd6beaa534c0",
   "metadata": {},
   "outputs": [],
   "source": [
    "iis = invertedIndexSearch(file_name)"
   ]
  },
  {
   "cell_type": "code",
   "execution_count": 73,
   "id": "afe11320-6b41-4e97-be46-13afc70dff60",
   "metadata": {},
   "outputs": [
    {
     "name": "stdout",
     "output_type": "stream",
     "text": [
      "['digital', 'camera']\n"
     ]
    },
    {
     "data": {
      "text/plain": [
       "[1, 2, 3]"
      ]
     },
     "execution_count": 73,
     "metadata": {},
     "output_type": "execute_result"
    }
   ],
   "source": [
    "list_query = iis.queryCleaner(\"Digital Camera\")\n",
    "print(list_query)\n",
    "temp_dict = iis.getInvertedIndexDict(list_query)\n",
    "iis.get_common_id(temp_dict)"
   ]
  },
  {
   "cell_type": "code",
   "execution_count": 76,
   "id": "74a36b70-50ca-45e2-a1e4-54d74ae3230a",
   "metadata": {},
   "outputs": [
    {
     "name": "stdout",
     "output_type": "stream",
     "text": [
      "Searching Query :  Digital Camera\n",
      "Cleaned Query :  ['digital', 'camera']\n",
      "Results : \n"
     ]
    },
    {
     "data": {
      "text/plain": [
       "[1, 2, 3]"
      ]
     },
     "execution_count": 76,
     "metadata": {},
     "output_type": "execute_result"
    }
   ],
   "source": [
    "a = iis.search_full_process(\"Digital Camera\")\n",
    "a"
   ]
  },
  {
   "cell_type": "code",
   "execution_count": null,
   "id": "5638fd9a-4edb-4e02-b08e-c2cdacc9a6ae",
   "metadata": {},
   "outputs": [],
   "source": []
  },
  {
   "cell_type": "code",
   "execution_count": null,
   "id": "f64d9a9b-9dfc-4bbf-a593-b19da04464a9",
   "metadata": {},
   "outputs": [],
   "source": []
  }
 ],
 "metadata": {
  "kernelspec": {
   "display_name": "Python 3 (ipykernel)",
   "language": "python",
   "name": "python3"
  },
  "language_info": {
   "codemirror_mode": {
    "name": "ipython",
    "version": 3
   },
   "file_extension": ".py",
   "mimetype": "text/x-python",
   "name": "python",
   "nbconvert_exporter": "python",
   "pygments_lexer": "ipython3",
   "version": "3.9.13"
  }
 },
 "nbformat": 4,
 "nbformat_minor": 5
}
