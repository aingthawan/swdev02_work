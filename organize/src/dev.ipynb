{
 "cells": [
  {
   "cell_type": "code",
   "execution_count": null,
   "metadata": {},
   "outputs": [],
   "source": [
    "# dict of words and their frequency in a website\n",
    "all_words = {\"word1\": 1, \"word2\": 2, \"word3\": 3}\n",
    "all_words.keys()"
   ]
  },
  {
   "cell_type": "code",
   "execution_count": null,
   "metadata": {},
   "outputs": [],
   "source": [
    "words = list(all_words.keys())\n",
    "words"
   ]
  },
  {
   "cell_type": "code",
   "execution_count": null,
   "metadata": {},
   "outputs": [],
   "source": [
    "all_words1 = \",\".join(words) \n",
    "all_words1"
   ]
  },
  {
   "cell_type": "code",
   "execution_count": null,
   "metadata": {},
   "outputs": [],
   "source": [
    "all_words1.split(',')"
   ]
  },
  {
   "cell_type": "code",
   "execution_count": null,
   "metadata": {},
   "outputs": [],
   "source": [
    "from raw_manager import raw_manager\n",
    "from text_processor import text_processor\n",
    "\n",
    "starter = [\"https://petapixel.com/2023/03/03/apples-29-year-old-landmark-quicktake-100-camera-falters-in-2023/\",]\n",
    "\n",
    "class spiderman:\n",
    "    \n",
    "    def __init__(self):\n",
    "        self.rm = raw_manager(\"database\\\\raw.db\")\n",
    "        self.tp = text_processor()\n",
    "    \n",
    "    # def __del__(self):\n",
    "    #     del self.rm\n",
    "\n",
    "    def insert_new_raw(self, url, raw_text):\n",
    "        self.rm.insert_new(url, raw_text)\n",
    "\n",
    "    def crawl_link(self, url, depth, limit):\n",
    "        # check if depth is less than limit\n",
    "        if depth <= limit:\n",
    "            if self.tp.url_accessibility_check(url) and not self.rm.url_exist_check(url):\n",
    "                print(url)\n",
    "                # get raw text from url\n",
    "                raw_text = self.tp.get_raw_html(url)\n",
    "                self.insert_new_raw(url, raw_text)\n",
    "                # get all links from url\n",
    "                links = self.tp.scrape_all_urls(raw_text)\n",
    "                # for each link, crawl link\n",
    "                for link in links:\n",
    "                    self.crawl_link(link, depth + 1, limit)\n",
    "        else:\n",
    "            pass    \n",
    "    \n",
    "peter = spiderman()\n",
    "for url in starter:\n",
    "    peter.crawl_link(url, 0, 0)\n",
    "del peter"
   ]
  },
  {
   "cell_type": "code",
   "execution_count": null,
   "metadata": {},
   "outputs": [],
   "source": [
    "from text_processor import text_processor"
   ]
  },
  {
   "cell_type": "code",
   "execution_count": null,
   "metadata": {},
   "outputs": [],
   "source": [
    "tp = text_processor()"
   ]
  },
  {
   "cell_type": "code",
   "execution_count": null,
   "metadata": {},
   "outputs": [],
   "source": [
    "test_raw_html = \"https://fstoppers.com/reviews/review-new-fujifilm-instax-mini-12-camera-627478\""
   ]
  },
  {
   "cell_type": "code",
   "execution_count": null,
   "metadata": {},
   "outputs": [],
   "source": [
    "import requests\n",
    "tp.clean_raw(requests.get(test_raw_html).text)"
   ]
  },
  {
   "cell_type": "code",
   "execution_count": null,
   "metadata": {},
   "outputs": [],
   "source": [
    "all_url = tp.scrape_all_urls(requests.get(test_raw_html).text)\n",
    "all_url"
   ]
  },
  {
   "cell_type": "code",
   "execution_count": null,
   "metadata": {},
   "outputs": [],
   "source": [
    "tp.get_ref_domain(test_raw_html, all_url)"
   ]
  },
  {
   "cell_type": "code",
   "execution_count": null,
   "metadata": {},
   "outputs": [],
   "source": [
    "for url in all_url:\n",
    "    if not tp.domain_check(url, \"https://fstoppers.com/reviews/review-new-fujifilm-instax-mini-12-camera-627478\"):\n",
    "        print(tp.get_url_domain(url))"
   ]
  },
  {
   "cell_type": "code",
   "execution_count": null,
   "metadata": {},
   "outputs": [],
   "source": [
    "from data_transform import data_transform\n",
    "dt = data_transform(\"main_test.db\", \"raw_test.db\")"
   ]
  },
  {
   "cell_type": "code",
   "execution_count": null,
   "metadata": {},
   "outputs": [],
   "source": [
    "dt.direct_update_web(\"https://fstoppers.com/reviews/why-my-synology-nas-still-my-best-photographic-purchase-2023-627454\")"
   ]
  },
  {
   "cell_type": "code",
   "execution_count": null,
   "metadata": {},
   "outputs": [],
   "source": [
    "dt.direct_update_web(\"https://www.dpreview.com/articles/2708462822/choosing-a-camera-is-a-bigger-sensor-better?utm_source=self-desktop&utm_medium=marquee&utm_campaign=traffic_source\")"
   ]
  },
  {
   "cell_type": "code",
   "execution_count": null,
   "metadata": {},
   "outputs": [],
   "source": []
  },
  {
   "cell_type": "code",
   "execution_count": null,
   "metadata": {},
   "outputs": [],
   "source": [
    "del dt"
   ]
  },
  {
   "cell_type": "code",
   "execution_count": null,
   "metadata": {},
   "outputs": [],
   "source": []
  }
 ],
 "metadata": {
  "kernelspec": {
   "display_name": "Python 3",
   "language": "python",
   "name": "python3"
  },
  "language_info": {
   "codemirror_mode": {
    "name": "ipython",
    "version": 3
   },
   "file_extension": ".py",
   "mimetype": "text/x-python",
   "name": "python",
   "nbconvert_exporter": "python",
   "pygments_lexer": "ipython3",
   "version": "3.10.10"
  },
  "orig_nbformat": 4
 },
 "nbformat": 4,
 "nbformat_minor": 2
}
