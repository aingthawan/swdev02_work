{
 "cells": [
  {
   "cell_type": "code",
   "execution_count": null,
   "metadata": {},
   "outputs": [],
   "source": [
    "# dict of words and their frequency in a website\n",
    "all_words = {\"word1\": 1, \"word2\": 2, \"word3\": 3}\n",
    "all_words.keys()"
   ]
  },
  {
   "cell_type": "code",
   "execution_count": null,
   "metadata": {},
   "outputs": [],
   "source": [
    "words = list(all_words.keys())\n",
    "words"
   ]
  },
  {
   "cell_type": "code",
   "execution_count": null,
   "metadata": {},
   "outputs": [],
   "source": [
    "all_words1 = \",\".join(words) \n",
    "all_words1"
   ]
  },
  {
   "cell_type": "code",
   "execution_count": null,
   "metadata": {},
   "outputs": [],
   "source": [
    "all_words1.split(',')"
   ]
  },
  {
   "cell_type": "code",
   "execution_count": null,
   "metadata": {},
   "outputs": [],
   "source": [
    "from raw_manager import raw_manager\n",
    "from text_processor import text_processor\n",
    "\n",
    "starter = [\"https://petapixel.com/2023/03/03/apples-29-year-old-landmark-quicktake-100-camera-falters-in-2023/\",]\n",
    "\n",
    "class spiderman:\n",
    "    \n",
    "    def __init__(self):\n",
    "        self.rm = raw_manager(\"database\\\\raw.db\")\n",
    "        self.tp = text_processor()\n",
    "    \n",
    "    # def __del__(self):\n",
    "    #     del self.rm\n",
    "\n",
    "    def insert_new_raw(self, url, raw_text):\n",
    "        self.rm.insert_new(url, raw_text)\n",
    "\n",
    "    def crawl_link(self, url, depth, limit):\n",
    "        # check if depth is less than limit\n",
    "        if depth <= limit:\n",
    "            if self.tp.url_accessibility_check(url) and not self.rm.url_exist_check(url):\n",
    "                print(url)\n",
    "                # get raw text from url\n",
    "                raw_text = self.tp.get_raw_html(url)\n",
    "                self.insert_new_raw(url, raw_text)\n",
    "                # get all links from url\n",
    "                links = self.tp.scrape_all_urls(raw_text)\n",
    "                # for each link, crawl link\n",
    "                for link in links:\n",
    "                    self.crawl_link(link, depth + 1, limit)\n",
    "        else:\n",
    "            pass    \n",
    "    \n",
    "peter = spiderman()\n",
    "for url in starter:\n",
    "    peter.crawl_link(url, 0, 0)\n",
    "del peter"
   ]
  },
  {
   "cell_type": "code",
   "execution_count": null,
   "metadata": {},
   "outputs": [],
   "source": [
    "from text_processor import text_processor"
   ]
  },
  {
   "cell_type": "code",
   "execution_count": null,
   "metadata": {},
   "outputs": [],
   "source": [
    "tp = text_processor()"
   ]
  },
  {
   "cell_type": "code",
   "execution_count": null,
   "metadata": {},
   "outputs": [],
   "source": [
    "test_raw_html = \"https://fstoppers.com/reviews/review-new-fujifilm-instax-mini-12-camera-627478\""
   ]
  },
  {
   "cell_type": "code",
   "execution_count": null,
   "metadata": {},
   "outputs": [],
   "source": [
    "import requests\n",
    "tp.clean_raw(requests.get(test_raw_html).text)"
   ]
  },
  {
   "cell_type": "code",
   "execution_count": null,
   "metadata": {},
   "outputs": [],
   "source": [
    "all_url = tp.scrape_all_urls(requests.get(test_raw_html).text)\n",
    "all_url"
   ]
  },
  {
   "cell_type": "code",
   "execution_count": null,
   "metadata": {},
   "outputs": [],
   "source": [
    "tp.get_ref_domain(test_raw_html, all_url)"
   ]
  },
  {
   "cell_type": "code",
   "execution_count": null,
   "metadata": {},
   "outputs": [],
   "source": [
    "for url in all_url:\n",
    "    if not tp.domain_check(url, \"https://fstoppers.com/reviews/review-new-fujifilm-instax-mini-12-camera-627478\"):\n",
    "        print(tp.get_url_domain(url))"
   ]
  },
  {
   "cell_type": "code",
   "execution_count": null,
   "metadata": {},
   "outputs": [],
   "source": [
    "from data_transform import data_transform\n",
    "dt = data_transform(\"database\\\\main_test.db\", \"database\\\\raw_test.db\")"
   ]
  },
  {
   "cell_type": "code",
   "execution_count": null,
   "metadata": {},
   "outputs": [],
   "source": [
    "urls = [\n",
    "    \"https://www.35mmc.com/category/reviews-experinces/slrs/page/16/\",\n",
    "    \"https://www.35mmc.com/10/03/2018/nikon-fm3a-review/\",\n",
    "    \"https://www.35mmc.com/12/09/2016/olympus-om4ti-review/\",\n",
    "    \"https://fstoppers.com/reviews/why-my-synology-nas-still-my-best-photographic-purchase-2023-627454\",\n",
    "    \"https://fstoppers.com/reviews/review-fujinon-xf-30mm-f28-lm-wr-macro-lens-626487\",\n",
    "    \"https://fstoppers.com/reviews/sigma-60-600mm-f45-63-dg-dn-os-sports-lens-sony-e-mount-worth-your-money-review-626405\",\n",
    "    \"https://www.dpreview.com/products/panasonic/slrs/panasonic_dcs5iix\",\n",
    "    \"https://www.dpreview.com/articles/4991115793/did-you-recently-get-a-drone-here-are-5-things-you-need-to-know\"\n",
    "]\n",
    "\n",
    "for url in urls:\n",
    "    print(url)\n",
    "    dt.direct_update_web(url)"
   ]
  },
  {
   "cell_type": "code",
   "execution_count": null,
   "metadata": {},
   "outputs": [],
   "source": [
    "del dt"
   ]
  },
  {
   "cell_type": "code",
   "execution_count": null,
   "metadata": {},
   "outputs": [],
   "source": [
    "from main_manager import main_manager\n",
    "mm = main_manager(\"main_test.db\")"
   ]
  },
  {
   "cell_type": "code",
   "execution_count": null,
   "metadata": {},
   "outputs": [],
   "source": [
    "temp_datarow = mm.fetch_data_by_url(\"https://fstoppers.com/reviews/why-my-synology-nas-still-my-best-photographic-purchase-2023-627454\")\n",
    "temp_datarow"
   ]
  },
  {
   "cell_type": "code",
   "execution_count": null,
   "metadata": {},
   "outputs": [],
   "source": [
    "mm.url_exist_check(\"https://fstoppers.com/reviews/why-my-synology-nas-still-my-best-photographic-purchase-2023-627454\")"
   ]
  },
  {
   "cell_type": "code",
   "execution_count": null,
   "metadata": {},
   "outputs": [],
   "source": [
    "mm.remove_web_data(temp_datarow['Web_ID'])"
   ]
  },
  {
   "cell_type": "code",
   "execution_count": null,
   "metadata": {},
   "outputs": [],
   "source": [
    "mm.uncount_ref_domain(temp_datarow['Ref_To'])"
   ]
  },
  {
   "cell_type": "code",
   "execution_count": null,
   "metadata": {},
   "outputs": [],
   "source": [
    "mm.remove_inverted_index(temp_datarow['Web_ID'], temp_datarow['All_Word'])"
   ]
  },
  {
   "cell_type": "code",
   "execution_count": null,
   "metadata": {},
   "outputs": [],
   "source": [
    "import sqlite3\n",
    "conn = sqlite3.connect(\"main_test.db\")\n",
    "curr = conn.cursor()"
   ]
  },
  {
   "cell_type": "code",
   "execution_count": null,
   "metadata": {},
   "outputs": [],
   "source": [
    "word = \"think\" \n",
    "curr.execute(\"SELECT inverted_dict FROM inverted_index WHERE word=?\", (word,))"
   ]
  },
  {
   "cell_type": "code",
   "execution_count": null,
   "metadata": {},
   "outputs": [],
   "source": [
    "data = curr.fetchone()"
   ]
  },
  {
   "cell_type": "code",
   "execution_count": null,
   "metadata": {},
   "outputs": [],
   "source": [
    "data = eval(data[0])\n",
    "data"
   ]
  },
  {
   "cell_type": "code",
   "execution_count": null,
   "metadata": {},
   "outputs": [],
   "source": [
    "data.pop(1)\n",
    "data"
   ]
  },
  {
   "cell_type": "code",
   "execution_count": null,
   "metadata": {},
   "outputs": [],
   "source": [
    "curr.execute(\"UPDATE inverted_index SET document_freq=?, inverted_dict=? WHERE Word=?\", (len(data), str(data), word))"
   ]
  },
  {
   "cell_type": "code",
   "execution_count": null,
   "metadata": {},
   "outputs": [],
   "source": [
    "conn.commit()"
   ]
  },
  {
   "cell_type": "code",
   "execution_count": 1,
   "metadata": {},
   "outputs": [
    {
     "name": "stderr",
     "output_type": "stream",
     "text": [
      "C:\\Users\\aingt\\AppData\\Local\\Packages\\PythonSoftwareFoundation.Python.3.10_qbz5n2kfra8p0\\LocalCache\\local-packages\\Python310\\site-packages\\tqdm\\auto.py:22: TqdmWarning: IProgress not found. Please update jupyter and ipywidgets. See https://ipywidgets.readthedocs.io/en/stable/user_install.html\n",
      "  from .autonotebook import tqdm as notebook_tqdm\n"
     ]
    }
   ],
   "source": [
    "from search import spaida_search"
   ]
  },
  {
   "cell_type": "code",
   "execution_count": 2,
   "metadata": {},
   "outputs": [],
   "source": [
    "ss = spaida_search(\"main_test.db\")"
   ]
  },
  {
   "cell_type": "code",
   "execution_count": 4,
   "metadata": {},
   "outputs": [
    {
     "data": {
      "text/plain": [
       "[{1: 8, 2: 24, 3: 4, 4: 22, 5: 8, 6: 10, 7: 2, 9: 4},\n",
       " {1: 14, 2: 9, 4: 42, 5: 11, 6: 1, 7: 9, 9: 5},\n",
       " {2: 146, 3: 25, 4: 130, 5: 52, 6: 12, 7: 16, 9: 19}]"
      ]
     },
     "execution_count": 4,
     "metadata": {},
     "output_type": "execute_result"
    }
   ],
   "source": [
    "ss.get_inverted_index([\"think\", \"buy\", \"camera\"])"
   ]
  },
  {
   "cell_type": "code",
   "execution_count": null,
   "metadata": {},
   "outputs": [],
   "source": [
    "lll = [{1: 8, 2: 24, 3: 4, 4: 22, 5: 8, 6: 10, 7: 2, 9: 4}, {1: 14, 2: 9, 4: 42, 5: 11, 6: 1, 7: 9, 9: 5}]"
   ]
  },
  {
   "cell_type": "code",
   "execution_count": null,
   "metadata": {},
   "outputs": [],
   "source": [
    "l = []\n",
    "for i in lll:\n",
    "    list(i.keys())\n",
    "    l.append(list(i.keys()))\n",
    "l"
   ]
  },
  {
   "cell_type": "code",
   "execution_count": null,
   "metadata": {},
   "outputs": [],
   "source": [
    "type(l[0])"
   ]
  },
  {
   "cell_type": "code",
   "execution_count": 15,
   "metadata": {},
   "outputs": [],
   "source": [
    "import sqlite3\n",
    "conn = sqlite3.connect(\"database\\\\raw_test.db\")\n",
    "curr = conn.cursor()"
   ]
  },
  {
   "cell_type": "code",
   "execution_count": 16,
   "metadata": {},
   "outputs": [],
   "source": [
    "curr.execute(\"INSERT INTO raw_data (url, raw_content) VALUES (?, ?)\", (\"https://www.35mmc.com/10/03/2018/nikon-fm3a-review/\", \"test\"))\n",
    "conn.commit()"
   ]
  },
  {
   "cell_type": "code",
   "execution_count": 17,
   "metadata": {},
   "outputs": [
    {
     "data": {
      "text/plain": [
       "<sqlite3.Cursor at 0x1d137da9bc0>"
      ]
     },
     "execution_count": 17,
     "metadata": {},
     "output_type": "execute_result"
    }
   ],
   "source": [
    "# fetch 1 row from raw table\n",
    "curr.execute(\"SELECT * FROM raw_data LIMIT 1\")"
   ]
  },
  {
   "cell_type": "code",
   "execution_count": 18,
   "metadata": {},
   "outputs": [],
   "source": [
    "new_row = curr.fetchone()"
   ]
  },
  {
   "cell_type": "code",
   "execution_count": 19,
   "metadata": {},
   "outputs": [
    {
     "data": {
      "text/plain": [
       "True"
      ]
     },
     "execution_count": 19,
     "metadata": {},
     "output_type": "execute_result"
    }
   ],
   "source": [
    "new_row is not None"
   ]
  },
  {
   "cell_type": "code",
   "execution_count": 20,
   "metadata": {},
   "outputs": [
    {
     "data": {
      "text/plain": [
       "('https://www.35mmc.com/10/03/2018/nikon-fm3a-review/', 'test')"
      ]
     },
     "execution_count": 20,
     "metadata": {},
     "output_type": "execute_result"
    }
   ],
   "source": [
    "new_row"
   ]
  },
  {
   "cell_type": "code",
   "execution_count": 21,
   "metadata": {},
   "outputs": [],
   "source": [
    "conn.close()"
   ]
  },
  {
   "cell_type": "code",
   "execution_count": null,
   "metadata": {},
   "outputs": [],
   "source": []
  }
 ],
 "metadata": {
  "kernelspec": {
   "display_name": "Python 3",
   "language": "python",
   "name": "python3"
  },
  "language_info": {
   "codemirror_mode": {
    "name": "ipython",
    "version": 3
   },
   "file_extension": ".py",
   "mimetype": "text/x-python",
   "name": "python",
   "nbconvert_exporter": "python",
   "pygments_lexer": "ipython3",
   "version": "3.10.10"
  },
  "orig_nbformat": 4
 },
 "nbformat": 4,
 "nbformat_minor": 2
}
